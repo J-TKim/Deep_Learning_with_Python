{
 "cells": [
  {
   "cell_type": "code",
   "execution_count": 1,
   "metadata": {},
   "outputs": [
    {
     "name": "stdout",
     "output_type": "stream",
     "text": [
      "1 Physical GPUs, 1 Logical GPUs\n"
     ]
    }
   ],
   "source": [
    "import tensorflow as tf\n",
    "\n",
    "gpus = tf.config.experimental.list_physical_devices('GPU')\n",
    "if gpus:\n",
    "  try:\n",
    "    # Currently, memory growth needs to be the same across GPUs\n",
    "    for gpu in gpus:\n",
    "      tf.config.experimental.set_memory_growth(gpu, True)\n",
    "    logical_gpus = tf.config.experimental.list_logical_devices('GPU')\n",
    "    print(len(gpus), \"Physical GPUs,\", len(logical_gpus), \"Logical GPUs\")\n",
    "  except RuntimeError as e:\n",
    "    # Memory growth must be set before GPUs have been initialized\n",
    "    print(e)"
   ]
  },
  {
   "cell_type": "code",
   "execution_count": 2,
   "metadata": {},
   "outputs": [],
   "source": [
    "from keras import Input, layers\n",
    "\n",
    "input_tensor = Input(shape = (32,)) # 텐서\n",
    "dense = layers.Dense(32, activation=\"relu\") # 함수처럼 사용하기 위해 층 객체를 만듭니다\n",
    "\n",
    "output_tensor = dense(input_tensor) # 텐서와 함께 층을 호출하면 텐서를 반환합니다"
   ]
  },
  {
   "cell_type": "code",
   "execution_count": 3,
   "metadata": {},
   "outputs": [
    {
     "name": "stdout",
     "output_type": "stream",
     "text": [
      "Model: \"model\"\n",
      "_________________________________________________________________\n",
      "Layer (type)                 Output Shape              Param #   \n",
      "=================================================================\n",
      "input_2 (InputLayer)         [(None, 64)]              0         \n",
      "_________________________________________________________________\n",
      "dense_4 (Dense)              (None, 32)                2080      \n",
      "_________________________________________________________________\n",
      "dense_5 (Dense)              (None, 32)                1056      \n",
      "_________________________________________________________________\n",
      "dense_6 (Dense)              (None, 10)                330       \n",
      "=================================================================\n",
      "Total params: 3,466\n",
      "Trainable params: 3,466\n",
      "Non-trainable params: 0\n",
      "_________________________________________________________________\n"
     ]
    }
   ],
   "source": [
    "from keras.models import Sequential, Model\n",
    "from keras import layers\n",
    "from keras import Input\n",
    "\n",
    "# Sequential 모델\n",
    "seq_model = Sequential()\n",
    "seq_model.add(layers.Dense(32, activation=\"relu\", input_shape = (64,)))\n",
    "seq_model.add(layers.Dense(32, activation=\"relu\"))\n",
    "seq_model.add(layers.Dense(10, activation=\"softmax\"))\n",
    "\n",
    "# 함수형 API로 만든 모델\n",
    "input_tensor = Input(shape=(64,))\n",
    "x = layers.Dense(32, activation=\"relu\")(input_tensor)\n",
    "x = layers.Dense(32, activation=\"relu\")(x)\n",
    "output_tensor = layers.Dense(10, activation=\"softmax\")(x)\n",
    "\n",
    "model = Model(input_tensor, output_tensor) # 입력과 출력 텐서를 지정하여 Model 클래스의 객체를 만듭니다\n",
    "\n",
    "model.summary()"
   ]
  },
  {
   "cell_type": "code",
   "execution_count": 5,
   "metadata": {},
   "outputs": [],
   "source": [
    "# 코드 7-1 2개의 입력을 가진 질문-응답 모델의 함수형 API 구현하기\n",
    "from keras.models import Model\n",
    "from keras import layers\n",
    "from keras import Input\n",
    "\n",
    "text_vocabulary_size = 10000\n",
    "question_vocabulary_size = 10000\n",
    "answer_vocabulary_size = 500\n",
    "\n",
    "text_input = Input(shape=(None,), dtype=\"int32\", name = \"text\") # 텍스트 입력은 길이가 정해지지 않은 정수 시퀀스입니다\n",
    "embedding_text = layers.Embedding(text_vocabulary_size, 64)(text_input) # 입력을 크기가 64인 벡터의 시퀀스로 임베딩합니다\n",
    "encoded_text = layers.LSTM(32)(embedding_text) # LSTM을 사용하여 이 벡터들을 하나의 벡터로 인코딩합니다\n",
    "\n",
    "\n",
    "question_input = Input(shape=(None,),\n",
    "                      dtype=\"int32\",\n",
    "                      name = \"question\") # 질문도 동일한 과정을 거칩니다(층 객체는 다릅니다)\n",
    "embedding_question = layers.Embedding(question_vocabulary_size, 32)(question_input)\n",
    "encoded_question = layers.LSTM(16)(embedding_question)\n",
    "\n",
    "concatenated = layers.concatenate([encoded_text, encoded_question],\n",
    "                                       axis = -1) # 인코딩된 질문과 텍스트를 연결합니다\n",
    "\n",
    "answer = layers.Dense(answer_vocabulary_size, activation=\"softmax\")(concatenated) # 소프트맥스 분류기를 추가합니다\n",
    "\n",
    "model = Model([text_input, question_input], answer) # 모델 객체를 만들고 2개의 입력과 출력을 주입합니다"
   ]
  },
  {
   "cell_type": "code",
   "execution_count": 6,
   "metadata": {},
   "outputs": [],
   "source": [
    "model.compile(loss = \"categorical_crossentropy\",\n",
    "             optimizer = \"rmsprop\",\n",
    "             metrics = [\"acc\"])"
   ]
  },
  {
   "cell_type": "code",
   "execution_count": 8,
   "metadata": {},
   "outputs": [],
   "source": [
    "# 코드 7-2 다중 입력 모델에 데이터 주입하기\n",
    "import numpy as np\n",
    "from keras.utils import to_categorical\n",
    "\n",
    "num_samples = 1000\n",
    "max_length = 100\n",
    "\n",
    "text = np.random.randint(1, text_vocabulary_size,\n",
    "                        size = (num_samples, max_length)) # 랜덤한 넘파이 데이털르 생성합니다\n",
    "question = np.random.randint(1, question_vocabulary_size,\n",
    "                            size = (num_samples, max_length))\n",
    "\n",
    "answers = np.random.randint(0, answer_vocabulary_size, size =num_samples)\n",
    "\n",
    "answers = to_categorical(answers) # 답은 정수가 아닌 원-핫 인코딩된 벡터입니다"
   ]
  },
  {
   "cell_type": "code",
   "execution_count": 9,
   "metadata": {},
   "outputs": [
    {
     "name": "stdout",
     "output_type": "stream",
     "text": [
      "Epoch 1/10\n",
      "8/8 [==============================] - 0s 9ms/step - acc: 0.0010 - loss: 6.2146\n",
      "Epoch 2/10\n",
      "8/8 [==============================] - 0s 9ms/step - acc: 0.0450 - loss: 6.1979\n",
      "Epoch 3/10\n",
      "8/8 [==============================] - 0s 9ms/step - acc: 0.0110 - loss: 6.1628\n",
      "Epoch 4/10\n",
      "8/8 [==============================] - 0s 9ms/step - acc: 0.0090 - loss: 6.0857\n",
      "Epoch 5/10\n",
      "8/8 [==============================] - 0s 8ms/step - acc: 0.0060 - loss: 6.0072\n",
      "Epoch 6/10\n",
      "8/8 [==============================] - 0s 8ms/step - acc: 0.0130 - loss: 5.8934\n",
      "Epoch 7/10\n",
      "8/8 [==============================] - 0s 8ms/step - acc: 0.0280 - loss: 5.7902\n",
      "Epoch 8/10\n",
      "8/8 [==============================] - 0s 8ms/step - acc: 0.0310 - loss: 5.6999\n",
      "Epoch 9/10\n",
      "8/8 [==============================] - 0s 8ms/step - acc: 0.0320 - loss: 5.6228\n",
      "Epoch 10/10\n",
      "8/8 [==============================] - 0s 8ms/step - acc: 0.0330 - loss: 5.5472\n"
     ]
    },
    {
     "data": {
      "text/plain": [
       "<tensorflow.python.keras.callbacks.History at 0x7f1193ae18d0>"
      ]
     },
     "execution_count": 9,
     "metadata": {},
     "output_type": "execute_result"
    }
   ],
   "source": [
    "model.fit([text, question], answers, epochs=10, batch_size=128) # 리스트 입력을 사용하여 학습합니다"
   ]
  },
  {
   "cell_type": "code",
   "execution_count": 12,
   "metadata": {},
   "outputs": [
    {
     "name": "stdout",
     "output_type": "stream",
     "text": [
      "Epoch 1/10\n",
      "8/8 [==============================] - 0s 9ms/step - acc: 0.0350 - loss: 5.5000\n",
      "Epoch 2/10\n",
      "8/8 [==============================] - 0s 9ms/step - acc: 0.0360 - loss: 5.4291\n",
      "Epoch 3/10\n",
      "8/8 [==============================] - 0s 9ms/step - acc: 0.0360 - loss: 5.3727\n",
      "Epoch 4/10\n",
      "8/8 [==============================] - 0s 8ms/step - acc: 0.0460 - loss: 5.3086\n",
      "Epoch 5/10\n",
      "8/8 [==============================] - 0s 8ms/step - acc: 0.0520 - loss: 5.2524\n",
      "Epoch 6/10\n",
      "8/8 [==============================] - 0s 8ms/step - acc: 0.0560 - loss: 5.2070\n",
      "Epoch 7/10\n",
      "8/8 [==============================] - 0s 8ms/step - acc: 0.0710 - loss: 5.1523\n",
      "Epoch 8/10\n",
      "8/8 [==============================] - 0s 8ms/step - acc: 0.0620 - loss: 5.1208\n",
      "Epoch 9/10\n",
      "8/8 [==============================] - 0s 8ms/step - acc: 0.0730 - loss: 5.0469\n",
      "Epoch 10/10\n",
      "8/8 [==============================] - 0s 8ms/step - acc: 0.0820 - loss: 5.0144\n"
     ]
    },
    {
     "data": {
      "text/plain": [
       "<tensorflow.python.keras.callbacks.History at 0x7f10d438aeb8>"
      ]
     },
     "execution_count": 12,
     "metadata": {},
     "output_type": "execute_result"
    }
   ],
   "source": [
    "model.fit({\"text\" : text, \"question\" : question}, answers,\n",
    "         epochs =10, batch_size=128) # 딕셔너리 입력을 사용하여 학습합니다(입력 이름을 지정했을 때만 사용할 수 있습니다)"
   ]
  },
  {
   "cell_type": "code",
   "execution_count": 16,
   "metadata": {},
   "outputs": [],
   "source": [
    "# 코드 7-3 3개의 출력을 가진 함수형 API 구현하기\n",
    "from keras import layers\n",
    "from keras import Input\n",
    "from keras.models import Model\n",
    "\n",
    "vocabulary_size = 50000\n",
    "num_income_groups = 10\n",
    "\n",
    "posts_input = Input(shape=(None,), dtype=\"int32\", name=\"posts\")\n",
    "embedded_posts = layers.Embedding(vocabulary_size, 256)(posts_input)\n",
    "x = layers.Conv1D(128, 5, activation=\"relu\")(embedded_posts)\n",
    "x = layers.MaxPooling1D(5)(x)\n",
    "x = layers.Conv1D(256, 5, activation=\"relu\")(x)\n",
    "x = layers.Conv1D(256, 5, activation=\"relu\")(x)\n",
    "x = layers.MaxPooling1D(5)(x)\n",
    "x = layers.Conv1D(256, 5, activation=\"relu\")(x)\n",
    "x = layers.Conv1D(256, 5, activation=\"relu\")(x)\n",
    "x = layers.GlobalMaxPooling1D()(x)\n",
    "x = layers.Dense(128, activation=\"relu\")(x)\n",
    "\n",
    "age_prediction = layers.Dense(1, name = \"age\")(x) # 출력층에 이름을 저장합니다\n",
    "income_prediction = layers.Dense(num_income_groups,\n",
    "                                activation=\"softmax\",\n",
    "                                name=\"income\")(x)\n",
    "gender_prediction = layers.Dense(1, activation=\"sigmoid\", name=\"gender\")(x)"
   ]
  },
  {
   "cell_type": "code",
   "execution_count": 18,
   "metadata": {},
   "outputs": [],
   "source": [
    "model = Model(posts_input,\n",
    "             [age_prediction, income_prediction, gender_prediction])"
   ]
  },
  {
   "cell_type": "code",
   "execution_count": 19,
   "metadata": {},
   "outputs": [],
   "source": [
    "# 코드 7-4 다중 출력 모델의 컴파일 옵션: 다중 손실\n",
    "model.compile(optimizer=\"rmsprop\",\n",
    "             loss = [\"mse\", \"categorical_crossentropy\", \"binary_crossentropy\"])"
   ]
  },
  {
   "cell_type": "code",
   "execution_count": 20,
   "metadata": {},
   "outputs": [],
   "source": [
    "# 위와 동일(출력층에 이름을 지정했을 때만 사용가능)\n",
    "model.compile(optimizer=\"rmsprop\",\n",
    "             loss = {\"age\" : \"mse\",\n",
    "                    \"income\" : \"categorical_crossentropy\",\n",
    "                    \"gender\" : \"binary_crossentropy\"})"
   ]
  },
  {
   "cell_type": "code",
   "execution_count": 26,
   "metadata": {},
   "outputs": [],
   "source": [
    "# 코드 7-5 다중 출력 모델의 컴파일 옵션 : 손실 가중치\n",
    "model.compile(optimizer=\"rmsprop\",\n",
    "             loss = [\"mse\", \"categorical_crossentropy\", \"binary_crossentropy\"],\n",
    "             loss_weights=[0.25, 1., 10.])"
   ]
  },
  {
   "cell_type": "code",
   "execution_count": 22,
   "metadata": {},
   "outputs": [],
   "source": [
    "# 위와 동일(출력층에 이름을 지정했을 때만 사용가능)\n",
    "model.compile(optimizer=\"rmsprop\",\n",
    "             loss = {\"age\" : \"mse\",\n",
    "                    \"income\" : \"categorical_crossentropy\",\n",
    "                    \"gender\" : \"binary_crossentropy\"},\n",
    "             loss_weights={\"age\" : 0.25,\n",
    "                          \"income\" : 1.,\n",
    "                          \"gender\" : 10.})"
   ]
  },
  {
   "cell_type": "code",
   "execution_count": 28,
   "metadata": {},
   "outputs": [
    {
     "ename": "NameError",
     "evalue": "name 'age_targets' is not defined",
     "output_type": "error",
     "traceback": [
      "\u001b[0;31m---------------------------------------------------------------------------\u001b[0m",
      "\u001b[0;31mNameError\u001b[0m                                 Traceback (most recent call last)",
      "\u001b[0;32m<ipython-input-28-b75d1e4f2034>\u001b[0m in \u001b[0;36m<module>\u001b[0;34m\u001b[0m\n\u001b[1;32m      1\u001b[0m \u001b[0;31m# 코드 7-6 다중 출력 모델에 데이터 주입하기\u001b[0m\u001b[0;34m\u001b[0m\u001b[0;34m\u001b[0m\u001b[0m\n\u001b[0;32m----> 2\u001b[0;31m model.fit(posts_input, [age_targets, income_targets, gender_targets],\n\u001b[0m\u001b[1;32m      3\u001b[0m          epochs = 10, batch_size = 64) # 리스트 안이 모두 넘파이 배열이라고 가정\n",
      "\u001b[0;31mNameError\u001b[0m: name 'age_targets' is not defined"
     ]
    }
   ],
   "source": [
    "# 코드 7-6 다중 출력 모델에 데이터 주입하기\n",
    "model.fit(posts, [age_targets, income_targets, gender_targets],\n",
    "         epochs = 10, batch_size = 64) # 리스트 안이 모두 넘파이 배열이라고 가정"
   ]
  },
  {
   "cell_type": "code",
   "execution_count": 29,
   "metadata": {},
   "outputs": [
    {
     "ename": "NameError",
     "evalue": "name 'posts' is not defined",
     "output_type": "error",
     "traceback": [
      "\u001b[0;31m---------------------------------------------------------------------------\u001b[0m",
      "\u001b[0;31mNameError\u001b[0m                                 Traceback (most recent call last)",
      "\u001b[0;32m<ipython-input-29-d006dac3cb78>\u001b[0m in \u001b[0;36m<module>\u001b[0;34m\u001b[0m\n\u001b[0;32m----> 1\u001b[0;31m model.fit(posts,\n\u001b[0m\u001b[1;32m      2\u001b[0m           {\"age\" : age_targets,\n\u001b[1;32m      3\u001b[0m            \u001b[0;34m\"income\"\u001b[0m \u001b[0;34m:\u001b[0m \u001b[0mincome_targets\u001b[0m\u001b[0;34m,\u001b[0m\u001b[0;34m\u001b[0m\u001b[0m\n\u001b[1;32m      4\u001b[0m            \"gender\" : gender_targets},\n\u001b[1;32m      5\u001b[0m          epochs = 10, batch_size = 64) # 리스트 안이 모두 넘파이 배열이라고 가정\n",
      "\u001b[0;31mNameError\u001b[0m: name 'posts' is not defined"
     ]
    }
   ],
   "source": [
    "model.fit(posts,\n",
    "          {\"age\" : age_targets,\n",
    "           \"income\" : income_targets,\n",
    "           \"gender\" : gender_targets},\n",
    "         epochs = 10, batch_size = 64) # 리스트 안이 모두 넘파이 배열이라고 가정"
   ]
  },
  {
   "cell_type": "code",
   "execution_count": null,
   "metadata": {},
   "outputs": [],
   "source": []
  }
 ],
 "metadata": {
  "kernelspec": {
   "display_name": "Python 3",
   "language": "python",
   "name": "python3"
  },
  "language_info": {
   "codemirror_mode": {
    "name": "ipython",
    "version": 3
   },
   "file_extension": ".py",
   "mimetype": "text/x-python",
   "name": "python",
   "nbconvert_exporter": "python",
   "pygments_lexer": "ipython3",
   "version": "3.5.2"
  }
 },
 "nbformat": 4,
 "nbformat_minor": 2
}
