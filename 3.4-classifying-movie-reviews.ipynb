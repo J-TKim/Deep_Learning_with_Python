{
 "cells": [
  {
   "cell_type": "code",
   "execution_count": 2,
   "metadata": {},
   "outputs": [],
   "source": [
    "# 코드 3-1 IMDB 데이터셋 로드하기\n",
    "from keras.datasets import imdb"
   ]
  },
  {
   "cell_type": "code",
   "execution_count": 3,
   "metadata": {},
   "outputs": [],
   "source": [
    "(train_data, train_labels), (test_data, test_labels) = imdb.load_data(num_words = 10000)"
   ]
  },
  {
   "cell_type": "code",
   "execution_count": 4,
   "metadata": {},
   "outputs": [],
   "source": [
    "# 코드 3-2 정수 시퀀스를 이진 행렬로 인코딩하기\n",
    "import numpy as np"
   ]
  },
  {
   "cell_type": "code",
   "execution_count": 5,
   "metadata": {},
   "outputs": [],
   "source": [
    "def vectorize_sequences(sequences, dimension = 10000):\n",
    "    results = np.zeros((len(sequences), dimension))\n",
    "    for i, sequence in enumerate(sequences):\n",
    "        results[i, sequence] = 1.\n",
    "    return results"
   ]
  },
  {
   "cell_type": "code",
   "execution_count": 6,
   "metadata": {},
   "outputs": [],
   "source": [
    "x_train = vectorize_sequences(train_data)\n",
    "x_test = vectorize_sequences(test_data)"
   ]
  },
  {
   "cell_type": "code",
   "execution_count": 7,
   "metadata": {},
   "outputs": [],
   "source": [
    "y_train = np.asarray(train_labels).astype(\"float32\")\n",
    "y_test = np.asarray(test_labels).astype(\"float32\")"
   ]
  },
  {
   "cell_type": "code",
   "execution_count": 8,
   "metadata": {},
   "outputs": [],
   "source": [
    "# 코드 3-3 모델 정의하기\n",
    "from keras import models\n",
    "from keras import layers"
   ]
  },
  {
   "cell_type": "code",
   "execution_count": 9,
   "metadata": {},
   "outputs": [],
   "source": [
    "model = models.Sequential()\n",
    "model.add(layers.Dense(16, activation = \"relu\", input_shape = (10000,)))\n",
    "model.add(layers.Dense(16, activation = \"relu\"))\n",
    "model.add(layers.Dense(1, activation = \"sigmoid\"))"
   ]
  },
  {
   "cell_type": "code",
   "execution_count": 10,
   "metadata": {},
   "outputs": [],
   "source": [
    "# 코드 3-4 모델 컴파일하기\n",
    "model.compile(loss = \"binary_crossentropy\",\n",
    "             optimizer = \"rmsprop\",\n",
    "             metrics = [\"accuracy\"])"
   ]
  },
  {
   "cell_type": "code",
   "execution_count": 11,
   "metadata": {},
   "outputs": [],
   "source": [
    "# 코드 3-5 옵티마이저 설정하기\n",
    "from keras import optimizers\n",
    "\n",
    "model.compile(optimizer = optimizers.RMSprop(lr = 0.001),\n",
    "             loss = \"binary_crossentropy\",\n",
    "             metrics = [\"accuracy\"])"
   ]
  },
  {
   "cell_type": "code",
   "execution_count": 12,
   "metadata": {},
   "outputs": [],
   "source": [
    "# 코드 3-6 손실과 측정을 함수 객체로 지정하기\n",
    "from keras import losses\n",
    "from keras import metrics\n",
    "\n",
    "model.compile(optimizer = optimizers.RMSprop(lr = 0.001),\n",
    "             loss = losses.binary_crossentropy,\n",
    "             metrics = [metrics.binary_accuracy])"
   ]
  },
  {
   "cell_type": "code",
   "execution_count": 13,
   "metadata": {},
   "outputs": [],
   "source": [
    "x_val = x_train[:10000]\n",
    "partial_x_train = x_train[10000:]\n",
    "y_val = y_train[:10000]\n",
    "partial_y_train = y_train[10000:]"
   ]
  },
  {
   "cell_type": "code",
   "execution_count": 14,
   "metadata": {},
   "outputs": [],
   "source": [
    "# 코드 3-8 모델 훈련하기\n",
    "model.compile(loss = \"binary_crossentropy\",\n",
    "             optimizer = \"rmsprop\",\n",
    "             metrics = [\"acc\"])"
   ]
  },
  {
   "cell_type": "code",
   "execution_count": 15,
   "metadata": {},
   "outputs": [
    {
     "name": "stdout",
     "output_type": "stream",
     "text": [
      "Train on 15000 samples, validate on 10000 samples\n",
      "Epoch 1/20\n",
      "15000/15000 [==============================] - 1s 62us/step - loss: 0.5288 - acc: 0.7685 - val_loss: 0.3991 - val_acc: 0.8434\n",
      "Epoch 2/20\n",
      "15000/15000 [==============================] - 1s 42us/step - loss: 0.3044 - acc: 0.8989 - val_loss: 0.3035 - val_acc: 0.8877\n",
      "Epoch 3/20\n",
      "15000/15000 [==============================] - 1s 42us/step - loss: 0.2205 - acc: 0.9288 - val_loss: 0.2867 - val_acc: 0.8865\n",
      "Epoch 4/20\n",
      "15000/15000 [==============================] - 1s 42us/step - loss: 0.1734 - acc: 0.9458 - val_loss: 0.2812 - val_acc: 0.8870\n",
      "Epoch 5/20\n",
      "15000/15000 [==============================] - 1s 42us/step - loss: 0.1411 - acc: 0.9562 - val_loss: 0.3515 - val_acc: 0.8641\n",
      "Epoch 6/20\n",
      "15000/15000 [==============================] - 1s 42us/step - loss: 0.1183 - acc: 0.9628 - val_loss: 0.2925 - val_acc: 0.8875\n",
      "Epoch 7/20\n",
      "15000/15000 [==============================] - 1s 42us/step - loss: 0.0964 - acc: 0.9718 - val_loss: 0.3169 - val_acc: 0.8856\n",
      "Epoch 8/20\n",
      "15000/15000 [==============================] - 1s 42us/step - loss: 0.0799 - acc: 0.9772 - val_loss: 0.3310 - val_acc: 0.8802\n",
      "Epoch 9/20\n",
      "15000/15000 [==============================] - 1s 42us/step - loss: 0.0659 - acc: 0.9827 - val_loss: 0.3509 - val_acc: 0.8820\n",
      "Epoch 10/20\n",
      "15000/15000 [==============================] - 1s 42us/step - loss: 0.0540 - acc: 0.9867 - val_loss: 0.3809 - val_acc: 0.8788\n",
      "Epoch 11/20\n",
      "15000/15000 [==============================] - 1s 42us/step - loss: 0.0443 - acc: 0.9898 - val_loss: 0.4205 - val_acc: 0.8684\n",
      "Epoch 12/20\n",
      "15000/15000 [==============================] - 1s 42us/step - loss: 0.0333 - acc: 0.9933 - val_loss: 0.4356 - val_acc: 0.8766\n",
      "Epoch 13/20\n",
      "15000/15000 [==============================] - 1s 42us/step - loss: 0.0272 - acc: 0.9945 - val_loss: 0.5078 - val_acc: 0.8607\n",
      "Epoch 14/20\n",
      "15000/15000 [==============================] - 1s 42us/step - loss: 0.0208 - acc: 0.9969 - val_loss: 0.4931 - val_acc: 0.8726\n",
      "Epoch 15/20\n",
      "15000/15000 [==============================] - 1s 42us/step - loss: 0.0171 - acc: 0.9973 - val_loss: 0.5290 - val_acc: 0.8722\n",
      "Epoch 16/20\n",
      "15000/15000 [==============================] - 1s 42us/step - loss: 0.0130 - acc: 0.9985 - val_loss: 0.5566 - val_acc: 0.8681\n",
      "Epoch 17/20\n",
      "15000/15000 [==============================] - 1s 42us/step - loss: 0.0122 - acc: 0.9971 - val_loss: 0.5875 - val_acc: 0.8696\n",
      "Epoch 18/20\n",
      "15000/15000 [==============================] - 1s 42us/step - loss: 0.0062 - acc: 0.9997 - val_loss: 0.6472 - val_acc: 0.8590\n",
      "Epoch 19/20\n",
      "15000/15000 [==============================] - 1s 42us/step - loss: 0.0063 - acc: 0.9997 - val_loss: 0.6544 - val_acc: 0.8669\n",
      "Epoch 20/20\n",
      "15000/15000 [==============================] - 1s 42us/step - loss: 0.0080 - acc: 0.9981 - val_loss: 0.6958 - val_acc: 0.8673\n"
     ]
    }
   ],
   "source": [
    "history = model.fit(partial_x_train,\n",
    "                   partial_y_train,\n",
    "                   epochs=20,\n",
    "                   batch_size=512,\n",
    "                   validation_data = (x_val, y_val))"
   ]
  },
  {
   "cell_type": "code",
   "execution_count": 20,
   "metadata": {},
   "outputs": [
    {
     "data": {
      "image/png": "[encoded data removed]",
      "text/plain": [
       "<Figure size 432x288 with 1 Axes>"
      ]
     },
     "metadata": {
      "needs_background": "light"
     },
     "output_type": "display_data"
    }
   ],
   "source": [
    "# 코드 3-9 훈련과 검증 손실 그리기\n",
    "import matplotlib.pyplot as plt\n",
    "\n",
    "loss = history.history[\"loss\"]\n",
    "val_loss = history.history[\"val_loss\"]\n",
    "\n",
    "epochs = range(1, len(loss) + 1)\n",
    "\n",
    "plt.plot(epochs, loss, \"bo\", label = \"Training_loss\")\n",
    "plt.plot(epochs, val_loss, \"b\", label = \"Validation_loss\")\n",
    "plt.title(\"Training and validation loss\")\n",
    "plt.xlabel(\"Epochs\")\n",
    "plt.ylabel(\"Loss\")\n",
    "plt.legend()\n",
    "\n",
    "plt.show()"
   ]
  },
  {
   "cell_type": "code",
   "execution_count": 22,
   "metadata": {},
   "outputs": [
    {
     "data": {
      "image/png": "[encoded data removed]",
      "text/plain": [
       "<Figure size 432x288 with 1 Axes>"
      ]
     },
     "metadata": {
      "needs_background": "light"
     },
     "output_type": "display_data"
    }
   ],
   "source": [
    "# 코드 3-10 훈련과 검증 정확도 그리기\n",
    "plt.clf() # 그래프 초기화\n",
    "acc = history.history[\"acc\"]\n",
    "val_acc = history.history[\"val_acc\"]\n",
    "\n",
    "plt.plot(epochs, acc, \"bo\", label = \"Training_acc\")\n",
    "plt.plot(epochs, val_acc, \"b\", label = \"Validation_acc\")\n",
    "plt.title(\"Training and validation accuracy\")\n",
    "plt.xlabel(\"Epochs\")\n",
    "plt.ylabel(\"Accuracy\")\n",
    "plt.legend()\n",
    "\n",
    "plt.show()"
   ]
  },
  {
   "cell_type": "code",
   "execution_count": 23,
   "metadata": {},
   "outputs": [
    {
     "name": "stdout",
     "output_type": "stream",
     "text": [
      "Epoch 1/4\n",
      "25000/25000 [==============================] - 1s 35us/step - loss: 0.4423 - accuracy: 0.8234\n",
      "Epoch 2/4\n",
      "25000/25000 [==============================] - 1s 32us/step - loss: 0.2576 - accuracy: 0.9116\n",
      "Epoch 3/4\n",
      "25000/25000 [==============================] - 1s 32us/step - loss: 0.1981 - accuracy: 0.9302\n",
      "Epoch 4/4\n",
      "25000/25000 [==============================] - 1s 32us/step - loss: 0.1665 - accuracy: 0.9419\n",
      "25000/25000 [==============================] - 2s 84us/step\n"
     ]
    }
   ],
   "source": [
    "# 코드 3-11 모델을 처음부터 다시 훈련하기\n",
    "model = models.Sequential()\n",
    "model.add(layers.Dense(16, activation = \"relu\", input_shape = (10000,)))\n",
    "model.add(layers.Dense(16, activation = \"relu\"))\n",
    "model.add(layers.Dense(1, activation = \"sigmoid\"))\n",
    "\n",
    "model.compile(loss = \"binary_crossentropy\",\n",
    "             optimizer = \"rmsprop\",\n",
    "             metrics = [\"accuracy\"])\n",
    "\n",
    "model.fit(x_train, y_train, epochs = 4, batch_size = 512)\n",
    "results = model.evaluate(x_test, y_test)"
   ]
  },
  {
   "cell_type": "code",
   "execution_count": 24,
   "metadata": {},
   "outputs": [
    {
     "data": {
      "text/plain": [
       "[0.29515314868927, 0.8835999965667725]"
      ]
     },
     "execution_count": 24,
     "metadata": {},
     "output_type": "execute_result"
    }
   ],
   "source": [
    "results"
   ]
  },
  {
   "cell_type": "code",
   "execution_count": null,
   "metadata": {},
   "outputs": [],
   "source": []
  }
 ],
 "metadata": {
  "kernelspec": {
   "display_name": "Python 3",
   "language": "python",
   "name": "python3"
  },
  "language_info": {
   "codemirror_mode": {
    "name": "ipython",
    "version": 3
   },
   "file_extension": ".py",
   "mimetype": "text/x-python",
   "name": "python",
   "nbconvert_exporter": "python",
   "pygments_lexer": "ipython3",
   "version": "3.5.2"
  }
 },
 "nbformat": 4,
 "nbformat_minor": 2
}
