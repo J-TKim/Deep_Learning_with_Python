{
 "cells": [
  {
   "cell_type": "code",
   "execution_count": 1,
   "metadata": {},
   "outputs": [
    {
     "name": "stdout",
     "output_type": "stream",
     "text": [
      "1 Physical GPUs, 1 Logical GPUs\n"
     ]
    }
   ],
   "source": [
    "        import tensorflow as tf\n",
    "\n",
    "        gpus = tf.config.experimental.list_physical_devices('GPU')\n",
    "        if gpus:\n",
    "          try:\n",
    "            # Currently, memory growth needs to be the same across GPUs\n",
    "            for gpu in gpus:\n",
    "              tf.config.experimental.set_memory_growth(gpu, True)\n",
    "            logical_gpus = tf.config.experimental.list_logical_devices('GPU')\n",
    "            print(len(gpus), \"Physical GPUs,\", len(logical_gpus), \"Logical GPUs\")\n",
    "          except RuntimeError as e:\n",
    "            # Memory growth must be set before GPUs have been initialized\n",
    "            print(e)"
   ]
  },
  {
   "cell_type": "code",
   "execution_count": 2,
   "metadata": {},
   "outputs": [],
   "source": [
    "# 코드 5-16 VGG16 합성곱 기반 층 만들기\n",
    "from keras.applications import VGG16\n",
    "\n",
    "conv_base = VGG16(weights=\"imagenet\",\n",
    "                 include_top = False,\n",
    "                 input_shape = (150, 150, 3))"
   ]
  },
  {
   "cell_type": "code",
   "execution_count": 3,
   "metadata": {},
   "outputs": [
    {
     "name": "stdout",
     "output_type": "stream",
     "text": [
      "Model: \"vgg16\"\n",
      "_________________________________________________________________\n",
      "Layer (type)                 Output Shape              Param #   \n",
      "=================================================================\n",
      "input_1 (InputLayer)         [(None, 150, 150, 3)]     0         \n",
      "_________________________________________________________________\n",
      "block1_conv1 (Conv2D)        (None, 150, 150, 64)      1792      \n",
      "_________________________________________________________________\n",
      "block1_conv2 (Conv2D)        (None, 150, 150, 64)      36928     \n",
      "_________________________________________________________________\n",
      "block1_pool (MaxPooling2D)   (None, 75, 75, 64)        0         \n",
      "_________________________________________________________________\n",
      "block2_conv1 (Conv2D)        (None, 75, 75, 128)       73856     \n",
      "_________________________________________________________________\n",
      "block2_conv2 (Conv2D)        (None, 75, 75, 128)       147584    \n",
      "_________________________________________________________________\n",
      "block2_pool (MaxPooling2D)   (None, 37, 37, 128)       0         \n",
      "_________________________________________________________________\n",
      "block3_conv1 (Conv2D)        (None, 37, 37, 256)       295168    \n",
      "_________________________________________________________________\n",
      "block3_conv2 (Conv2D)        (None, 37, 37, 256)       590080    \n",
      "_________________________________________________________________\n",
      "block3_conv3 (Conv2D)        (None, 37, 37, 256)       590080    \n",
      "_________________________________________________________________\n",
      "block3_pool (MaxPooling2D)   (None, 18, 18, 256)       0         \n",
      "_________________________________________________________________\n",
      "block4_conv1 (Conv2D)        (None, 18, 18, 512)       1180160   \n",
      "_________________________________________________________________\n",
      "block4_conv2 (Conv2D)        (None, 18, 18, 512)       2359808   \n",
      "_________________________________________________________________\n",
      "block4_conv3 (Conv2D)        (None, 18, 18, 512)       2359808   \n",
      "_________________________________________________________________\n",
      "block4_pool (MaxPooling2D)   (None, 9, 9, 512)         0         \n",
      "_________________________________________________________________\n",
      "block5_conv1 (Conv2D)        (None, 9, 9, 512)         2359808   \n",
      "_________________________________________________________________\n",
      "block5_conv2 (Conv2D)        (None, 9, 9, 512)         2359808   \n",
      "_________________________________________________________________\n",
      "block5_conv3 (Conv2D)        (None, 9, 9, 512)         2359808   \n",
      "_________________________________________________________________\n",
      "block5_pool (MaxPooling2D)   (None, 4, 4, 512)         0         \n",
      "=================================================================\n",
      "Total params: 14,714,688\n",
      "Trainable params: 14,714,688\n",
      "Non-trainable params: 0\n",
      "_________________________________________________________________\n"
     ]
    }
   ],
   "source": [
    " conv_base.summary()"
   ]
  },
  {
   "cell_type": "code",
   "execution_count": 4,
   "metadata": {},
   "outputs": [],
   "source": [
    "# 코드 5-17 사전 훈련된 합성곱 기반 층을 사용한 특성 추출하기\n",
    "import os\n",
    "import numpy as np\n",
    "from keras.preprocessing.image import ImageDataGenerator\n",
    "\n",
    "base_dir = \"/home/math01/Documents/JT/Keras/deep-learning-with-python-notebooks-master/datasets/cats_and_dogs_small\"\n",
    "train_dir = os.path.join(base_dir, \"train\")\n",
    "validation_dir = os.path.join(base_dir, \"validation\")\n",
    "test_dir = os.path.join(base_dir, \"test\")\n",
    "\n",
    "datagen = ImageDataGenerator(rescale=1./255)\n",
    "batch_size = 20\n",
    "\n",
    "def extract_features(directory, sample_count):\n",
    "    features = np.zeros(shape = (sample_count, 4, 4, 512))\n",
    "    labels = np.zeros(shape=(sample_count))\n",
    "    generator = datagen.flow_from_directory(directory,\n",
    "                                           target_size=(150, 150),\n",
    "                                           batch_size=batch_size,\n",
    "                                           class_mode=\"binary\")\n",
    "    i = 0\n",
    "    for inputs_batch, labels_batch in generator:\n",
    "        features_batch = conv_base.predict(inputs_batch)\n",
    "        features[i * batch_size : (i + 1) * batch_size] = features_batch\n",
    "        labels[i * batch_size : (i + 1) * batch_size] = labels_batch\n",
    "        i += 1\n",
    "        if i * batch_size >= sample_count:\n",
    "            break # 제너레이터는 루프 안에서 무한하게 데이터를 만들어 내므로 모든 데이터를 한 번씩 처리하고 나면 중지\n",
    "    return features, labels"
   ]
  },
  {
   "cell_type": "code",
   "execution_count": 5,
   "metadata": {},
   "outputs": [
    {
     "name": "stdout",
     "output_type": "stream",
     "text": [
      "Found 2000 images belonging to 2 classes.\n"
     ]
    }
   ],
   "source": [
    "train_features, train_labels = extract_features(train_dir, 2000)"
   ]
  },
  {
   "cell_type": "code",
   "execution_count": 6,
   "metadata": {},
   "outputs": [
    {
     "name": "stdout",
     "output_type": "stream",
     "text": [
      "Found 1000 images belonging to 2 classes.\n"
     ]
    }
   ],
   "source": [
    "validation_features, validation_labels = extract_features(validation_dir, 1000)"
   ]
  },
  {
   "cell_type": "code",
   "execution_count": 7,
   "metadata": {},
   "outputs": [
    {
     "name": "stdout",
     "output_type": "stream",
     "text": [
      "Found 1000 images belonging to 2 classes.\n"
     ]
    }
   ],
   "source": [
    "test_features, test_labels = extract_features(test_dir, 1000)"
   ]
  },
  {
   "cell_type": "code",
   "execution_count": 8,
   "metadata": {},
   "outputs": [],
   "source": [
    "train_features = np.reshape(train_features, (2000, 4 * 4 * 512))\n",
    "validation_features = np.reshape(validation_features, (1000, 4 * 4 * 512))\n",
    "test_features = np.reshape(test_features, (1000, 4 * 4 * 512))"
   ]
  },
  {
   "cell_type": "code",
   "execution_count": 9,
   "metadata": {},
   "outputs": [],
   "source": [
    "# 코드 5-18 완전 연결 분류기를 정의하고 훈련하기\n",
    "from keras import models\n",
    "from keras import layers\n",
    "from keras import optimizers\n",
    "\n",
    "model = models.Sequential()\n",
    "model.add(layers.Dense(256, activation = \"relu\", input_dim = 4 * 4 * 512))\n",
    "model.add(layers.Dropout(0.5))\n",
    "model.add(layers.Dense(1, activation = \"sigmoid\"))"
   ]
  },
  {
   "cell_type": "code",
   "execution_count": 10,
   "metadata": {},
   "outputs": [],
   "source": [
    "model.compile(loss = \"binary_crossentropy\",\n",
    "             optimizer = optimizers.RMSprop(lr = 2e-5),\n",
    "             metrics=[\"acc\"])"
   ]
  },
  {
   "cell_type": "code",
   "execution_count": 11,
   "metadata": {},
   "outputs": [
    {
     "name": "stdout",
     "output_type": "stream",
     "text": [
      "Epoch 1/30\n",
      "100/100 [==============================] - 0s 5ms/step - acc: 0.6970 - loss: 0.5866 - val_loss: 0.4487 - val_acc: 0.8200\n",
      "Epoch 2/30\n",
      "100/100 [==============================] - 0s 5ms/step - acc: 0.7975 - loss: 0.4304 - val_loss: 0.3690 - val_acc: 0.8550\n",
      "Epoch 3/30\n",
      "100/100 [==============================] - 0s 5ms/step - acc: 0.8465 - loss: 0.3604 - val_loss: 0.3391 - val_acc: 0.8610\n",
      "Epoch 4/30\n",
      "100/100 [==============================] - 1s 5ms/step - acc: 0.8535 - loss: 0.3223 - val_loss: 0.3039 - val_acc: 0.8820\n",
      "Epoch 5/30\n",
      "100/100 [==============================] - 1s 5ms/step - acc: 0.8755 - loss: 0.2949 - val_loss: 0.2904 - val_acc: 0.8880\n",
      "Epoch 6/30\n",
      "100/100 [==============================] - 0s 5ms/step - acc: 0.8940 - loss: 0.2695 - val_loss: 0.2771 - val_acc: 0.8960\n",
      "Epoch 7/30\n",
      "100/100 [==============================] - 0s 5ms/step - acc: 0.9065 - loss: 0.2459 - val_loss: 0.2672 - val_acc: 0.8980\n",
      "Epoch 8/30\n",
      "100/100 [==============================] - 0s 5ms/step - acc: 0.9070 - loss: 0.2298 - val_loss: 0.2663 - val_acc: 0.8850\n",
      "Epoch 9/30\n",
      "100/100 [==============================] - 0s 5ms/step - acc: 0.9160 - loss: 0.2192 - val_loss: 0.2565 - val_acc: 0.9000\n",
      "Epoch 10/30\n",
      "100/100 [==============================] - 0s 5ms/step - acc: 0.9205 - loss: 0.2131 - val_loss: 0.2533 - val_acc: 0.8980\n",
      "Epoch 11/30\n",
      "100/100 [==============================] - 0s 5ms/step - acc: 0.9410 - loss: 0.1921 - val_loss: 0.2500 - val_acc: 0.9000\n",
      "Epoch 12/30\n",
      "100/100 [==============================] - 0s 4ms/step - acc: 0.9230 - loss: 0.1894 - val_loss: 0.2483 - val_acc: 0.9010\n",
      "Epoch 13/30\n",
      "100/100 [==============================] - 0s 5ms/step - acc: 0.9390 - loss: 0.1745 - val_loss: 0.2429 - val_acc: 0.9030\n",
      "Epoch 14/30\n",
      "100/100 [==============================] - 0s 5ms/step - acc: 0.9350 - loss: 0.1746 - val_loss: 0.2420 - val_acc: 0.9010\n",
      "Epoch 15/30\n",
      "100/100 [==============================] - 0s 5ms/step - acc: 0.9460 - loss: 0.1602 - val_loss: 0.2421 - val_acc: 0.9010\n",
      "Epoch 16/30\n",
      "100/100 [==============================] - 0s 5ms/step - acc: 0.9430 - loss: 0.1572 - val_loss: 0.2477 - val_acc: 0.8960\n",
      "Epoch 17/30\n",
      "100/100 [==============================] - 0s 5ms/step - acc: 0.9510 - loss: 0.1500 - val_loss: 0.2374 - val_acc: 0.9030\n",
      "Epoch 18/30\n",
      "100/100 [==============================] - 0s 5ms/step - acc: 0.9530 - loss: 0.1370 - val_loss: 0.2407 - val_acc: 0.9030\n",
      "Epoch 19/30\n",
      "100/100 [==============================] - 1s 5ms/step - acc: 0.9555 - loss: 0.1348 - val_loss: 0.2360 - val_acc: 0.9020\n",
      "Epoch 20/30\n",
      "100/100 [==============================] - 0s 4ms/step - acc: 0.9570 - loss: 0.1254 - val_loss: 0.2646 - val_acc: 0.8880\n",
      "Epoch 21/30\n",
      "100/100 [==============================] - 1s 5ms/step - acc: 0.9575 - loss: 0.1282 - val_loss: 0.2436 - val_acc: 0.9000\n",
      "Epoch 22/30\n",
      "100/100 [==============================] - 1s 5ms/step - acc: 0.9640 - loss: 0.1226 - val_loss: 0.2368 - val_acc: 0.9020\n",
      "Epoch 23/30\n",
      "100/100 [==============================] - 0s 4ms/step - acc: 0.9625 - loss: 0.1161 - val_loss: 0.2485 - val_acc: 0.8980\n",
      "Epoch 24/30\n",
      "100/100 [==============================] - 0s 4ms/step - acc: 0.9635 - loss: 0.1138 - val_loss: 0.2453 - val_acc: 0.9000\n",
      "Epoch 25/30\n",
      "100/100 [==============================] - 0s 4ms/step - acc: 0.9660 - loss: 0.1037 - val_loss: 0.2380 - val_acc: 0.9000\n",
      "Epoch 26/30\n",
      "100/100 [==============================] - 0s 5ms/step - acc: 0.9690 - loss: 0.1012 - val_loss: 0.2372 - val_acc: 0.9000\n",
      "Epoch 27/30\n",
      "100/100 [==============================] - 1s 5ms/step - acc: 0.9685 - loss: 0.1036 - val_loss: 0.2535 - val_acc: 0.8980\n",
      "Epoch 28/30\n",
      "100/100 [==============================] - 0s 5ms/step - acc: 0.9705 - loss: 0.0990 - val_loss: 0.2369 - val_acc: 0.9000\n",
      "Epoch 29/30\n",
      "100/100 [==============================] - 0s 5ms/step - acc: 0.9725 - loss: 0.0918 - val_loss: 0.2532 - val_acc: 0.9000\n",
      "Epoch 30/30\n",
      "100/100 [==============================] - 0s 5ms/step - acc: 0.9725 - loss: 0.0884 - val_loss: 0.2484 - val_acc: 0.9010\n"
     ]
    }
   ],
   "source": [
    "history = model.fit(train_features, train_labels,\n",
    "                   epochs = 30,\n",
    "                   batch_size=20,\n",
    "                   validation_data=(validation_features, validation_labels))"
   ]
  },
  {
   "cell_type": "code",
   "execution_count": 13,
   "metadata": {},
   "outputs": [
    {
     "data": {
      "image/png": "[encoded data removed]",
      "text/plain": [
       "<Figure size 432x288 with 1 Axes>"
      ]
     },
     "metadata": {
      "needs_background": "light"
     },
     "output_type": "display_data"
    },
    {
     "data": {
      "image/png": "[encoded data removed]",
      "text/plain": [
       "<Figure size 432x288 with 1 Axes>"
      ]
     },
     "metadata": {
      "needs_background": "light"
     },
     "output_type": "display_data"
    }
   ],
   "source": [
    "# 코드 5-19 결과 그래프 그리기\n",
    "import matplotlib.pyplot as plt\n",
    "\n",
    "acc = history.history[\"acc\"]\n",
    "val_acc = history.history[\"val_acc\"]\n",
    "loss = history.history[\"loss\"]\n",
    "val_loss = history.history[\"val_loss\"]\n",
    "\n",
    "epochs = range(1, len(acc) + 1)\n",
    "\n",
    "plt.plot(epochs, acc, \"bo\", label = \"Traning acc\")\n",
    "plt.plot(epochs, val_acc, \"b\", label = \"Validation acc\")\n",
    "plt.title(\"Training and validation accuracy\")\n",
    "plt.legend()\n",
    "\n",
    "plt.figure()\n",
    "\n",
    "plt.plot(epochs, loss, \"bo\", label = \"Training loss\")\n",
    "plt.plot(epochs, val_loss, \"b\", label = \"Validation loss\")\n",
    "plt.title(\"Training and validation loss\")\n",
    "plt.legend()\n",
    "\n",
    "plt.show()"
   ]
  },
  {
   "cell_type": "code",
   "execution_count": 14,
   "metadata": {
    "scrolled": true
   },
   "outputs": [],
   "source": [
    "# 코드 5-20 합성곱 기반 층 위에 완전 연결 분류기 추가하기\n",
    "from keras import models\n",
    "from keras import layers\n",
    "\n",
    "model = models.Sequential()\n",
    "model.add(conv_base)\n",
    "model.add(layers.Flatten())\n",
    "model.add(layers.Dense(256, activation = \"relu\"))\n",
    "model.add(layers.Dense(1, activation = \"sigmoid\"))"
   ]
  },
  {
   "cell_type": "code",
   "execution_count": 15,
   "metadata": {},
   "outputs": [
    {
     "name": "stdout",
     "output_type": "stream",
     "text": [
      "Model: \"sequential_1\"\n",
      "_________________________________________________________________\n",
      "Layer (type)                 Output Shape              Param #   \n",
      "=================================================================\n",
      "vgg16 (Model)                (None, 4, 4, 512)         14714688  \n",
      "_________________________________________________________________\n",
      "flatten (Flatten)            (None, 8192)              0         \n",
      "_________________________________________________________________\n",
      "dense_2 (Dense)              (None, 256)               2097408   \n",
      "_________________________________________________________________\n",
      "dense_3 (Dense)              (None, 1)                 257       \n",
      "=================================================================\n",
      "Total params: 16,812,353\n",
      "Trainable params: 16,812,353\n",
      "Non-trainable params: 0\n",
      "_________________________________________________________________\n"
     ]
    }
   ],
   "source": [
    "model.summary()"
   ]
  },
  {
   "cell_type": "code",
   "execution_count": 16,
   "metadata": {},
   "outputs": [
    {
     "name": "stdout",
     "output_type": "stream",
     "text": [
      "conv_base를 동결하기 전 훈련되는 가중치의 수 : 30\n"
     ]
    }
   ],
   "source": [
    "print(\"conv_base를 동결하기 전 훈련되는 가중치의 수 :\",\n",
    "     len(model.trainable_weights))"
   ]
  },
  {
   "cell_type": "code",
   "execution_count": 17,
   "metadata": {},
   "outputs": [],
   "source": [
    "conv_base.trainable = False"
   ]
  },
  {
   "cell_type": "code",
   "execution_count": 18,
   "metadata": {},
   "outputs": [
    {
     "name": "stdout",
     "output_type": "stream",
     "text": [
      "conv_base를 동결한 후 훈련되는 가중치의 수 : 4\n"
     ]
    }
   ],
   "source": [
    "print(\"conv_base를 동결한 후 훈련되는 가중치의 수 :\",\n",
    "     len(model.trainable_weights))"
   ]
  },
  {
   "cell_type": "code",
   "execution_count": 19,
   "metadata": {},
   "outputs": [],
   "source": [
    "# 코드 5-21 동결된 합성곱 기반 층과 함께 모델을 엔드-투-엔드로 훈련하기\n",
    "from keras.preprocessing.image import ImageDataGenerator\n",
    "from keras import optimizers\n",
    "\n",
    "train_datagen = ImageDataGenerator(rescale=1./255,\n",
    "                                  rotation_range=20,\n",
    "                                  width_shift_range=0.1,\n",
    "                                  height_shift_range=0.1,\n",
    "                                  shear_range=0.1,\n",
    "                                  zoom_range=0.1,\n",
    "                                  horizontal_flip=True,\n",
    "                                  fill_mode=\"nearest\")\n",
    "\n",
    "test_datagen = ImageDataGenerator(rescale=1./255) # 검증 데이터는 증식되어서는 안됩니다"
   ]
  },
  {
   "cell_type": "code",
   "execution_count": 20,
   "metadata": {},
   "outputs": [
    {
     "name": "stdout",
     "output_type": "stream",
     "text": [
      "Found 2000 images belonging to 2 classes.\n",
      "Found 1000 images belonging to 2 classes.\n"
     ]
    }
   ],
   "source": [
    "train_generator = train_datagen.flow_from_directory(train_dir, # 타깃 디렉터리\n",
    "                                                   target_size=(150, 150), # 모든 이미지의 크기를 150x150크기로 변경합니다\n",
    "                                                   batch_size = 20,\n",
    "                                                   class_mode=\"binary\") # binary_crossentropy 손실을 이용하므로 이진 레이블이 필요\n",
    "\n",
    "validation_generator = test_datagen.flow_from_directory(test_dir,\n",
    "                                                       target_size=(150, 150),\n",
    "                                                       batch_size=20,\n",
    "                                                       class_mode=\"binary\")"
   ]
  },
  {
   "cell_type": "code",
   "execution_count": 21,
   "metadata": {},
   "outputs": [],
   "source": [
    "model.compile(loss = \"binary_crossentropy\",\n",
    "             optimizer = optimizers.RMSprop(lr = 2e-5),\n",
    "             metrics = [\"acc\"])"
   ]
  },
  {
   "cell_type": "code",
   "execution_count": 22,
   "metadata": {},
   "outputs": [
    {
     "name": "stdout",
     "output_type": "stream",
     "text": [
      "WARNING:tensorflow:From <ipython-input-22-6a9b23ece81b>:6: Model.fit_generator (from tensorflow.python.keras.engine.training) is deprecated and will be removed in a future version.\n",
      "Instructions for updating:\n",
      "Please use Model.fit, which supports generators.\n",
      "Epoch 1/30\n",
      "100/100 - 9s - acc: 0.7425 - loss: 0.5441 - val_loss: 0.4252 - val_acc: 0.8160\n",
      "Epoch 2/30\n",
      "100/100 - 9s - acc: 0.8270 - loss: 0.4070 - val_loss: 0.3475 - val_acc: 0.8560\n",
      "Epoch 3/30\n",
      "100/100 - 9s - acc: 0.8550 - loss: 0.3503 - val_loss: 0.3228 - val_acc: 0.8610\n",
      "Epoch 4/30\n",
      "100/100 - 9s - acc: 0.8670 - loss: 0.3269 - val_loss: 0.2936 - val_acc: 0.8830\n",
      "Epoch 5/30\n",
      "100/100 - 9s - acc: 0.8735 - loss: 0.3015 - val_loss: 0.2854 - val_acc: 0.8810\n",
      "Epoch 6/30\n",
      "100/100 - 9s - acc: 0.8765 - loss: 0.2916 - val_loss: 0.2743 - val_acc: 0.8880\n",
      "Epoch 7/30\n",
      "100/100 - 9s - acc: 0.8895 - loss: 0.2814 - val_loss: 0.2774 - val_acc: 0.8790\n",
      "Epoch 8/30\n",
      "100/100 - 9s - acc: 0.8930 - loss: 0.2619 - val_loss: 0.2810 - val_acc: 0.8870\n",
      "Epoch 9/30\n",
      "100/100 - 9s - acc: 0.8905 - loss: 0.2650 - val_loss: 0.2473 - val_acc: 0.9010\n",
      "Epoch 10/30\n",
      "100/100 - 9s - acc: 0.9045 - loss: 0.2472 - val_loss: 0.2605 - val_acc: 0.9000\n",
      "Epoch 11/30\n",
      "100/100 - 9s - acc: 0.8980 - loss: 0.2408 - val_loss: 0.2552 - val_acc: 0.8970\n",
      "Epoch 12/30\n",
      "100/100 - 9s - acc: 0.8945 - loss: 0.2473 - val_loss: 0.2443 - val_acc: 0.9040\n",
      "Epoch 13/30\n",
      "100/100 - 9s - acc: 0.9050 - loss: 0.2314 - val_loss: 0.2484 - val_acc: 0.9080\n",
      "Epoch 14/30\n",
      "100/100 - 9s - acc: 0.9105 - loss: 0.2318 - val_loss: 0.2470 - val_acc: 0.8990\n",
      "Epoch 15/30\n",
      "100/100 - 9s - acc: 0.9080 - loss: 0.2331 - val_loss: 0.2648 - val_acc: 0.8920\n",
      "Epoch 16/30\n",
      "100/100 - 9s - acc: 0.9135 - loss: 0.2212 - val_loss: 0.2391 - val_acc: 0.9040\n",
      "Epoch 17/30\n",
      "100/100 - 9s - acc: 0.9110 - loss: 0.2179 - val_loss: 0.2524 - val_acc: 0.9060\n",
      "Epoch 18/30\n",
      "100/100 - 9s - acc: 0.9185 - loss: 0.2104 - val_loss: 0.2314 - val_acc: 0.9080\n",
      "Epoch 19/30\n",
      "100/100 - 9s - acc: 0.9200 - loss: 0.2123 - val_loss: 0.2486 - val_acc: 0.8930\n",
      "Epoch 20/30\n",
      "100/100 - 9s - acc: 0.9130 - loss: 0.2099 - val_loss: 0.2847 - val_acc: 0.8740\n",
      "Epoch 21/30\n",
      "100/100 - 9s - acc: 0.9150 - loss: 0.2073 - val_loss: 0.2212 - val_acc: 0.9170\n",
      "Epoch 22/30\n",
      "100/100 - 9s - acc: 0.9115 - loss: 0.2142 - val_loss: 0.2243 - val_acc: 0.9100\n",
      "Epoch 23/30\n",
      "100/100 - 9s - acc: 0.9230 - loss: 0.1946 - val_loss: 0.2801 - val_acc: 0.8920\n",
      "Epoch 24/30\n",
      "100/100 - 9s - acc: 0.9280 - loss: 0.1956 - val_loss: 0.2291 - val_acc: 0.9140\n",
      "Epoch 25/30\n",
      "100/100 - 9s - acc: 0.9260 - loss: 0.1947 - val_loss: 0.2524 - val_acc: 0.9050\n",
      "Epoch 26/30\n",
      "100/100 - 9s - acc: 0.9215 - loss: 0.1965 - val_loss: 0.2330 - val_acc: 0.9090\n",
      "Epoch 27/30\n",
      "100/100 - 9s - acc: 0.9225 - loss: 0.1973 - val_loss: 0.2411 - val_acc: 0.9130\n",
      "Epoch 28/30\n",
      "100/100 - 9s - acc: 0.9305 - loss: 0.1934 - val_loss: 0.2406 - val_acc: 0.9060\n",
      "Epoch 29/30\n",
      "100/100 - 9s - acc: 0.9305 - loss: 0.1787 - val_loss: 0.2415 - val_acc: 0.9140\n",
      "Epoch 30/30\n",
      "100/100 - 9s - acc: 0.9295 - loss: 0.1894 - val_loss: 0.2445 - val_acc: 0.9040\n"
     ]
    }
   ],
   "source": [
    "history = model.fit_generator(train_generator,\n",
    "                             steps_per_epoch=100,\n",
    "                             epochs = 30,\n",
    "                             validation_data=validation_generator,\n",
    "                             validation_steps=50,\n",
    "                             verbose = 2)"
   ]
  },
  {
   "cell_type": "code",
   "execution_count": 23,
   "metadata": {},
   "outputs": [
    {
     "data": {
      "image/png": "[encoded data removed]",
      "text/plain": [
       "<Figure size 432x288 with 1 Axes>"
      ]
     },
     "metadata": {
      "needs_background": "light"
     },
     "output_type": "display_data"
    },
    {
     "data": {
      "image/png": "[encoded data removed]",
      "text/plain": [
       "<Figure size 432x288 with 1 Axes>"
      ]
     },
     "metadata": {
      "needs_background": "light"
     },
     "output_type": "display_data"
    }
   ],
   "source": [
    "acc = history.history[\"acc\"]\n",
    "val_acc = history.history[\"val_acc\"]\n",
    "loss = history.history[\"loss\"]\n",
    "val_loss = history.history[\"val_loss\"]\n",
    "\n",
    "epochs = range(1, len(acc) + 1)\n",
    "\n",
    "plt.plot(epochs, acc, \"bo\", label = \"Traning acc\")\n",
    "plt.plot(epochs, val_acc, \"b\", label = \"Validation acc\")\n",
    "plt.title(\"Training and validation accuracy\")\n",
    "plt.legend()\n",
    "\n",
    "plt.figure()\n",
    "\n",
    "plt.plot(epochs, loss, \"bo\", label = \"Training loss\")\n",
    "plt.plot(epochs, val_loss, \"b\", label = \"Validation loss\")\n",
    "plt.title(\"Training and validation loss\")\n",
    "plt.legend()\n",
    "\n",
    "plt.show()"
   ]
  },
  {
   "cell_type": "code",
   "execution_count": 24,
   "metadata": {},
   "outputs": [
    {
     "name": "stdout",
     "output_type": "stream",
     "text": [
      "Model: \"vgg16\"\n",
      "_________________________________________________________________\n",
      "Layer (type)                 Output Shape              Param #   \n",
      "=================================================================\n",
      "input_1 (InputLayer)         [(None, 150, 150, 3)]     0         \n",
      "_________________________________________________________________\n",
      "block1_conv1 (Conv2D)        (None, 150, 150, 64)      1792      \n",
      "_________________________________________________________________\n",
      "block1_conv2 (Conv2D)        (None, 150, 150, 64)      36928     \n",
      "_________________________________________________________________\n",
      "block1_pool (MaxPooling2D)   (None, 75, 75, 64)        0         \n",
      "_________________________________________________________________\n",
      "block2_conv1 (Conv2D)        (None, 75, 75, 128)       73856     \n",
      "_________________________________________________________________\n",
      "block2_conv2 (Conv2D)        (None, 75, 75, 128)       147584    \n",
      "_________________________________________________________________\n",
      "block2_pool (MaxPooling2D)   (None, 37, 37, 128)       0         \n",
      "_________________________________________________________________\n",
      "block3_conv1 (Conv2D)        (None, 37, 37, 256)       295168    \n",
      "_________________________________________________________________\n",
      "block3_conv2 (Conv2D)        (None, 37, 37, 256)       590080    \n",
      "_________________________________________________________________\n",
      "block3_conv3 (Conv2D)        (None, 37, 37, 256)       590080    \n",
      "_________________________________________________________________\n",
      "block3_pool (MaxPooling2D)   (None, 18, 18, 256)       0         \n",
      "_________________________________________________________________\n",
      "block4_conv1 (Conv2D)        (None, 18, 18, 512)       1180160   \n",
      "_________________________________________________________________\n",
      "block4_conv2 (Conv2D)        (None, 18, 18, 512)       2359808   \n",
      "_________________________________________________________________\n",
      "block4_conv3 (Conv2D)        (None, 18, 18, 512)       2359808   \n",
      "_________________________________________________________________\n",
      "block4_pool (MaxPooling2D)   (None, 9, 9, 512)         0         \n",
      "_________________________________________________________________\n",
      "block5_conv1 (Conv2D)        (None, 9, 9, 512)         2359808   \n",
      "_________________________________________________________________\n",
      "block5_conv2 (Conv2D)        (None, 9, 9, 512)         2359808   \n",
      "_________________________________________________________________\n",
      "block5_conv3 (Conv2D)        (None, 9, 9, 512)         2359808   \n",
      "_________________________________________________________________\n",
      "block5_pool (MaxPooling2D)   (None, 4, 4, 512)         0         \n",
      "=================================================================\n",
      "Total params: 14,714,688\n",
      "Trainable params: 0\n",
      "Non-trainable params: 14,714,688\n",
      "_________________________________________________________________\n"
     ]
    }
   ],
   "source": [
    "conv_base.summary()"
   ]
  },
  {
   "cell_type": "code",
   "execution_count": 26,
   "metadata": {},
   "outputs": [],
   "source": [
    "# 코드 5-22 특정 층까지 모든 층 동결하기\n",
    "conv_base.trainable = True\n",
    "\n",
    "set_trainable = False\n",
    "for layer in conv_base.layers:\n",
    "    if layer.name == \"block5_conv1\":\n",
    "        set_trainable = True\n",
    "    if set_trainable:\n",
    "        layer.trainable = True\n",
    "    else:\n",
    "        layer.trainable =False"
   ]
  },
  {
   "cell_type": "code",
   "execution_count": 27,
   "metadata": {},
   "outputs": [],
   "source": [
    "# 코드 5-23 모델 미세 조정하기\n",
    "model.compile(loss = \"binary_crossentropy\",\n",
    "             optimizer = optimizers.RMSprop(lr = 1e-5),\n",
    "             metrics=[\"acc\"])"
   ]
  },
  {
   "cell_type": "code",
   "execution_count": 28,
   "metadata": {},
   "outputs": [
    {
     "name": "stdout",
     "output_type": "stream",
     "text": [
      "Epoch 1/100\n",
      "100/100 [==============================] - 9s 93ms/step - acc: 0.9150 - loss: 0.1914 - val_loss: 0.2997 - val_acc: 0.8870\n",
      "Epoch 2/100\n",
      "100/100 [==============================] - 9s 93ms/step - acc: 0.9355 - loss: 0.1503 - val_loss: 0.2578 - val_acc: 0.8920\n",
      "Epoch 3/100\n",
      "100/100 [==============================] - 9s 93ms/step - acc: 0.9365 - loss: 0.1494 - val_loss: 0.1689 - val_acc: 0.9340\n",
      "Epoch 4/100\n",
      "100/100 [==============================] - 9s 93ms/step - acc: 0.9535 - loss: 0.1228 - val_loss: 0.2320 - val_acc: 0.9060\n",
      "Epoch 5/100\n",
      "100/100 [==============================] - 9s 92ms/step - acc: 0.9565 - loss: 0.1067 - val_loss: 0.2158 - val_acc: 0.9190\n",
      "Epoch 6/100\n",
      "100/100 [==============================] - 9s 93ms/step - acc: 0.9660 - loss: 0.0919 - val_loss: 0.2043 - val_acc: 0.9310\n",
      "Epoch 7/100\n",
      "100/100 [==============================] - 9s 93ms/step - acc: 0.9745 - loss: 0.0772 - val_loss: 0.2154 - val_acc: 0.9210\n",
      "Epoch 8/100\n",
      "100/100 [==============================] - 9s 93ms/step - acc: 0.9810 - loss: 0.0636 - val_loss: 0.2477 - val_acc: 0.9250\n",
      "Epoch 9/100\n",
      "100/100 [==============================] - 9s 93ms/step - acc: 0.9770 - loss: 0.0608 - val_loss: 0.1972 - val_acc: 0.9290\n",
      "Epoch 10/100\n",
      "100/100 [==============================] - 9s 93ms/step - acc: 0.9835 - loss: 0.0464 - val_loss: 0.2482 - val_acc: 0.9240\n",
      "Epoch 11/100\n",
      "100/100 [==============================] - 9s 93ms/step - acc: 0.9815 - loss: 0.0515 - val_loss: 0.2306 - val_acc: 0.9310\n",
      "Epoch 12/100\n",
      "100/100 [==============================] - 9s 93ms/step - acc: 0.9790 - loss: 0.0504 - val_loss: 0.2610 - val_acc: 0.9210\n",
      "Epoch 13/100\n",
      "100/100 [==============================] - 9s 93ms/step - acc: 0.9825 - loss: 0.0458 - val_loss: 0.2452 - val_acc: 0.9280\n",
      "Epoch 14/100\n",
      "100/100 [==============================] - 9s 93ms/step - acc: 0.9845 - loss: 0.0439 - val_loss: 0.2150 - val_acc: 0.9270\n",
      "Epoch 15/100\n",
      "100/100 [==============================] - 9s 93ms/step - acc: 0.9850 - loss: 0.0389 - val_loss: 0.2484 - val_acc: 0.9240\n",
      "Epoch 16/100\n",
      "100/100 [==============================] - 9s 93ms/step - acc: 0.9880 - loss: 0.0283 - val_loss: 0.2613 - val_acc: 0.9270\n",
      "Epoch 17/100\n",
      "100/100 [==============================] - 9s 93ms/step - acc: 0.9915 - loss: 0.0251 - val_loss: 0.2564 - val_acc: 0.9340\n",
      "Epoch 18/100\n",
      "100/100 [==============================] - 9s 93ms/step - acc: 0.9875 - loss: 0.0338 - val_loss: 0.2496 - val_acc: 0.9340\n",
      "Epoch 19/100\n",
      "100/100 [==============================] - 9s 93ms/step - acc: 0.9935 - loss: 0.0205 - val_loss: 0.2483 - val_acc: 0.9300\n",
      "Epoch 20/100\n",
      "100/100 [==============================] - 9s 93ms/step - acc: 0.9945 - loss: 0.0200 - val_loss: 0.2532 - val_acc: 0.9330\n",
      "Epoch 21/100\n",
      "100/100 [==============================] - 9s 93ms/step - acc: 0.9890 - loss: 0.0304 - val_loss: 0.2622 - val_acc: 0.9330\n",
      "Epoch 22/100\n",
      "100/100 [==============================] - 9s 93ms/step - acc: 0.9925 - loss: 0.0187 - val_loss: 0.2652 - val_acc: 0.9360\n",
      "Epoch 23/100\n",
      "100/100 [==============================] - 9s 93ms/step - acc: 0.9940 - loss: 0.0201 - val_loss: 0.3400 - val_acc: 0.9210\n",
      "Epoch 24/100\n",
      "100/100 [==============================] - 9s 93ms/step - acc: 0.9915 - loss: 0.0197 - val_loss: 0.2320 - val_acc: 0.9340\n",
      "Epoch 25/100\n",
      "100/100 [==============================] - 9s 93ms/step - acc: 0.9950 - loss: 0.0166 - val_loss: 0.2681 - val_acc: 0.9270\n",
      "Epoch 26/100\n",
      "100/100 [==============================] - 9s 93ms/step - acc: 0.9955 - loss: 0.0159 - val_loss: 0.2698 - val_acc: 0.9280\n",
      "Epoch 27/100\n",
      "100/100 [==============================] - 9s 93ms/step - acc: 0.9930 - loss: 0.0150 - val_loss: 0.3353 - val_acc: 0.9250\n",
      "Epoch 28/100\n",
      "100/100 [==============================] - 9s 93ms/step - acc: 0.9975 - loss: 0.0111 - val_loss: 0.3091 - val_acc: 0.9230\n",
      "Epoch 29/100\n",
      "100/100 [==============================] - 9s 93ms/step - acc: 0.9965 - loss: 0.0115 - val_loss: 0.2706 - val_acc: 0.9340\n",
      "Epoch 30/100\n",
      "100/100 [==============================] - 9s 93ms/step - acc: 0.9980 - loss: 0.0100 - val_loss: 0.3787 - val_acc: 0.9200\n",
      "Epoch 31/100\n",
      "100/100 [==============================] - 9s 93ms/step - acc: 0.9970 - loss: 0.0118 - val_loss: 0.2335 - val_acc: 0.9400\n",
      "Epoch 32/100\n",
      "100/100 [==============================] - 9s 93ms/step - acc: 0.9965 - loss: 0.0099 - val_loss: 0.3045 - val_acc: 0.9300\n",
      "Epoch 33/100\n",
      "100/100 [==============================] - 9s 93ms/step - acc: 0.9965 - loss: 0.0106 - val_loss: 0.2398 - val_acc: 0.9430\n",
      "Epoch 34/100\n",
      "100/100 [==============================] - 9s 93ms/step - acc: 0.9960 - loss: 0.0116 - val_loss: 0.3019 - val_acc: 0.9280\n",
      "Epoch 35/100\n",
      "100/100 [==============================] - 9s 93ms/step - acc: 0.9990 - loss: 0.0053 - val_loss: 0.3412 - val_acc: 0.9360\n",
      "Epoch 36/100\n",
      "100/100 [==============================] - 9s 93ms/step - acc: 0.9965 - loss: 0.0110 - val_loss: 0.2444 - val_acc: 0.9380\n",
      "Epoch 37/100\n",
      "100/100 [==============================] - 9s 93ms/step - acc: 0.9970 - loss: 0.0116 - val_loss: 0.3184 - val_acc: 0.9370\n",
      "Epoch 38/100\n",
      "100/100 [==============================] - 9s 93ms/step - acc: 0.9980 - loss: 0.0054 - val_loss: 0.2658 - val_acc: 0.9430\n",
      "Epoch 39/100\n",
      "100/100 [==============================] - 9s 93ms/step - acc: 0.9960 - loss: 0.0097 - val_loss: 0.3794 - val_acc: 0.9250\n",
      "Epoch 40/100\n",
      "100/100 [==============================] - 9s 93ms/step - acc: 0.9980 - loss: 0.0052 - val_loss: 0.2941 - val_acc: 0.9440\n",
      "Epoch 41/100\n",
      "100/100 [==============================] - 9s 93ms/step - acc: 0.9975 - loss: 0.0078 - val_loss: 0.3028 - val_acc: 0.9330\n",
      "Epoch 42/100\n",
      "100/100 [==============================] - 9s 93ms/step - acc: 0.9975 - loss: 0.0077 - val_loss: 0.3315 - val_acc: 0.9430\n",
      "Epoch 43/100\n",
      "100/100 [==============================] - 9s 93ms/step - acc: 0.9985 - loss: 0.0047 - val_loss: 0.3486 - val_acc: 0.9390\n",
      "Epoch 44/100\n",
      "100/100 [==============================] - 9s 93ms/step - acc: 0.9975 - loss: 0.0097 - val_loss: 0.3374 - val_acc: 0.9290\n",
      "Epoch 45/100\n",
      "100/100 [==============================] - 9s 93ms/step - acc: 0.9955 - loss: 0.0107 - val_loss: 0.2504 - val_acc: 0.9460\n",
      "Epoch 46/100\n",
      "100/100 [==============================] - 9s 94ms/step - acc: 0.9980 - loss: 0.0046 - val_loss: 0.3442 - val_acc: 0.9330\n",
      "Epoch 47/100\n",
      "100/100 [==============================] - 9s 93ms/step - acc: 0.9990 - loss: 0.0032 - val_loss: 0.3186 - val_acc: 0.9360\n",
      "Epoch 48/100\n",
      "100/100 [==============================] - 9s 93ms/step - acc: 0.9990 - loss: 0.0039 - val_loss: 0.3911 - val_acc: 0.9410\n",
      "Epoch 49/100\n",
      "100/100 [==============================] - 9s 93ms/step - acc: 0.9960 - loss: 0.0104 - val_loss: 0.3435 - val_acc: 0.9360\n",
      "Epoch 50/100\n",
      "100/100 [==============================] - 9s 93ms/step - acc: 0.9980 - loss: 0.0064 - val_loss: 0.5027 - val_acc: 0.9200\n",
      "Epoch 51/100\n",
      "100/100 [==============================] - 9s 93ms/step - acc: 0.9980 - loss: 0.0052 - val_loss: 0.3240 - val_acc: 0.9430\n",
      "Epoch 52/100\n",
      "100/100 [==============================] - 9s 93ms/step - acc: 0.9985 - loss: 0.0062 - val_loss: 0.3065 - val_acc: 0.9460\n",
      "Epoch 53/100\n",
      "100/100 [==============================] - 9s 93ms/step - acc: 0.9975 - loss: 0.0095 - val_loss: 0.3728 - val_acc: 0.9260\n",
      "Epoch 54/100\n",
      "100/100 [==============================] - 9s 93ms/step - acc: 0.9990 - loss: 0.0031 - val_loss: 0.3476 - val_acc: 0.9390\n",
      "Epoch 55/100\n",
      "100/100 [==============================] - 9s 93ms/step - acc: 0.9995 - loss: 0.0038 - val_loss: 0.3234 - val_acc: 0.9410\n",
      "Epoch 56/100\n",
      "100/100 [==============================] - 9s 93ms/step - acc: 0.9990 - loss: 0.0041 - val_loss: 0.3720 - val_acc: 0.9380\n",
      "Epoch 57/100\n",
      "100/100 [==============================] - 9s 93ms/step - acc: 0.9995 - loss: 0.0038 - val_loss: 0.3696 - val_acc: 0.9320\n",
      "Epoch 58/100\n",
      "100/100 [==============================] - 9s 93ms/step - acc: 0.9985 - loss: 0.0047 - val_loss: 0.3827 - val_acc: 0.9370\n",
      "Epoch 59/100\n",
      "100/100 [==============================] - 9s 93ms/step - acc: 0.9995 - loss: 0.0027 - val_loss: 0.3177 - val_acc: 0.9370\n",
      "Epoch 60/100\n",
      "100/100 [==============================] - 9s 93ms/step - acc: 0.9960 - loss: 0.0074 - val_loss: 0.3732 - val_acc: 0.9290\n",
      "Epoch 61/100\n",
      "100/100 [==============================] - 9s 93ms/step - acc: 0.9995 - loss: 0.0022 - val_loss: 0.3076 - val_acc: 0.9350\n"
     ]
    },
    {
     "name": "stdout",
     "output_type": "stream",
     "text": [
      "Epoch 62/100\n",
      "100/100 [==============================] - 9s 93ms/step - acc: 0.9970 - loss: 0.0136 - val_loss: 0.3369 - val_acc: 0.9350\n",
      "Epoch 63/100\n",
      "100/100 [==============================] - 9s 93ms/step - acc: 0.9985 - loss: 0.0022 - val_loss: 0.3810 - val_acc: 0.9300\n",
      "Epoch 64/100\n",
      "100/100 [==============================] - 9s 93ms/step - acc: 0.9965 - loss: 0.0086 - val_loss: 0.3459 - val_acc: 0.9350\n",
      "Epoch 65/100\n",
      "100/100 [==============================] - 9s 93ms/step - acc: 0.9985 - loss: 0.0038 - val_loss: 0.3768 - val_acc: 0.9380\n",
      "Epoch 66/100\n",
      "100/100 [==============================] - 9s 93ms/step - acc: 0.9985 - loss: 0.0027 - val_loss: 0.6353 - val_acc: 0.9100\n",
      "Epoch 67/100\n",
      "100/100 [==============================] - 9s 93ms/step - acc: 0.9995 - loss: 0.0019 - val_loss: 0.3992 - val_acc: 0.9330\n",
      "Epoch 68/100\n",
      "100/100 [==============================] - 9s 93ms/step - acc: 0.9995 - loss: 0.0040 - val_loss: 0.4174 - val_acc: 0.9340\n",
      "Epoch 69/100\n",
      "100/100 [==============================] - 9s 93ms/step - acc: 0.9995 - loss: 0.0016 - val_loss: 0.4086 - val_acc: 0.9330\n",
      "Epoch 70/100\n",
      "100/100 [==============================] - 9s 93ms/step - acc: 0.9985 - loss: 0.0035 - val_loss: 0.4961 - val_acc: 0.9330\n",
      "Epoch 71/100\n",
      "100/100 [==============================] - 9s 93ms/step - acc: 0.9980 - loss: 0.0071 - val_loss: 0.3448 - val_acc: 0.9320\n",
      "Epoch 72/100\n",
      "100/100 [==============================] - 9s 93ms/step - acc: 0.9995 - loss: 0.0018 - val_loss: 0.3627 - val_acc: 0.9360\n",
      "Epoch 73/100\n",
      "100/100 [==============================] - 9s 93ms/step - acc: 0.9980 - loss: 0.0041 - val_loss: 0.3635 - val_acc: 0.9370\n",
      "Epoch 74/100\n",
      "100/100 [==============================] - 9s 93ms/step - acc: 0.9995 - loss: 0.0022 - val_loss: 0.3703 - val_acc: 0.9370\n",
      "Epoch 75/100\n",
      "100/100 [==============================] - 9s 93ms/step - acc: 0.9980 - loss: 0.0096 - val_loss: 0.4425 - val_acc: 0.9330\n",
      "Epoch 76/100\n",
      "100/100 [==============================] - 9s 93ms/step - acc: 1.0000 - loss: 5.9777e-04 - val_loss: 0.4281 - val_acc: 0.9410\n",
      "Epoch 77/100\n",
      "100/100 [==============================] - 9s 93ms/step - acc: 0.9970 - loss: 0.0078 - val_loss: 0.3700 - val_acc: 0.9370\n",
      "Epoch 78/100\n",
      "100/100 [==============================] - 9s 93ms/step - acc: 0.9990 - loss: 0.0036 - val_loss: 0.3908 - val_acc: 0.9480\n",
      "Epoch 79/100\n",
      "100/100 [==============================] - 9s 93ms/step - acc: 0.9990 - loss: 0.0057 - val_loss: 0.3805 - val_acc: 0.9450\n",
      "Epoch 80/100\n",
      "100/100 [==============================] - 9s 93ms/step - acc: 1.0000 - loss: 4.9930e-04 - val_loss: 0.3962 - val_acc: 0.9390\n",
      "Epoch 81/100\n",
      "100/100 [==============================] - 9s 93ms/step - acc: 0.9985 - loss: 0.0042 - val_loss: 0.4665 - val_acc: 0.9270\n",
      "Epoch 82/100\n",
      "100/100 [==============================] - 9s 93ms/step - acc: 0.9990 - loss: 0.0032 - val_loss: 0.3671 - val_acc: 0.9410\n",
      "Epoch 83/100\n",
      "100/100 [==============================] - 9s 93ms/step - acc: 0.9990 - loss: 0.0018 - val_loss: 0.4236 - val_acc: 0.9350\n",
      "Epoch 84/100\n",
      "100/100 [==============================] - 9s 93ms/step - acc: 0.9985 - loss: 0.0037 - val_loss: 0.3870 - val_acc: 0.9460\n",
      "Epoch 85/100\n",
      "100/100 [==============================] - 9s 93ms/step - acc: 0.9985 - loss: 0.0047 - val_loss: 0.4028 - val_acc: 0.9370\n",
      "Epoch 86/100\n",
      "100/100 [==============================] - 9s 93ms/step - acc: 0.9995 - loss: 0.0018 - val_loss: 0.5257 - val_acc: 0.9170\n",
      "Epoch 87/100\n",
      "100/100 [==============================] - 9s 93ms/step - acc: 0.9975 - loss: 0.0072 - val_loss: 0.6017 - val_acc: 0.9190\n",
      "Epoch 88/100\n",
      "100/100 [==============================] - 9s 93ms/step - acc: 0.9990 - loss: 0.0039 - val_loss: 0.4507 - val_acc: 0.9400\n",
      "Epoch 89/100\n",
      "100/100 [==============================] - 9s 93ms/step - acc: 0.9980 - loss: 0.0067 - val_loss: 0.3752 - val_acc: 0.9390\n",
      "Epoch 90/100\n",
      "100/100 [==============================] - 9s 93ms/step - acc: 0.9980 - loss: 0.0056 - val_loss: 0.4376 - val_acc: 0.9340\n",
      "Epoch 91/100\n",
      "100/100 [==============================] - 9s 93ms/step - acc: 0.9995 - loss: 0.0014 - val_loss: 0.3369 - val_acc: 0.9450\n",
      "Epoch 92/100\n",
      "100/100 [==============================] - 9s 93ms/step - acc: 0.9995 - loss: 0.0023 - val_loss: 0.5329 - val_acc: 0.9340\n",
      "Epoch 93/100\n",
      "100/100 [==============================] - 9s 93ms/step - acc: 0.9995 - loss: 0.0030 - val_loss: 0.3858 - val_acc: 0.9440\n",
      "Epoch 94/100\n",
      "100/100 [==============================] - 9s 93ms/step - acc: 0.9995 - loss: 0.0015 - val_loss: 0.3838 - val_acc: 0.9450\n",
      "Epoch 95/100\n",
      "100/100 [==============================] - 9s 93ms/step - acc: 0.9990 - loss: 0.0064 - val_loss: 0.5391 - val_acc: 0.9330\n",
      "Epoch 96/100\n",
      "100/100 [==============================] - 9s 93ms/step - acc: 0.9995 - loss: 0.0020 - val_loss: 0.4342 - val_acc: 0.9300\n",
      "Epoch 97/100\n",
      "100/100 [==============================] - 9s 93ms/step - acc: 0.9985 - loss: 0.0036 - val_loss: 0.3883 - val_acc: 0.9450\n",
      "Epoch 98/100\n",
      "100/100 [==============================] - 9s 93ms/step - acc: 0.9990 - loss: 0.0033 - val_loss: 0.4776 - val_acc: 0.9250\n",
      "Epoch 99/100\n",
      "100/100 [==============================] - 9s 93ms/step - acc: 0.9980 - loss: 0.0042 - val_loss: 0.3437 - val_acc: 0.9460\n",
      "Epoch 100/100\n",
      "100/100 [==============================] - 9s 93ms/step - acc: 1.0000 - loss: 3.6450e-04 - val_loss: 0.4733 - val_acc: 0.9380\n"
     ]
    }
   ],
   "source": [
    "history = model.fit_generator(train_generator,\n",
    "                             steps_per_epoch=100,\n",
    "                             epochs = 100,\n",
    "                             validation_data=validation_generator,\n",
    "                             validation_steps=50)"
   ]
  },
  {
   "cell_type": "code",
   "execution_count": 29,
   "metadata": {},
   "outputs": [
    {
     "data": {
      "image/png": "[encoded data removed]",
      "text/plain": [
       "<Figure size 432x288 with 1 Axes>"
      ]
     },
     "metadata": {
      "needs_background": "light"
     },
     "output_type": "display_data"
    },
    {
     "data": {
      "image/png": "[encoded data removed]",
      "text/plain": [
       "<Figure size 432x288 with 1 Axes>"
      ]
     },
     "metadata": {
      "needs_background": "light"
     },
     "output_type": "display_data"
    }
   ],
   "source": [
    "acc = history.history[\"acc\"]\n",
    "val_acc = history.history[\"val_acc\"]\n",
    "loss = history.history[\"loss\"]\n",
    "val_loss = history.history[\"val_loss\"]\n",
    "\n",
    "epochs = range(1, len(acc) + 1)\n",
    "\n",
    "plt.plot(epochs, acc, \"bo\", label = \"Traning acc\")\n",
    "plt.plot(epochs, val_acc, \"b\", label = \"Validation acc\")\n",
    "plt.title(\"Training and validation accuracy\")\n",
    "plt.legend()\n",
    "\n",
    "plt.figure()\n",
    "\n",
    "plt.plot(epochs, loss, \"bo\", label = \"Training loss\")\n",
    "plt.plot(epochs, val_loss, \"b\", label = \"Validation loss\")\n",
    "plt.title(\"Training and validation loss\")\n",
    "plt.legend()\n",
    "\n",
    "plt.show()"
   ]
  },
  {
   "cell_type": "code",
   "execution_count": 30,
   "metadata": {},
   "outputs": [],
   "source": [
    "# 코드 5-24 부드러운 그래프 그리기\n",
    "def smooth_curve(points, factor = 0.8):\n",
    "    smoothed_points = []\n",
    "    for point in points:\n",
    "        if smoothed_points:\n",
    "            previousmoothed_pointstappendtsts_points_points_pointsthed_points[-1]\n",
    "            smoothed_points.append(previous * factor + point * (1 - factor))\n",
    "        else:\n",
    "            smoothed_points.append(point)\n",
    "    return smoothed_points"
   ]
  },
  {
   "cell_type": "code",
   "execution_count": 31,
   "metadata": {},
   "outputs": [
    {
     "data": {
      "image/png": "[encoded data removed]",
      "text/plain": [
       "<Figure size 432x288 with 1 Axes>"
      ]
     },
     "metadata": {
      "needs_background": "light"
     },
     "output_type": "display_data"
    },
    {
     "data": {
      "image/png": "[encoded data removed]",
      "text/plain": [
       "<Figure size 432x288 with 1 Axes>"
      ]
     },
     "metadata": {
      "needs_background": "light"
     },
     "output_type": "display_data"
    }
   ],
   "source": [
    "plt.plot(epochs, smooth_curve(acc), \"bo\", label = \"Smoothed training acc\")\n",
    "plt.plot(epochs, smooth_curve(val_acc), \"b\", label = \"Smoothed validation acc\")\n",
    "plt.title(\"Training and validation accuracy\")\n",
    "plt.legend()\n",
    "\n",
    "plt.figure()smooth_curve(epochs, smooth_curve(loss), \"bo\", label = \"Smoothed training loss\")\n",
    "plt.plot(epochs, smooth_curve(val_loss), \"b\", label = \"Smoothed validation loss\")\n",
    "plt.title(\"Traning and validation loss\")\n",
    "plt.legend()\n",
    "\n",
    "plt.show()"
   ]
  },
  {
   "cell_type": "code",
   "execution_count": 34,
   "metadata": {},
   "outputs": [
    {
     "name": "stdout",
     "output_type": "stream",
     "text": [
      "Found 1000 images belonging to 2 classes.\n"
     ]
    }
   ],
   "source": [
    "test_generator = test_datagen.flow_from_directory(test_dir,\n",
    "                                                 target_size = (150, 150),\n",
    "                                                 batch_size = 20,\n",
    "                                                 class_mode = \"binary\")"
   ]
  },
  {
   "cell_type": "code",
   "execution_count": 35,
   "metadata": {},
   "outputs": [
    {
     "name": "stdout",
     "output_type": "stream",
     "text": [
      "WARNING:tensorflow:From <ipython-input-35-ef403ddfc7ce>:1: Model.evaluate_generator (from tensorflow.python.keras.engine.training) is deprecated and will be removed in a future version.\n",
      "Instructions for updating:\n",
      "Please use Model.evaluate, which supports generators.\n",
      "test acc : 0.9409999847412109\n"
     ]
    }
   ],
   "source": [
    "test_loss, test_acc = model.evaluate_generator(test_generator, steps = 50)\n",
    "print(\"test acc :\", test_acc)"
   ]
  },
  {
   "cell_type": "code",
   "execution_count": null,
   "metadata": {},
   "outputs": [],
   "source": []
  }
 ],
 "metadata": {
  "kernelspec": {
   "display_name": "Python 3",
   "language": "python",
   "name": "python3"
  },
  "language_info": {
   "codemirror_mode": {
    "name": "ipython",
    "version": 3
   },
   "file_extension": ".py",
   "mimetype": "text/x-python",
   "name": "python",
   "nbconvert_exporter": "python",
   "pygments_lexer": "ipython3",
   "version": "3.5.2"
  }
 },
 "nbformat": 4,
 "nbformat_minor": 2
}
