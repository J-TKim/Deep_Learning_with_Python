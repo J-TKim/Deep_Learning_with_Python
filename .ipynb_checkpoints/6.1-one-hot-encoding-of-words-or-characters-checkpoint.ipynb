{
 "cells": [
  {
   "cell_type": "code",
   "execution_count": 1,
   "metadata": {},
   "outputs": [],
   "source": [
    "# 코드 6-1 단어 수준의 웟-핫 인코딩하기(간단한 예)\n",
    "import numpy as np\n",
    "\n",
    "# 초기 데이터 : 각 원소가 샘플입니다\n",
    "samples = [\"The Cat sat on the mat.\", \"The dog ate my homework\"]\n",
    "\n",
    "token_index = {} # 데이터에 있는 모든 토큰의 인덱스를 구축합니다\n",
    "for sample in samples:\n",
    "    for word in sample.split(): # split()메서드를 사용하여 샘플을 토큰으로 나눕니다.\n",
    "        if word not in token_index:\n",
    "            token_index[word] = len(token_index) + 1 # 단어마다 고유한 인덱스를 할당\n",
    "\n",
    "max_length = 10 # 샘플을 벡터로 변환, 각 샘플에서 10까지 단어만 사용\n",
    "\n",
    "results = np.zeros(shape = (len(samples),\n",
    "                           max_length,\n",
    "                           max(token_index.values()) + 1 )) # 결과를 저장할 배열\n",
    "\n",
    "for i, sample in enumerate(samples):\n",
    "    for j, word in list(enumerate(sample.split()))[:max_length]:\n",
    "        index = token_index.get(word)\n",
    "        results[i, j, index] = 1"
   ]
  },
  {
   "cell_type": "code",
   "execution_count": 2,
   "metadata": {},
   "outputs": [],
   "source": [
    "# 코드 6-2 문자 수준 원-핫 인코딩하기(간단한 예)\n",
    "import string\n",
    "\n",
    "samples = [\"The Cat sat on the mat.\", \"The dog ate my homework\"]\n",
    "characters = string.printable # 출력 가능한 모든 아스키문자\n",
    "token_index = dict(zip(characters, range(1, len(characters) + 1)))\n",
    "\n",
    "max_length = 50\n",
    "results = np.zeros((len(samples), max_length, max(token_index.values()) + 1))\n",
    "for i, sample in enumerate(samples):\n",
    "    for j, character in enumerate(sample):\n",
    "        index = token_index.get(character)\n",
    "        results[i, j, index] = 1"
   ]
  },
  {
   "cell_type": "code",
   "execution_count": 3,
   "metadata": {},
   "outputs": [
    {
     "name": "stdout",
     "output_type": "stream",
     "text": [
      "9개의 고유한 토큰을 찾았습니다\n"
     ]
    }
   ],
   "source": [
    "# 코드 6-3 케라스를 사용한 단어 수준의 원-핫 인코딩하기\n",
    "from keras.preprocessing.text import Tokenizer\n",
    "\n",
    "samples = [\"The Cat sat on the mat.\", \"The dog ate my homework\"]\n",
    "\n",
    "tokenizer = Tokenizer(num_words=1000) # 가장 빈도가 높은 1,000개의 단어만 선택하도록 Tokenizer 객체를 만듭니다.\n",
    "tokenizer.fit_on_texts(samples) # 단어 인덱스를 구축합니다\n",
    "\n",
    "sequences = tokenizer.texts_to_sequences(samples) # 문자열을 정수 인덱스의 리스트로 변환합니다\n",
    "\n",
    "ont_hot_results = tokenizer.texts_to_matrix(samples, mode = \"binary\")\n",
    "\n",
    "word_index = tokenizer.word_index # 계산된 단어 인덱스를 구합니다\n",
    "print(\"%s개의 고유한 토큰을 찾았습니다\" %(len(word_index)))"
   ]
  },
  {
   "cell_type": "code",
   "execution_count": 4,
   "metadata": {},
   "outputs": [],
   "source": [
    "# 코드 6-4 해싱 기법을 사용한 단어 수준의 원-핫 인코딩하기(간단한 예)\n",
    "samples = [\"The Cat sat on the mat.\", \"The dog ate my homework\"]\n",
    "\n",
    "dimensionality = 1000 # 단어를 크기가 1,000인 벡터로 저장합니다 1000개의 단어가 있다면 해싱 충돌이 늘어나고 인코딩 정확도 감소\n",
    "max_length = 10\n",
    "\n",
    "results = np.zeros((len(samples), max_length, dimensionality))\n",
    "for i, sample in enumerate(samples):\n",
    "    for j, word in list(enumerate(sample.split()))[:max_length]:\n",
    "        index = abs(hash(word)) % dimensionality # 단어를 해싱하여 0과 1,000 사이의 랜덤한 정수 인덱스로 변환합니다\n",
    "        results[i, j, index] = 1"
   ]
  },
  {
   "cell_type": "code",
   "execution_count": 5,
   "metadata": {},
   "outputs": [],
   "source": [
    "# 코드 6-5 Embedding 층의 객체 생성하기\n",
    "from keras.layers import Embedding\n",
    "\n",
    "embedding_layer = Embedding(1000, 64)\n",
    "# 임베딩층은 적어도 2개의 매개변수를 받습니다.\n",
    "# 가능한 토큰의 개수(여기서는 1000으로 단어 인덱스 최댓값 + 1)와 임베딩 차원(여기서는 64)"
   ]
  },
  {
   "cell_type": "code",
   "execution_count": 6,
   "metadata": {},
   "outputs": [],
   "source": [
    "# 코드 6-6 Embedding 층에 사용할 IMDB데이터 로드하기\n",
    "from keras.datasets import imdb\n",
    "from keras import preprocessing\n",
    "\n",
    "max_features = 10000 # 특성으로 사용할 단어의 수\n",
    "maxlen = 20 # 사용할 텍스트의 길이(가장 빈번한 max_features개의 단어만 사용합니다)\n",
    "\n",
    "(x_train, y_train), (x_test, y_test) = imdb.load_data(num_words = max_features) # 정수 리스트로 데이터를 로드합니다\n",
    "\n",
    "x_train = preprocessing.sequence.pad_sequences(x_train, maxlen=maxlen) # 리스트를 (samples, maxlen) 크기의 2D 정수 텐서로 변환\n",
    "x_test = preprocessing.sequence.pad_sequences(x_test, maxlen=maxlen)"
   ]
  },
  {
   "cell_type": "code",
   "execution_count": 7,
   "metadata": {},
   "outputs": [],
   "source": [
    "# 코드 6-7 IMDB 데이터에 Embedding 층과 분류기 사용하기\n",
    "from keras.models import Sequential\n",
    "from keras.layers import Flatten, Dense, Embedding\n",
    "\n",
    "model = Sequential()\n",
    "model.add(Embedding(10000, 8, input_length = maxlen))\n",
    "\n",
    "model.add(Flatten()) # 3D 임베딩 텐서를 (samples, maxlen * 8) 크기의 2D 텐서로 펼칩니다\n",
    "\n",
    "model.add(Dense(1, activation =\"sigmoid\")) # 분류기를 추가합니다"
   ]
  },
  {
   "cell_type": "code",
   "execution_count": 8,
   "metadata": {},
   "outputs": [],
   "source": [
    "model.compile(loss = \"binary_crossentropy\",\n",
    "             optimizer= \"rmsprop\",\n",
    "             metrics = [\"acc\"])"
   ]
  },
  {
   "cell_type": "code",
   "execution_count": 9,
   "metadata": {},
   "outputs": [
    {
     "name": "stdout",
     "output_type": "stream",
     "text": [
      "Epoch 1/10\n",
      "625/625 [==============================] - 3s 5ms/step - acc: 0.6241 - loss: 0.6672 - val_loss: 0.6136 - val_acc: 0.6896\n",
      "Epoch 2/10\n",
      "625/625 [==============================] - 3s 5ms/step - acc: 0.7513 - loss: 0.5387 - val_loss: 0.5252 - val_acc: 0.7308\n",
      "Epoch 3/10\n",
      "625/625 [==============================] - 3s 5ms/step - acc: 0.7875 - loss: 0.4611 - val_loss: 0.5011 - val_acc: 0.7438\n",
      "Epoch 4/10\n",
      "625/625 [==============================] - 3s 5ms/step - acc: 0.8080 - loss: 0.4221 - val_loss: 0.4951 - val_acc: 0.7478\n",
      "Epoch 5/10\n",
      "625/625 [==============================] - 3s 4ms/step - acc: 0.8231 - loss: 0.3949 - val_loss: 0.4976 - val_acc: 0.7496\n",
      "Epoch 6/10\n",
      "625/625 [==============================] - 3s 5ms/step - acc: 0.8339 - loss: 0.3737 - val_loss: 0.5007 - val_acc: 0.7516\n",
      "Epoch 7/10\n",
      "625/625 [==============================] - 1s 2ms/step - acc: 0.8449 - loss: 0.3547 - val_loss: 0.5071 - val_acc: 0.7502\n",
      "Epoch 8/10\n",
      "625/625 [==============================] - 3s 5ms/step - acc: 0.8554 - loss: 0.3373 - val_loss: 0.5113 - val_acc: 0.7510\n",
      "Epoch 9/10\n",
      "625/625 [==============================] - 2s 3ms/step - acc: 0.8651 - loss: 0.3210 - val_loss: 0.5195 - val_acc: 0.7494\n",
      "Epoch 10/10\n",
      "625/625 [==============================] - 3s 5ms/step - acc: 0.8752 - loss: 0.3044 - val_loss: 0.5275 - val_acc: 0.7484\n"
     ]
    }
   ],
   "source": [
    "history = model.fit(x_train, y_train,\n",
    "                   epochs = 10,\n",
    "                   batch_size=32,\n",
    "                   validation_split=0.2)"
   ]
  },
  {
   "cell_type": "code",
   "execution_count": 10,
   "metadata": {},
   "outputs": [],
   "source": [
    "# 코드 6-8 IMDB 원본 데이터 전처리하기\n",
    "import os\n",
    "\n",
    "imdb_dir = \"./deep-learning-with-python-notebooks-master/datasets/aclImdb\"\n",
    "train_dir = os.path.join(imdb_dir, \"train\")"
   ]
  },
  {
   "cell_type": "code",
   "execution_count": 11,
   "metadata": {},
   "outputs": [],
   "source": [
    "labels = []\n",
    "texts = []\n",
    "\n",
    "for label_type in [\"neg\", \"pos\"]:\n",
    "    dir_name = os.path.join(train_dir, label_type)\n",
    "    for fname in os.listdir(dir_name):\n",
    "        if fname[-4:] == \".txt\":\n",
    "            f = open(os.path.join(dir_name, fname), encoding = \"utf8\")\n",
    "            texts.append(f.read())\n",
    "            f.close()\n",
    "            if label_type == \"neg\":\n",
    "                labels.append(0)\n",
    "            else:\n",
    "                labels.append(1)"
   ]
  },
  {
   "cell_type": "code",
   "execution_count": 12,
   "metadata": {},
   "outputs": [
    {
     "name": "stdout",
     "output_type": "stream",
     "text": [
      "88582개의 고유한 토큰을 찾았습니다\n",
      "데이터 텐서의 크기 : (25000, 100)\n",
      "레이블 텐서의 크기 : (25000,)\n"
     ]
    }
   ],
   "source": [
    "# 코드 6-9 IMDB의 원본 데이터의 텍스트를 토큰화하기\n",
    "from keras.preprocessing.text import Tokenizer\n",
    "from keras.preprocessing.sequence import pad_sequences\n",
    "import numpy as np\n",
    "\n",
    "maxlen = 100 # 100개 단어 이후는 버림\n",
    "training_samples = 200 # 훈련 샘플은 200개\n",
    "validation_samples = 10000 # 검증 샘플은 만개\n",
    "max_words = 10000 # 데이터셋에서 가장 빈도 높은 1만개의 단어만 사용합니다\n",
    "\n",
    "tokenizer = Tokenizer(num_words=max_words)\n",
    "tokenizer.fit_on_texts(texts)\n",
    "sequences = tokenizer.texts_to_sequences(texts)\n",
    "\n",
    "word_index = tokenizer.word_index\n",
    "print(\"%s개의 고유한 토큰을 찾았습니다\" %  len(word_index))\n",
    "\n",
    "data = pad_sequences(sequences, maxlen=maxlen)\n",
    "labels = np.asarray(labels)\n",
    "print(\"데이터 텐서의 크기 :\", data.shape)\n",
    "print(\"레이블 텐서의 크기 :\", labels.shape)\n",
    "\n",
    "indices = np.arange(data.shape[0])\n",
    "np.random.shuffle(indices)\n",
    "data = data[indices]\n",
    "labels = labels[indices]\n",
    "\n",
    "x_train = data[:training_samples]\n",
    "y_train = labels[:training_samples]\n",
    "x_val = data[training_samples: training_samples + validation_samples]\n",
    "y_val = labels[training_samples : training_samples + validation_samples]"
   ]
  },
  {
   "cell_type": "code",
   "execution_count": 13,
   "metadata": {},
   "outputs": [
    {
     "name": "stdout",
     "output_type": "stream",
     "text": [
      "400000개의 단어 벡터를 찾았습니다\n"
     ]
    }
   ],
   "source": [
    "# 코드 6-10 GloVe 단어 임베딩 파일 파싱하기\n",
    "glove_dir = \"./deep-learning-with-python-notebooks-master/datasets/glove-6b\"\n",
    "embeddings_index ={}\n",
    "f = open(os.path.join(glove_dir, \"glove.6B.100d.txt\"), encoding = \"utf8\")\n",
    "for line in f:\n",
    "    values = line.split()\n",
    "    word = values[0]\n",
    "    coefs = np.asarray(values[1:], dtype=\"float32\")\n",
    "    embeddings_index[word] = coefs\n",
    "f.close()\n",
    "\n",
    "print(\"%s개의 단어 벡터를 찾았습니다\" % len(embeddings_index))"
   ]
  },
  {
   "cell_type": "code",
   "execution_count": 14,
   "metadata": {},
   "outputs": [],
   "source": [
    "# 코드 6-11 GloVe 단어 임베딩 행렬 준비하기\n",
    "embedding_dim = 100\n",
    "\n",
    "embedding_matrix = np.zeros((max_words, embedding_dim))\n",
    "for word, i in word_index.items():\n",
    "    if i < max_words:\n",
    "        embedding_vector = embeddings_index.get(word)\n",
    "        if embedding_vector is not None:\n",
    "            embedding_matrix[i] = embedding_vector # 임베딩 인덱스에 없는 단어는 모두 0이 됩니다"
   ]
  },
  {
   "cell_type": "code",
   "execution_count": 15,
   "metadata": {},
   "outputs": [],
   "source": [
    "# 코드 6-12 모델 정의하기\n",
    "from keras.models import Sequential\n",
    "from keras.layers import Embedding, Flatten, Dense\n",
    "\n",
    "model = Sequential()\n",
    "model.add(Embedding(max_words, embedding_dim, input_length = maxlen))\n",
    "model.add(Flatten())\n",
    "model.add(Dense(32, activation = \"relu\"))\n",
    "model.add(Dense(1, activation = \"sigmoid\"))"
   ]
  },
  {
   "cell_type": "code",
   "execution_count": 16,
   "metadata": {},
   "outputs": [
    {
     "name": "stdout",
     "output_type": "stream",
     "text": [
      "Model: \"sequential_1\"\n",
      "_________________________________________________________________\n",
      "Layer (type)                 Output Shape              Param #   \n",
      "=================================================================\n",
      "embedding_2 (Embedding)      (None, 100, 100)          1000000   \n",
      "_________________________________________________________________\n",
      "flatten_1 (Flatten)          (None, 10000)             0         \n",
      "_________________________________________________________________\n",
      "dense_1 (Dense)              (None, 32)                320032    \n",
      "_________________________________________________________________\n",
      "dense_2 (Dense)              (None, 1)                 33        \n",
      "=================================================================\n",
      "Total params: 1,320,065\n",
      "Trainable params: 1,320,065\n",
      "Non-trainable params: 0\n",
      "_________________________________________________________________\n"
     ]
    }
   ],
   "source": [
    "model.summary()"
   ]
  },
  {
   "cell_type": "code",
   "execution_count": 17,
   "metadata": {},
   "outputs": [],
   "source": [
    "# 코드 6-13 사전 훈련된 단어 임베딩을 Embedding 층에 로드하기\n",
    "model.layers[0].set_weights([embedding_matrix])\n",
    "model.layers[0].trainable = False"
   ]
  },
  {
   "cell_type": "code",
   "execution_count": 18,
   "metadata": {},
   "outputs": [],
   "source": [
    "# 코드 6-14 훈련과 평가하기\n",
    "model.compile(loss = \"binary_crossentropy\",\n",
    "             optimizer = \"rmsprop\",\n",
    "             metrics = [\"acc\"])"
   ]
  },
  {
   "cell_type": "code",
   "execution_count": 19,
   "metadata": {},
   "outputs": [
    {
     "name": "stdout",
     "output_type": "stream",
     "text": [
      "Epoch 1/10\n",
      "7/7 [==============================] - 1s 184ms/step - acc: 0.4900 - loss: 1.5435 - val_loss: 1.0278 - val_acc: 0.5046\n",
      "Epoch 2/10\n",
      "7/7 [==============================] - 1s 186ms/step - acc: 0.6700 - loss: 0.5697 - val_loss: 0.7577 - val_acc: 0.5178\n",
      "Epoch 3/10\n",
      "7/7 [==============================] - 1s 168ms/step - acc: 0.8200 - loss: 0.5064 - val_loss: 0.7102 - val_acc: 0.5525\n",
      "Epoch 4/10\n",
      "7/7 [==============================] - 1s 169ms/step - acc: 0.8300 - loss: 0.3444 - val_loss: 0.9651 - val_acc: 0.5081\n",
      "Epoch 5/10\n",
      "7/7 [==============================] - 1s 151ms/step - acc: 0.9700 - loss: 0.1921 - val_loss: 0.7419 - val_acc: 0.5479\n",
      "Epoch 6/10\n",
      "7/7 [==============================] - 1s 193ms/step - acc: 0.9700 - loss: 0.1658 - val_loss: 1.3185 - val_acc: 0.4973\n",
      "Epoch 7/10\n",
      "7/7 [==============================] - 1s 164ms/step - acc: 0.9550 - loss: 0.1429 - val_loss: 0.9379 - val_acc: 0.5239\n",
      "Epoch 8/10\n",
      "7/7 [==============================] - 1s 137ms/step - acc: 1.0000 - loss: 0.0716 - val_loss: 0.8027 - val_acc: 0.5492\n",
      "Epoch 9/10\n",
      "7/7 [==============================] - 1s 170ms/step - acc: 0.9900 - loss: 0.0611 - val_loss: 0.7467 - val_acc: 0.5695\n",
      "Epoch 10/10\n",
      "7/7 [==============================] - 1s 182ms/step - acc: 1.0000 - loss: 0.0275 - val_loss: 1.1968 - val_acc: 0.5139\n"
     ]
    }
   ],
   "source": [
    "history = model.fit(x_train, y_train,\n",
    "                   epochs =10,\n",
    "                   batch_size =32,\n",
    "                   validation_data = (x_val, y_val))"
   ]
  },
  {
   "cell_type": "code",
   "execution_count": 20,
   "metadata": {},
   "outputs": [],
   "source": [
    "model.save_weights(\"pre_trained_glove_model.h5\")"
   ]
  },
  {
   "cell_type": "code",
   "execution_count": 21,
   "metadata": {},
   "outputs": [
    {
     "data": {
      "text/plain": [
       "<Figure size 640x480 with 1 Axes>"
      ]
     },
     "metadata": {},
     "output_type": "display_data"
    },
    {
     "data": {
      "text/plain": [
       "<Figure size 640x480 with 1 Axes>"
      ]
     },
     "metadata": {},
     "output_type": "display_data"
    }
   ],
   "source": [
    "# 코드 6-15 결과 그래프 그리기\n",
    "import matplotlib.pyplot as plt\n",
    "\n",
    "acc = history.history[\"acc\"]\n",
    "val_acc = history.history[\"val_acc\"]\n",
    "loss = history.history[\"loss\"]\n",
    "val_loss = history.history[\"val_loss\"]\n",
    "\n",
    "epochs = range(1, len(acc) + 1)\n",
    "\n",
    "plt.plot(epochs, acc, \"bo\", label = \"Traning acc\")\n",
    "plt.plot(epochs, val_acc, \"b\", label = \"Validation acc\")\n",
    "plt.title(\"Traning and validation accuracy\")\n",
    "plt.legend()\n",
    "\n",
    "plt.figure()\n",
    "\n",
    "plt.plot(epochs, loss, \"bo\", label = \"Traning loss\")\n",
    "plt.plot(epochs, val_loss, \"b\", label = \"Validation loss\")\n",
    "plt.title(\"Training and validation loss\")\n",
    "plt.legend()\n",
    "\n",
    "plt.show()"
   ]
  },
  {
   "cell_type": "code",
   "execution_count": 22,
   "metadata": {},
   "outputs": [],
   "source": [
    "# 코드 6-16 사전 훈련된 단어 임베딩을 사용하지 않고 같은 모델 훈련하기\n",
    "from keras.models import Sequential\n",
    "from keras.layers import Embedding, Flatten, Dense\n",
    "\n",
    "model = Sequential()\n",
    "model.add(Embedding(max_words, embedding_dim, input_length = maxlen))\n",
    "model.add(Flatten())\n",
    "model.add(Dense(32, activation = \"relu\"))\n",
    "model.add(Dense(1, activation = \"sigmoid\"))"
   ]
  },
  {
   "cell_type": "code",
   "execution_count": 23,
   "metadata": {},
   "outputs": [
    {
     "name": "stdout",
     "output_type": "stream",
     "text": [
      "Model: \"sequential_2\"\n",
      "_________________________________________________________________\n",
      "Layer (type)                 Output Shape              Param #   \n",
      "=================================================================\n",
      "embedding_3 (Embedding)      (None, 100, 100)          1000000   \n",
      "_________________________________________________________________\n",
      "flatten_2 (Flatten)          (None, 10000)             0         \n",
      "_________________________________________________________________\n",
      "dense_3 (Dense)              (None, 32)                320032    \n",
      "_________________________________________________________________\n",
      "dense_4 (Dense)              (None, 1)                 33        \n",
      "=================================================================\n",
      "Total params: 1,320,065\n",
      "Trainable params: 1,320,065\n",
      "Non-trainable params: 0\n",
      "_________________________________________________________________\n"
     ]
    }
   ],
   "source": [
    "model.summary()"
   ]
  },
  {
   "cell_type": "code",
   "execution_count": 24,
   "metadata": {},
   "outputs": [],
   "source": [
    "model.compile(loss = \"binary_crossentropy\",\n",
    "             optimizer = \"rmsprop\",\n",
    "             metrics = [\"acc\"])"
   ]
  },
  {
   "cell_type": "code",
   "execution_count": 25,
   "metadata": {},
   "outputs": [
    {
     "name": "stdout",
     "output_type": "stream",
     "text": [
      "Epoch 1/10\n",
      "7/7 [==============================] - 1s 188ms/step - acc: 0.5050 - loss: 0.6935 - val_loss: 0.6924 - val_acc: 0.5100\n",
      "Epoch 2/10\n",
      "7/7 [==============================] - 1s 182ms/step - acc: 0.9900 - loss: 0.5067 - val_loss: 0.6951 - val_acc: 0.5136\n",
      "Epoch 3/10\n",
      "7/7 [==============================] - 1s 158ms/step - acc: 0.9900 - loss: 0.2875 - val_loss: 0.7039 - val_acc: 0.5190\n",
      "Epoch 4/10\n",
      "7/7 [==============================] - 1s 193ms/step - acc: 1.0000 - loss: 0.1236 - val_loss: 0.7083 - val_acc: 0.5191\n",
      "Epoch 5/10\n",
      "7/7 [==============================] - 1s 182ms/step - acc: 1.0000 - loss: 0.0576 - val_loss: 0.7141 - val_acc: 0.5210\n",
      "Epoch 6/10\n",
      "7/7 [==============================] - 1s 185ms/step - acc: 1.0000 - loss: 0.0291 - val_loss: 0.7172 - val_acc: 0.5209\n",
      "Epoch 7/10\n",
      "7/7 [==============================] - 1s 168ms/step - acc: 1.0000 - loss: 0.0159 - val_loss: 0.7198 - val_acc: 0.5217\n",
      "Epoch 8/10\n",
      "7/7 [==============================] - 1s 182ms/step - acc: 1.0000 - loss: 0.0091 - val_loss: 0.7305 - val_acc: 0.5236\n",
      "Epoch 9/10\n",
      "7/7 [==============================] - 1s 185ms/step - acc: 1.0000 - loss: 0.0055 - val_loss: 0.7372 - val_acc: 0.5227\n",
      "Epoch 10/10\n",
      "7/7 [==============================] - 1s 181ms/step - acc: 1.0000 - loss: 0.0033 - val_loss: 0.7410 - val_acc: 0.5246\n"
     ]
    }
   ],
   "source": [
    "history = model.fit(x_train, y_train,\n",
    "                   epochs = 10,\n",
    "                   batch_size = 32,\n",
    "                   validation_data = (x_val, y_val))"
   ]
  },
  {
   "cell_type": "code",
   "execution_count": 26,
   "metadata": {},
   "outputs": [
    {
     "data": {
      "image/png": "[encoded data removed]",
      "text/plain": [
       "<Figure size 432x288 with 1 Axes>"
      ]
     },
     "metadata": {
      "needs_background": "light"
     },
     "output_type": "display_data"
    },
    {
     "data": {
      "image/png": "[encoded data removed]",
      "text/plain": [
       "<Figure size 432x288 with 1 Axes>"
      ]
     },
     "metadata": {
      "needs_background": "light"
     },
     "output_type": "display_data"
    }
   ],
   "source": [
    "import matplotlib.pyplot as plt\n",
    "\n",
    "acc = history.history[\"acc\"]\n",
    "val_acc = history.history[\"val_acc\"]\n",
    "loss = history.history[\"loss\"]\n",
    "val_loss = history.history[\"val_loss\"]\n",
    "\n",
    "epochs = range(1, len(acc) + 1)\n",
    "\n",
    "plt.plot(epochs, acc, \"bo\", label = \"Traning acc\")\n",
    "plt.plot(epochs, val_acc, \"b\", label = \"Validation acc\")\n",
    "plt.title(\"Traning and validation accuracy\")\n",
    "plt.legend()\n",
    "\n",
    "plt.figure()\n",
    "\n",
    "plt.plot(epochs, loss, \"bo\", label = \"Traning loss\")\n",
    "plt.plot(epochs, val_loss, \"b\", label = \"Validation loss\")\n",
    "plt.title(\"Training and validation loss\")\n",
    "plt.legend()\n",
    "\n",
    "plt.show()"
   ]
  },
  {
   "cell_type": "code",
   "execution_count": 29,
   "metadata": {},
   "outputs": [],
   "source": [
    "# 코드 6-17 테스트 데이터 토큰화하기\n",
    "test_dir = os.path.join(imdb_dir, \"test\")\n",
    "\n",
    "labels = []\n",
    "texts = []\n",
    "\n",
    "for label_type in [\"neg\", \"pos\"]:\n",
    "    dir_name = os.path.join(test_dir, label_type)\n",
    "    for fname in sorted(os.listdir(dir_name)):\n",
    "        if fname[-4:] == \".txt\":\n",
    "            f = open(os.path.join(dir_name, fname), encoding = \"utf8\")\n",
    "            texts.append(f.read())\n",
    "            f.close()\n",
    "            if label_type == \"neg\":\n",
    "                labels.append(0)\n",
    "            else:\n",
    "                labels.append(1)"
   ]
  },
  {
   "cell_type": "code",
   "execution_count": 30,
   "metadata": {},
   "outputs": [],
   "source": [
    "sequences = tokenizer.texts_to_sequences(texts)\n",
    "x_test = pad_sequences(sequences, maxlen=maxlen)\n",
    "y_test = np.asarray(labels)"
   ]
  },
  {
   "cell_type": "code",
   "execution_count": 31,
   "metadata": {},
   "outputs": [
    {
     "name": "stdout",
     "output_type": "stream",
     "text": [
      "782/782 [==============================] - 4s 5ms/step - acc: 0.5150 - loss: 1.1935\n"
     ]
    },
    {
     "data": {
      "text/plain": [
       "[1.193536639213562, 0.514959990978241]"
      ]
     },
     "execution_count": 31,
     "metadata": {},
     "output_type": "execute_result"
    }
   ],
   "source": [
    "# 코드 6-18 테스트 세트에서 모델 평가하기\n",
    "model.load_weights(\"pre_trained_glove_model.h5\") # 코드 6-14에서 저장한 모델\n",
    "model.evaluate(x_test, y_test)"
   ]
  },
  {
   "cell_type": "code",
   "execution_count": null,
   "metadata": {},
   "outputs": [],
   "source": []
  }
 ],
 "metadata": {
  "kernelspec": {
   "display_name": "Python 3",
   "language": "python",
   "name": "python3"
  },
  "language_info": {
   "codemirror_mode": {
    "name": "ipython",
    "version": 3
   },
   "file_extension": ".py",
   "mimetype": "text/x-python",
   "name": "python",
   "nbconvert_exporter": "python",
   "pygments_lexer": "ipython3",
   "version": "3.5.2"
  }
 },
 "nbformat": 4,
 "nbformat_minor": 2
}
