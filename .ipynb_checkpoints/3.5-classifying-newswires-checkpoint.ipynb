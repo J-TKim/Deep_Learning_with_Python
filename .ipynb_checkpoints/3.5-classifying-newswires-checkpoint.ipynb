{
 "cells": [
  {
   "cell_type": "code",
   "execution_count": 1,
   "metadata": {},
   "outputs": [
    {
     "name": "stderr",
     "output_type": "stream",
     "text": [
      "Using TensorFlow backend.\n"
     ]
    }
   ],
   "source": [
    "# 코드 3-12 로이더 데이터셋 로드하기\n",
    "from keras.datasets import reuters\n",
    "\n",
    "(train_data, train_labels), (test_data, test_labels) = reuters.load_data(num_words=10000)"
   ]
  },
  {
   "cell_type": "code",
   "execution_count": 2,
   "metadata": {},
   "outputs": [],
   "source": [
    "# 코드 3-13 로이더 데이터셋을 텍스트로 디코딩하기\n",
    "word_index = reuters.get_word_index()\n",
    "reverse_word_index = dict([(value, key) for (key, value) in word_index.items()])\n",
    "decoded_newswire = \" \".join([reverse_word_index.get(i - 3, \"?\") for i in train_data[0]])"
   ]
  },
  {
   "cell_type": "code",
   "execution_count": 3,
   "metadata": {},
   "outputs": [
    {
     "data": {
      "text/plain": [
       "'? ? ? said as a result of its december acquisition of space co it expects earnings per share in 1987 of 1 15 to 1 30 dlrs per share up from 70 cts in 1986 the company said pretax net should rise to nine to 10 mln dlrs from six mln dlrs in 1986 and rental operation revenues to 19 to 22 mln dlrs from 12 5 mln dlrs it said cash flow per share this year should be 2 50 to three dlrs reuter 3'"
      ]
     },
     "execution_count": 3,
     "metadata": {},
     "output_type": "execute_result"
    }
   ],
   "source": [
    "decoded_newswire"
   ]
  },
  {
   "cell_type": "code",
   "execution_count": 4,
   "metadata": {},
   "outputs": [],
   "source": [
    "# 코드 3-14 데이터 인코딩하기\n",
    "import numpy as np\n",
    "\n",
    "def vectorize_sequences(sequences, dimension = 10000):\n",
    "    results = np.zeros((len(sequences), dimension))\n",
    "    for i, sequence in enumerate(sequences):\n",
    "        results[i, sequence] = 1.\n",
    "    return results\n",
    "\n",
    "x_train = vectorize_sequences(train_data)\n",
    "x_test = vectorize_sequences(test_data)"
   ]
  },
  {
   "cell_type": "code",
   "execution_count": 5,
   "metadata": {},
   "outputs": [],
   "source": [
    "def to_one_hot(labels, dimension = 46):\n",
    "    results = np.zeros((len(labels), dimension))\n",
    "    for i, label in enumerate(labels):\n",
    "        results[i, label] = 1.\n",
    "    return results\n",
    "\n",
    "one_hot_train_labels = to_one_hot(train_labels)\n",
    "one_hot_test_labels = to_one_hot(test_labels)"
   ]
  },
  {
   "cell_type": "code",
   "execution_count": 6,
   "metadata": {},
   "outputs": [],
   "source": [
    "from keras.utils.np_utils import to_categorical\n",
    "\n",
    "one_hot_train_labels = to_categorical(train_labels)\n",
    "one_hot_test_labels = to_categorical(test_labels)"
   ]
  },
  {
   "cell_type": "code",
   "execution_count": 7,
   "metadata": {},
   "outputs": [],
   "source": [
    "# 코드 3-15 모델 정의하기\n",
    "from keras import models\n",
    "from keras import layers\n",
    "\n",
    "model = models.Sequential()\n",
    "model.add(layers.Dense(64, activation = \"relu\", input_shape = (10000,)))\n",
    "model.add(layers.Dense(64, activation = \"relu\"))\n",
    "model.add(layers.Dense(46, activation = \"softmax\"))"
   ]
  },
  {
   "cell_type": "code",
   "execution_count": 8,
   "metadata": {},
   "outputs": [],
   "source": [
    "# 코드 3-16 모델 컴파일하기\n",
    "model.compile(loss = \"categorical_crossentropy\",\n",
    "             optimizer = \"rmsprop\",\n",
    "             metrics = [\"accuracy\"])"
   ]
  },
  {
   "cell_type": "code",
   "execution_count": 11,
   "metadata": {},
   "outputs": [],
   "source": [
    "# 코드 3-17 검증 세트 준비하기\n",
    "x_val = x_train[:1000]\n",
    "partial_x_train = x_train[1000:]\n",
    "\n",
    "y_val = one_hot_train_labels[:1000]\n",
    "partial_y_train = one_hot_train_labels[1000:]"
   ]
  },
  {
   "cell_type": "code",
   "execution_count": 12,
   "metadata": {},
   "outputs": [
    {
     "name": "stdout",
     "output_type": "stream",
     "text": [
      "Train on 7982 samples, validate on 1000 samples\n",
      "Epoch 1/20\n",
      "7982/7982 [==============================] - 1s 67us/step - loss: 2.6349 - accuracy: 0.5056 - val_loss: 1.7476 - val_accuracy: 0.6440\n",
      "Epoch 2/20\n",
      "7982/7982 [==============================] - 0s 34us/step - loss: 1.4299 - accuracy: 0.7010 - val_loss: 1.2939 - val_accuracy: 0.7210\n",
      "Epoch 3/20\n",
      "7982/7982 [==============================] - 0s 28us/step - loss: 1.0552 - accuracy: 0.7711 - val_loss: 1.1122 - val_accuracy: 0.7540\n",
      "Epoch 4/20\n",
      "7982/7982 [==============================] - 0s 25us/step - loss: 0.8344 - accuracy: 0.8208 - val_loss: 1.0194 - val_accuracy: 0.7770\n",
      "Epoch 5/20\n",
      "7982/7982 [==============================] - 0s 36us/step - loss: 0.6726 - accuracy: 0.8591 - val_loss: 0.9994 - val_accuracy: 0.7920\n",
      "Epoch 6/20\n",
      "7982/7982 [==============================] - 0s 34us/step - loss: 0.5415 - accuracy: 0.8881 - val_loss: 0.9061 - val_accuracy: 0.8220\n",
      "Epoch 7/20\n",
      "7982/7982 [==============================] - 0s 32us/step - loss: 0.4394 - accuracy: 0.9114 - val_loss: 0.8854 - val_accuracy: 0.8130\n",
      "Epoch 8/20\n",
      "7982/7982 [==============================] - 0s 34us/step - loss: 0.3563 - accuracy: 0.9277 - val_loss: 0.8810 - val_accuracy: 0.8230\n",
      "Epoch 9/20\n",
      "7982/7982 [==============================] - 0s 31us/step - loss: 0.2947 - accuracy: 0.9384 - val_loss: 0.9041 - val_accuracy: 0.8160\n",
      "Epoch 10/20\n",
      "7982/7982 [==============================] - 0s 26us/step - loss: 0.2487 - accuracy: 0.9442 - val_loss: 0.8844 - val_accuracy: 0.8180\n",
      "Epoch 11/20\n",
      "7982/7982 [==============================] - 0s 37us/step - loss: 0.2142 - accuracy: 0.9476 - val_loss: 0.9180 - val_accuracy: 0.8120\n",
      "Epoch 12/20\n",
      "7982/7982 [==============================] - 0s 36us/step - loss: 0.1894 - accuracy: 0.9506 - val_loss: 0.9517 - val_accuracy: 0.8120\n",
      "Epoch 13/20\n",
      "7982/7982 [==============================] - 0s 27us/step - loss: 0.1654 - accuracy: 0.9544 - val_loss: 0.9300 - val_accuracy: 0.8090\n",
      "Epoch 14/20\n",
      "7982/7982 [==============================] - 0s 35us/step - loss: 0.1530 - accuracy: 0.9538 - val_loss: 0.9700 - val_accuracy: 0.8050\n",
      "Epoch 15/20\n",
      "7982/7982 [==============================] - 0s 36us/step - loss: 0.1423 - accuracy: 0.9553 - val_loss: 0.9877 - val_accuracy: 0.8160\n",
      "Epoch 16/20\n",
      "7982/7982 [==============================] - 0s 28us/step - loss: 0.1314 - accuracy: 0.9564 - val_loss: 1.0677 - val_accuracy: 0.7940\n",
      "Epoch 17/20\n",
      "7982/7982 [==============================] - 0s 34us/step - loss: 0.1254 - accuracy: 0.9575 - val_loss: 1.0812 - val_accuracy: 0.7920\n",
      "Epoch 18/20\n",
      "7982/7982 [==============================] - 0s 35us/step - loss: 0.1194 - accuracy: 0.9567 - val_loss: 1.0995 - val_accuracy: 0.7920\n",
      "Epoch 19/20\n",
      "7982/7982 [==============================] - 0s 32us/step - loss: 0.1158 - accuracy: 0.9583 - val_loss: 1.0486 - val_accuracy: 0.8010\n",
      "Epoch 20/20\n",
      "7982/7982 [==============================] - 0s 33us/step - loss: 0.1131 - accuracy: 0.9589 - val_loss: 1.1401 - val_accuracy: 0.7900\n"
     ]
    }
   ],
   "source": [
    "# 코드 3-18 모델 훈련하기\n",
    "history = model.fit(partial_x_train,\n",
    "                   partial_y_train,\n",
    "                   epochs=20,\n",
    "                   batch_size=512,\n",
    "                   validation_data=(x_val, y_val))"
   ]
  },
  {
   "cell_type": "code",
   "execution_count": 14,
   "metadata": {},
   "outputs": [
    {
     "data": {
      "image/png": "[encoded data removed]",
      "text/plain": [
       "<Figure size 432x288 with 1 Axes>"
      ]
     },
     "metadata": {
      "needs_background": "light"
     },
     "output_type": "display_data"
    }
   ],
   "source": [
    "# 코드 3-19 훈련과 검증 손실 그리기\n",
    "import matplotlib.pyplot as plt\n",
    "\n",
    "loss = history.history[\"loss\"]\n",
    "val_loss = history.history[\"val_loss\"]\n",
    "\n",
    "epochs = range(1, len(loss) + 1)\n",
    "\n",
    "plt.plot(epochs, loss, \"bo\", label = \"Training loss\")\n",
    "plt.plot(epochs, val_loss, \"b\", label = \"Validation loss\")\n",
    "plt.title(\"Training and validation loss\")\n",
    "plt.xlabel(\"Epochs\")\n",
    "plt.ylabel(\"Loss\")\n",
    "\n",
    "plt.show()"
   ]
  },
  {
   "cell_type": "code",
   "execution_count": 19,
   "metadata": {},
   "outputs": [
    {
     "data": {
      "image/png": "[encoded data removed]",
      "text/plain": [
       "<Figure size 432x288 with 1 Axes>"
      ]
     },
     "metadata": {
      "needs_background": "light"
     },
     "output_type": "display_data"
    }
   ],
   "source": [
    "# 코드 3-20 훈련과 검증 정확도 그리기\n",
    "plt.clf()\n",
    "\n",
    "acc = history.history[\"accuracy\"]\n",
    "val_acc = history.history[\"val_accuracy\"]\n",
    "\n",
    "epochs = range(1, len(acc) + 1)\n",
    "\n",
    "plt.plot(epochs, acc, \"bo\", label = \"Training acc\")\n",
    "plt.plot(epochs, val_acc, \"b\", label = \"Validation acc\")\n",
    "plt.title(\"Training and validation accuracy\")\n",
    "plt.xlabel(\"Epochs\")\n",
    "plt.ylabel(\"Accuracy\")\n",
    "plt.legend()\n",
    "\n",
    "plt.show()"
   ]
  },
  {
   "cell_type": "code",
   "execution_count": 20,
   "metadata": {},
   "outputs": [
    {
     "name": "stdout",
     "output_type": "stream",
     "text": [
      "Train on 7982 samples, validate on 1000 samples\n",
      "Epoch 1/9\n",
      "7982/7982 [==============================] - 0s 32us/step - loss: 2.6199 - accuracy: 0.5336 - val_loss: 1.7642 - val_accuracy: 0.6380\n",
      "Epoch 2/9\n",
      "7982/7982 [==============================] - 0s 24us/step - loss: 1.4508 - accuracy: 0.6943 - val_loss: 1.3315 - val_accuracy: 0.7040\n",
      "Epoch 3/9\n",
      "7982/7982 [==============================] - 0s 24us/step - loss: 1.0770 - accuracy: 0.7630 - val_loss: 1.1795 - val_accuracy: 0.7290\n",
      "Epoch 4/9\n",
      "7982/7982 [==============================] - 0s 24us/step - loss: 0.8489 - accuracy: 0.8148 - val_loss: 1.0543 - val_accuracy: 0.7790\n",
      "Epoch 5/9\n",
      "7982/7982 [==============================] - 0s 25us/step - loss: 0.6731 - accuracy: 0.8577 - val_loss: 0.9856 - val_accuracy: 0.8050\n",
      "Epoch 6/9\n",
      "7982/7982 [==============================] - 0s 33us/step - loss: 0.5398 - accuracy: 0.8881 - val_loss: 0.9554 - val_accuracy: 0.8060\n",
      "Epoch 7/9\n",
      "7982/7982 [==============================] - 0s 33us/step - loss: 0.4319 - accuracy: 0.9116 - val_loss: 0.9486 - val_accuracy: 0.8020\n",
      "Epoch 8/9\n",
      "7982/7982 [==============================] - 0s 25us/step - loss: 0.3535 - accuracy: 0.9258 - val_loss: 0.9172 - val_accuracy: 0.8120\n",
      "Epoch 9/9\n",
      "7982/7982 [==============================] - 0s 24us/step - loss: 0.2961 - accuracy: 0.9362 - val_loss: 0.9045 - val_accuracy: 0.8130\n",
      "2246/2246 [==============================] - 0s 128us/step\n"
     ]
    }
   ],
   "source": [
    "# 코드 3-21 모델을 처음부터 다시 훈련하기\n",
    "model = models.Sequential()\n",
    "model.add(layers.Dense(64, activation = \"relu\", input_shape = (10000,)))\n",
    "model.add(layers.Dense(64, activation = \"relu\"))\n",
    "model.add(layers.Dense(46, activation = \"softmax\"))\n",
    "\n",
    "model.compile(loss = \"categorical_crossentropy\",\n",
    "             optimizer = \"rmsprop\",\n",
    "             metrics = [\"accuracy\"])\n",
    "\n",
    "model.fit(partial_x_train,\n",
    "         partial_y_train,\n",
    "         epochs = 9,\n",
    "         batch_size = 512,\n",
    "         validation_data = (x_val, y_val))\n",
    "\n",
    "results = model.evaluate(x_test, one_hot_test_labels)"
   ]
  },
  {
   "cell_type": "code",
   "execution_count": 21,
   "metadata": {},
   "outputs": [
    {
     "data": {
      "text/plain": [
       "[0.9822736608058559, 0.7889581322669983]"
      ]
     },
     "execution_count": 21,
     "metadata": {},
     "output_type": "execute_result"
    }
   ],
   "source": [
    "results"
   ]
  },
  {
   "cell_type": "code",
   "execution_count": 22,
   "metadata": {},
   "outputs": [],
   "source": [
    "# 코드 3-22 새로운 데이터에 대해 예측하기\n",
    "predictions = model.predict(x_test)"
   ]
  },
  {
   "cell_type": "code",
   "execution_count": 24,
   "metadata": {},
   "outputs": [
    {
     "name": "stdout",
     "output_type": "stream",
     "text": [
      "Train on 7982 samples, validate on 1000 samples\n",
      "Epoch 1/20\n",
      "7982/7982 [==============================] - 0s 49us/step - loss: 3.0812 - accuracy: 0.1632 - val_loss: 2.4082 - val_accuracy: 0.5170\n",
      "Epoch 2/20\n",
      "7982/7982 [==============================] - 0s 58us/step - loss: 1.9369 - accuracy: 0.5781 - val_loss: 1.6420 - val_accuracy: 0.6140\n",
      "Epoch 3/20\n",
      "7982/7982 [==============================] - 1s 64us/step - loss: 1.3961 - accuracy: 0.6341 - val_loss: 1.4201 - val_accuracy: 0.6320\n",
      "Epoch 4/20\n",
      "7982/7982 [==============================] - 1s 85us/step - loss: 1.1724 - accuracy: 0.6701 - val_loss: 1.3365 - val_accuracy: 0.6760\n",
      "Epoch 5/20\n",
      "7982/7982 [==============================] - 1s 96us/step - loss: 1.0256 - accuracy: 0.7216 - val_loss: 1.2827 - val_accuracy: 0.7000\n",
      "Epoch 6/20\n",
      "7982/7982 [==============================] - 0s 36us/step - loss: 0.9181 - accuracy: 0.7650 - val_loss: 1.2739 - val_accuracy: 0.7040\n",
      "Epoch 7/20\n",
      "7982/7982 [==============================] - 0s 52us/step - loss: 0.8285 - accuracy: 0.7972 - val_loss: 1.2745 - val_accuracy: 0.7230\n",
      "Epoch 8/20\n",
      "7982/7982 [==============================] - 1s 81us/step - loss: 0.7543 - accuracy: 0.8103 - val_loss: 1.3010 - val_accuracy: 0.7270\n",
      "Epoch 9/20\n",
      "7982/7982 [==============================] - 1s 75us/step - loss: 0.6953 - accuracy: 0.8197 - val_loss: 1.3062 - val_accuracy: 0.7210\n",
      "Epoch 10/20\n",
      "7982/7982 [==============================] - 1s 93us/step - loss: 0.6429 - accuracy: 0.8296 - val_loss: 1.3541 - val_accuracy: 0.7250\n",
      "Epoch 11/20\n",
      "7982/7982 [==============================] - 1s 78us/step - loss: 0.5999 - accuracy: 0.8404 - val_loss: 1.4040 - val_accuracy: 0.7170\n",
      "Epoch 12/20\n",
      "7982/7982 [==============================] - 1s 65us/step - loss: 0.5639 - accuracy: 0.8463 - val_loss: 1.4060 - val_accuracy: 0.7230\n",
      "Epoch 13/20\n",
      "7982/7982 [==============================] - 1s 89us/step - loss: 0.5312 - accuracy: 0.8534 - val_loss: 1.4959 - val_accuracy: 0.7200\n",
      "Epoch 14/20\n",
      "7982/7982 [==============================] - 1s 85us/step - loss: 0.5048 - accuracy: 0.8588 - val_loss: 1.5522 - val_accuracy: 0.7180\n",
      "Epoch 15/20\n",
      "7982/7982 [==============================] - 0s 50us/step - loss: 0.4803 - accuracy: 0.8656 - val_loss: 1.5618 - val_accuracy: 0.7260\n",
      "Epoch 16/20\n",
      "7982/7982 [==============================] - 0s 60us/step - loss: 0.4581 - accuracy: 0.8701 - val_loss: 1.6754 - val_accuracy: 0.7260\n",
      "Epoch 17/20\n",
      "7982/7982 [==============================] - 1s 92us/step - loss: 0.4395 - accuracy: 0.8761 - val_loss: 1.7234 - val_accuracy: 0.7290\n",
      "Epoch 18/20\n",
      "7982/7982 [==============================] - 1s 75us/step - loss: 0.4259 - accuracy: 0.8794 - val_loss: 1.7625 - val_accuracy: 0.7250\n",
      "Epoch 19/20\n",
      "7982/7982 [==============================] - 1s 86us/step - loss: 0.4081 - accuracy: 0.8857 - val_loss: 1.8173 - val_accuracy: 0.7220\n",
      "Epoch 20/20\n",
      "7982/7982 [==============================] - 1s 74us/step - loss: 0.3915 - accuracy: 0.8911 - val_loss: 1.8988 - val_accuracy: 0.7180\n"
     ]
    },
    {
     "data": {
      "text/plain": [
       "<keras.callbacks.callbacks.History at 0x7f954a388f28>"
      ]
     },
     "execution_count": 24,
     "metadata": {},
     "output_type": "execute_result"
    }
   ],
   "source": [
    "# 코드 3-23 정보 병목이 있는 모델\n",
    "model = models.Sequential()\n",
    "model.add(layers.Dense(64, activation = \"relu\", input_shape = (10000,)))\n",
    "model.add(layers.Dense(4, activation=\"relu\"))\n",
    "model.add(layers.Dense(46, activation = \"softmax\"))\n",
    "\n",
    "model.compile(loss = \"categorical_crossentropy\",\n",
    "             optimizer = \"rmsprop\",\n",
    "             metrics = [\"accuracy\"])\n",
    "\n",
    "model.fit(partial_x_train,\n",
    "         partial_y_train,\n",
    "         epochs = 20,\n",
    "         batch_size = 128,\n",
    "         validation_data = (x_val, y_val))"
   ]
  },
  {
   "cell_type": "code",
   "execution_count": null,
   "metadata": {},
   "outputs": [],
   "source": []
  }
 ],
 "metadata": {
  "kernelspec": {
   "display_name": "Python 3",
   "language": "python",
   "name": "python3"
  },
  "language_info": {
   "codemirror_mode": {
    "name": "ipython",
    "version": 3
   },
   "file_extension": ".py",
   "mimetype": "text/x-python",
   "name": "python",
   "nbconvert_exporter": "python",
   "pygments_lexer": "ipython3",
   "version": "3.5.2"
  }
 },
 "nbformat": 4,
 "nbformat_minor": 2
}
