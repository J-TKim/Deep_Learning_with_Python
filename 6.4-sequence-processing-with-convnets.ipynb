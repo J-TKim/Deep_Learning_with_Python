{
 "cells": [
  {
   "cell_type": "code",
   "execution_count": 1,
   "metadata": {},
   "outputs": [
    {
     "name": "stdout",
     "output_type": "stream",
     "text": [
      "1 Physical GPUs, 1 Logical GPUs\n"
     ]
    }
   ],
   "source": [
    "import tensorflow as tf\n",
    "\n",
    "gpus = tf.config.experimental.list_physical_devices('GPU')\n",
    "if gpus:\n",
    "  try:\n",
    "    # Currently, memory growth needs to be the same across GPUs\n",
    "    for gpu in gpus:\n",
    "      tf.config.experimental.set_memory_growth(gpu, True)\n",
    "    logical_gpus = tf.config.experimental.list_logical_devices('GPU')\n",
    "    print(len(gpus), \"Physical GPUs,\", len(logical_gpus), \"Logical GPUs\")\n",
    "  except RuntimeError as e:\n",
    "    # Memory growth must be set before GPUs have been initialized\n",
    "    print(e)"
   ]
  },
  {
   "cell_type": "code",
   "execution_count": 2,
   "metadata": {},
   "outputs": [
    {
     "name": "stdout",
     "output_type": "stream",
     "text": [
      "데이터 로드...\n",
      "25000 훈련 시퀀스\n",
      "25000 테스트 시퀀스\n",
      "시퀀스 패딩 (samples x time)\n",
      "x_train 크기 : (25000, 500)\n",
      "x_test 크기 : (25000, 500)\n"
     ]
    }
   ],
   "source": [
    "# 코드 6-45 IMDB 데이터 전처리하기\n",
    "from keras.datasets import imdb\n",
    "from keras.preprocessing import sequence\n",
    "\n",
    "max_features = 10000\n",
    "max_len = 500\n",
    "\n",
    "print(\"데이터 로드...\")\n",
    "(x_train, y_train), (x_test, y_test) = imdb.load_data(num_words=max_features)\n",
    "print(len(x_train), \"훈련 시퀀스\")\n",
    "print(len(x_test), \"테스트 시퀀스\")\n",
    "\n",
    "print(\"시퀀스 패딩 (samples x time)\")\n",
    "x_train = sequence.pad_sequences(x_train, maxlen=max_len)\n",
    "x_test = sequence.pad_sequences(x_test, maxlen=max_len)\n",
    "print(\"x_train 크기 :\", x_train.shape)\n",
    "print(\"x_test 크기 :\", x_test.shape)"
   ]
  },
  {
   "cell_type": "code",
   "execution_count": 3,
   "metadata": {},
   "outputs": [],
   "source": [
    "# 코드 6-46 IMDB 데이터에 1D 컨브넷을 훈련하고 평가하기\n",
    "from keras.models import Sequential\n",
    "from keras import layers\n",
    "from keras.optimizers import RMSprop\n",
    "\n",
    "model = Sequential()\n",
    "model.add(layers.Embedding(max_features, 128, input_length = max_len))\n",
    "model.add(layers.Conv1D(32, 7, activation = \"relu\"))\n",
    "model.add(layers.MaxPooling1D(5))\n",
    "model.add(layers.Conv1D(32, 7, activation = \"relu\"))\n",
    "model.add(layers.GlobalMaxPooling1D())\n",
    "model.add(layers.Dense(1))"
   ]
  },
  {
   "cell_type": "code",
   "execution_count": 4,
   "metadata": {},
   "outputs": [
    {
     "name": "stdout",
     "output_type": "stream",
     "text": [
      "Model: \"sequential\"\n",
      "_________________________________________________________________\n",
      "Layer (type)                 Output Shape              Param #   \n",
      "=================================================================\n",
      "embedding (Embedding)        (None, 500, 128)          1280000   \n",
      "_________________________________________________________________\n",
      "conv1d (Conv1D)              (None, 494, 32)           28704     \n",
      "_________________________________________________________________\n",
      "max_pooling1d (MaxPooling1D) (None, 98, 32)            0         \n",
      "_________________________________________________________________\n",
      "conv1d_1 (Conv1D)            (None, 92, 32)            7200      \n",
      "_________________________________________________________________\n",
      "global_max_pooling1d (Global (None, 32)                0         \n",
      "_________________________________________________________________\n",
      "dense (Dense)                (None, 1)                 33        \n",
      "=================================================================\n",
      "Total params: 1,315,937\n",
      "Trainable params: 1,315,937\n",
      "Non-trainable params: 0\n",
      "_________________________________________________________________\n"
     ]
    }
   ],
   "source": [
    "model.summary()"
   ]
  },
  {
   "cell_type": "code",
   "execution_count": 5,
   "metadata": {},
   "outputs": [],
   "source": [
    "model.compile(loss = \"binary_crossentropy\",\n",
    "             optimizer = RMSprop(lr=1e-4),\n",
    "             metrics = [\"acc\"])"
   ]
  },
  {
   "cell_type": "code",
   "execution_count": 6,
   "metadata": {},
   "outputs": [
    {
     "name": "stdout",
     "output_type": "stream",
     "text": [
      "Epoch 1/10\n",
      "157/157 [==============================] - 4s 25ms/step - loss: 0.9554 - acc: 0.5044 - val_loss: 0.6900 - val_acc: 0.5314\n",
      "Epoch 2/10\n",
      "157/157 [==============================] - 4s 27ms/step - loss: 0.6789 - acc: 0.6166 - val_loss: 0.6769 - val_acc: 0.5934\n",
      "Epoch 3/10\n",
      "157/157 [==============================] - 4s 26ms/step - loss: 0.6523 - acc: 0.7222 - val_loss: 0.6518 - val_acc: 0.6848\n",
      "Epoch 4/10\n",
      "157/157 [==============================] - 4s 25ms/step - loss: 0.6041 - acc: 0.7795 - val_loss: 0.5856 - val_acc: 0.7566\n",
      "Epoch 5/10\n",
      "157/157 [==============================] - 4s 25ms/step - loss: 0.5057 - acc: 0.8171 - val_loss: 0.4698 - val_acc: 0.8128\n",
      "Epoch 6/10\n",
      "157/157 [==============================] - 4s 28ms/step - loss: 0.3977 - acc: 0.8512 - val_loss: 0.4068 - val_acc: 0.8366\n",
      "Epoch 7/10\n",
      "157/157 [==============================] - 4s 26ms/step - loss: 0.3408 - acc: 0.8781 - val_loss: 0.3808 - val_acc: 0.8556\n",
      "Epoch 8/10\n",
      "157/157 [==============================] - 4s 27ms/step - loss: 0.3009 - acc: 0.8953 - val_loss: 0.3791 - val_acc: 0.8612\n",
      "Epoch 9/10\n",
      "157/157 [==============================] - 4s 26ms/step - loss: 0.2723 - acc: 0.9056 - val_loss: 0.3946 - val_acc: 0.8650\n",
      "Epoch 10/10\n",
      "157/157 [==============================] - 4s 26ms/step - loss: 0.2467 - acc: 0.9167 - val_loss: 0.4192 - val_acc: 0.8700\n"
     ]
    }
   ],
   "source": [
    "history = model.fit(x_train, y_train,\n",
    "                   epochs = 10,\n",
    "                   batch_size=128,\n",
    "                   validation_split=0.2)"
   ]
  },
  {
   "cell_type": "code",
   "execution_count": 7,
   "metadata": {},
   "outputs": [
    {
     "data": {
      "text/plain": [
       "<Figure size 640x480 with 1 Axes>"
      ]
     },
     "metadata": {},
     "output_type": "display_data"
    },
    {
     "data": {
      "text/plain": [
       "<Figure size 640x480 with 1 Axes>"
      ]
     },
     "metadata": {},
     "output_type": "display_data"
    }
   ],
   "source": [
    "import matplotlib.pyplot as plt\n",
    "\n",
    "acc = history.history[\"acc\"]\n",
    "val_acc = history.history[\"val_acc\"]\n",
    "loss = history.history[\"loss\"]\n",
    "val_loss = history.history[\"val_loss\"]\n",
    "\n",
    "epochs = range(1, len(acc) + 1)\n",
    "\n",
    "plt.plot(epochs, acc, \"bo\", label = \"Training acc\")\n",
    "plt.plot(epochs, val_acc, \"b\", label = \"Validation acc\")\n",
    "plt.title(\"Training and validation accuracy\")\n",
    "plt.legend()\n",
    "\n",
    "plt.figure()\n",
    "\n",
    "plt.plot(epochs, loss, \"bo\", label = \"Training loss\")\n",
    "plt.plot(epochs, val_loss, \"b\", label = \"Validation loss\")\n",
    "plt.title(\"Training and validation loss\")\n",
    "plt.legend()\n",
    "\n",
    "plt.show()"
   ]
  },
  {
   "cell_type": "code",
   "execution_count": 8,
   "metadata": {},
   "outputs": [
    {
     "name": "stdout",
     "output_type": "stream",
     "text": [
      "['\"Date Time\"', '\"p (mbar)\"', '\"T (degC)\"', '\"Tpot (K)\"', '\"Tdew (degC)\"', '\"rh (%)\"', '\"VPmax (mbar)\"', '\"VPact (mbar)\"', '\"VPdef (mbar)\"', '\"sh (g/kg)\"', '\"H2OC (mmol/mol)\"', '\"rho (g/m**3)\"', '\"wv (m/s)\"', '\"max. wv (m/s)\"', '\"wd (deg)\"']\n",
      "420551\n"
     ]
    }
   ],
   "source": [
    "# 코드 6-28 예나의 날씨 데이터셋 조사하기\n",
    "import os\n",
    "\n",
    "data_dir = \"./deep-learning-with-python-notebooks-master/datasets\"\n",
    "fname = os.path.join(data_dir, \"jena_climate_2009_2016.csv\")\n",
    "\n",
    "f = open(fname)\n",
    "data = f.read()\n",
    "f.close()\n",
    "\n",
    "lines = data.split(\"\\n\")\n",
    "header = lines[0].split(\",\")\n",
    "lines = lines[1:]\n",
    "\n",
    "print(header)\n",
    "print(len(lines))"
   ]
  },
  {
   "cell_type": "code",
   "execution_count": 9,
   "metadata": {},
   "outputs": [],
   "source": [
    "# 코드 6-29 데이터 파싱하기\n",
    "import numpy as np\n",
    "\n",
    "float_data = np.zeros((len(lines), len(header) - 1))\n",
    "for i, line in enumerate(lines):\n",
    "    values = [float(x) for x in line.split(\",\")[1:]]\n",
    "    float_data[i, :] = values"
   ]
  },
  {
   "cell_type": "code",
   "execution_count": 10,
   "metadata": {},
   "outputs": [],
   "source": [
    "# 코드 6-32 데이터 정규화하기\n",
    "mean = float_data[:200000].mean(axis = 0)\n",
    "float_data -= mean\n",
    "std  = float_data[:200000].std(axis = 0)\n",
    "float_data /= std"
   ]
  },
  {
   "cell_type": "code",
   "execution_count": 11,
   "metadata": {},
   "outputs": [],
   "source": [
    "# 코드 6-33 시계열 데이터와 타깃을 반환하는 제너레이터 함수\n",
    "def generator(data, lookback, delay, min_index, max_index,\n",
    "             shuffle = False, batch_size = 128, step = 6):\n",
    "    if max_index is None:\n",
    "        max_index = len(data) - delay - 1\n",
    "    i = min_index + lookback\n",
    "    while 1:\n",
    "        if shuffle:\n",
    "            rows = np.random.randint(min_index + lookback,\n",
    "                                    max_index, size = batch_size)\n",
    "        else:\n",
    "            if i + batch_size >= max_index:\n",
    "                i = min_index + lookback\n",
    "            rows = np.arange(i, min(i + batch_size, max_index))\n",
    "            i += len(rows)\n",
    "        \n",
    "        samples = np.zeros((len(rows),\n",
    "                           lookback // step,\n",
    "                           data.shape[-1]))\n",
    "        targets = np.zeros((len(rows),))\n",
    "        for j, row in enumerate(rows):\n",
    "            indices = range(rows[j] - lookback, rows[j], step)\n",
    "            samples[j] = data[indices]\n",
    "            targets[j] = data[rows[j] + delay][1]\n",
    "        yield samples, targets"
   ]
  },
  {
   "cell_type": "code",
   "execution_count": 12,
   "metadata": {},
   "outputs": [],
   "source": [
    "# 코드 6-34 훈련, 검증, 테스트 제너레이터 준비하기\n",
    "lookback = 1440\n",
    "step = 6\n",
    "delay = 144\n",
    "batch_size = 128\n",
    "train_gen = generator(float_data,\n",
    "                     lookback= lookback,\n",
    "                      delay = delay,\n",
    "                     min_index=0,\n",
    "                     max_index=200000,\n",
    "                     shuffle = True,\n",
    "                     step = step,\n",
    "                     batch_size=batch_size)\n",
    "val_gen = generator(float_data,\n",
    "                   lookback=lookback,\n",
    "                   delay=delay,\n",
    "                   min_index=200001,\n",
    "                   max_index=300000,\n",
    "                   step=step,\n",
    "                   batch_size=batch_size)\n",
    "test_gen = generator(float_data,\n",
    "                    lookback=lookback,\n",
    "                    delay=delay,\n",
    "                    min_index=300001,\n",
    "                    max_index=None,\n",
    "                    step = step,\n",
    "                    batch_size=batch_size)\n"
   ]
  },
  {
   "cell_type": "code",
   "execution_count": 13,
   "metadata": {},
   "outputs": [],
   "source": [
    "val_steps = (300000 - 200001 - lookback) // batch_size # 전체 검증 세트를 순회하기 위해 val_gen에서 추출할 횟수\n",
    "\n",
    "test_steps = (len(float_data) - 300001 - lookback) // batch_size # 전체 테스트 세트를 순회하기 위해 test_gen에서 추출할 횟수"
   ]
  },
  {
   "cell_type": "code",
   "execution_count": 14,
   "metadata": {},
   "outputs": [],
   "source": [
    "# 코드 6-47 예나 데이터에서 1D 컨브넷을 훈련하고 평가하기\n",
    "from keras.models import Sequential\n",
    "from keras import layers\n",
    "from keras.optimizers import RMSprop\n",
    "\n",
    "model = Sequential()\n",
    "model.add(layers.Conv1D(32, 5, activation = \"relu\",\n",
    "                       input_shape = (None, float_data.shape[-1])))\n",
    "model.add(layers.MaxPooling1D(3))\n",
    "model.add(layers.Conv1D(32, 5, activation=\"relu\"))\n",
    "model.add(layers.MaxPooling1D(3))\n",
    "model.add(layers.GlobalMaxPooling1D())\n",
    "model.add(layers.Dense(1))"
   ]
  },
  {
   "cell_type": "code",
   "execution_count": 15,
   "metadata": {},
   "outputs": [],
   "source": [
    "model.compile(loss = \"mae\",\n",
    "             optimizer = RMSprop())"
   ]
  },
  {
   "cell_type": "code",
   "execution_count": 16,
   "metadata": {},
   "outputs": [
    {
     "name": "stdout",
     "output_type": "stream",
     "text": [
      "Epoch 1/20\n",
      "500/500 [==============================] - 9s 18ms/step - loss: 0.4485 - val_loss: 0.4490\n",
      "Epoch 2/20\n",
      "500/500 [==============================] - 9s 17ms/step - loss: 0.4020 - val_loss: 0.4693\n",
      "Epoch 3/20\n",
      "500/500 [==============================] - 9s 18ms/step - loss: 0.3857 - val_loss: 0.4764\n",
      "Epoch 4/20\n",
      "500/500 [==============================] - 9s 19ms/step - loss: 0.3750 - val_loss: 0.4741\n",
      "Epoch 5/20\n",
      "500/500 [==============================] - 9s 18ms/step - loss: 0.3674 - val_loss: 0.4813\n",
      "Epoch 6/20\n",
      "500/500 [==============================] - 9s 18ms/step - loss: 0.3634 - val_loss: 0.4742\n",
      "Epoch 7/20\n",
      "500/500 [==============================] - 10s 19ms/step - loss: 0.3571 - val_loss: 0.4866\n",
      "Epoch 8/20\n",
      "500/500 [==============================] - 9s 18ms/step - loss: 0.3528 - val_loss: 0.4598\n",
      "Epoch 9/20\n",
      "500/500 [==============================] - 9s 17ms/step - loss: 0.3496 - val_loss: 0.4560\n",
      "Epoch 10/20\n",
      "500/500 [==============================] - 10s 19ms/step - loss: 0.3469 - val_loss: 0.4519\n",
      "Epoch 11/20\n",
      "500/500 [==============================] - 9s 18ms/step - loss: 0.3434 - val_loss: 0.4549\n",
      "Epoch 12/20\n",
      "500/500 [==============================] - 9s 18ms/step - loss: 0.3415 - val_loss: 0.4561\n",
      "Epoch 13/20\n",
      "500/500 [==============================] - 9s 17ms/step - loss: 0.3392 - val_loss: 0.4518\n",
      "Epoch 14/20\n",
      "500/500 [==============================] - 9s 18ms/step - loss: 0.3385 - val_loss: 0.4716\n",
      "Epoch 15/20\n",
      "500/500 [==============================] - 9s 17ms/step - loss: 0.3376 - val_loss: 0.4620\n",
      "Epoch 16/20\n",
      "500/500 [==============================] - 9s 18ms/step - loss: 0.3365 - val_loss: 0.4793\n",
      "Epoch 17/20\n",
      "500/500 [==============================] - 9s 17ms/step - loss: 0.3318 - val_loss: 0.4591\n",
      "Epoch 18/20\n",
      "500/500 [==============================] - 9s 17ms/step - loss: 0.3309 - val_loss: 0.4619\n",
      "Epoch 19/20\n",
      "500/500 [==============================] - 9s 18ms/step - loss: 0.3292 - val_loss: 0.4547\n",
      "Epoch 20/20\n",
      "500/500 [==============================] - 9s 18ms/step - loss: 0.3277 - val_loss: 0.4558\n"
     ]
    }
   ],
   "source": [
    "history = model.fit(train_gen,\n",
    "                   steps_per_epoch = 500,\n",
    "                   epochs = 20,\n",
    "                   validation_data = val_gen,\n",
    "                   validation_steps=val_steps)"
   ]
  },
  {
   "cell_type": "code",
   "execution_count": 17,
   "metadata": {},
   "outputs": [
    {
     "data": {
      "image/png": "[encoded data removed]",
      "text/plain": [
       "<Figure size 432x288 with 1 Axes>"
      ]
     },
     "metadata": {
      "needs_background": "light"
     },
     "output_type": "display_data"
    }
   ],
   "source": [
    "loss = history.history[\"loss\"]\n",
    "val_loss = history.history[\"val_loss\"]\n",
    "\n",
    "epochs = range(1, len(loss) + 1)\n",
    "\n",
    "plt.plot(epochs, loss, \"bo\", label = \"Training loss\")\n",
    "plt.plot(epochs, val_loss, \"b\", label = \"Validation loss\")\n",
    "plt.title(\"Training and validation loss\")\n",
    "plt.legend()\n",
    "\n",
    "plt.show()"
   ]
  },
  {
   "cell_type": "code",
   "execution_count": 18,
   "metadata": {},
   "outputs": [],
   "source": [
    "# 코드 6-48 고밀도 데이터 제너레이터로 예나 데이터셋 준비하기\n",
    "step = 3 # 이전에는 6\n",
    "\n",
    "# 변경되지 않음\n",
    "lookback = 1440\n",
    "delay = 144\n",
    "\n",
    "train_gen = generator(float_data,\n",
    "                     lookback=lookback,\n",
    "                     delay=delay,\n",
    "                     min_index=0,\n",
    "                     max_index=200000,\n",
    "                     shuffle=True,\n",
    "                     step=step)\n",
    "\n",
    "val_gen = generator(float_data,\n",
    "                   lookback=lookback,\n",
    "                   delay=delay,\n",
    "                   min_index=200001,\n",
    "                    max_index=300000,\n",
    "                    step =step)\n",
    "\n",
    "test_gen = generator(float_data,\n",
    "                    lookback=lookback,\n",
    "                    delay=delay,\n",
    "                    min_index=300001,\n",
    "                    max_index=None,\n",
    "                    step=step)"
   ]
  },
  {
   "cell_type": "code",
   "execution_count": 19,
   "metadata": {},
   "outputs": [],
   "source": [
    "val_steps = (300000-200001-lookback) // 128\n",
    "test_steps = (len(float_data) - 300001 - lookback) // 128"
   ]
  },
  {
   "cell_type": "code",
   "execution_count": 20,
   "metadata": {},
   "outputs": [
    {
     "name": "stdout",
     "output_type": "stream",
     "text": [
      "WARNING:tensorflow:Layer gru will not use cuDNN kernel since it doesn't meet the cuDNN kernel criteria. It will use generic GPU kernel as fallback when running on GPU\n"
     ]
    }
   ],
   "source": [
    "# 코드 6-49 1D 합성곱과 GRU 층을 연결한 모델\n",
    "from keras.models import Sequential\n",
    "from keras import layers\n",
    "from keras.optimizers import RMSprop\n",
    "\n",
    "model = Sequential()\n",
    "model.add(layers.Conv1D(32, 5, activation = \"relu\",\n",
    "                       input_shape = (None, float_data.shape[-1])))\n",
    "model.add(layers.MaxPooling1D(3))\n",
    "model.add(layers.Conv1D(32, 5, activation=\"relu\"))\n",
    "model.add(layers.GRU(32, dropout=0.1, recurrent_dropout=0.5))\n",
    "model.add(layers.Dense(1))"
   ]
  },
  {
   "cell_type": "code",
   "execution_count": 21,
   "metadata": {},
   "outputs": [
    {
     "name": "stdout",
     "output_type": "stream",
     "text": [
      "Model: \"sequential_2\"\n",
      "_________________________________________________________________\n",
      "Layer (type)                 Output Shape              Param #   \n",
      "=================================================================\n",
      "conv1d_4 (Conv1D)            (None, None, 32)          2272      \n",
      "_________________________________________________________________\n",
      "max_pooling1d_3 (MaxPooling1 (None, None, 32)          0         \n",
      "_________________________________________________________________\n",
      "conv1d_5 (Conv1D)            (None, None, 32)          5152      \n",
      "_________________________________________________________________\n",
      "gru (GRU)                    (None, 32)                6336      \n",
      "_________________________________________________________________\n",
      "dense_2 (Dense)              (None, 1)                 33        \n",
      "=================================================================\n",
      "Total params: 13,793\n",
      "Trainable params: 13,793\n",
      "Non-trainable params: 0\n",
      "_________________________________________________________________\n"
     ]
    }
   ],
   "source": [
    "model.summary()"
   ]
  },
  {
   "cell_type": "code",
   "execution_count": 22,
   "metadata": {},
   "outputs": [],
   "source": [
    "model.compile(loss = \"mae\",\n",
    "              optimizer=RMSprop())"
   ]
  },
  {
   "cell_type": "code",
   "execution_count": null,
   "metadata": {},
   "outputs": [
    {
     "name": "stdout",
     "output_type": "stream",
     "text": [
      "Epoch 1/20\n",
      "500/500 [==============================] - 111s 223ms/step - loss: 0.3297 - val_loss: 0.2795\n",
      "Epoch 2/20\n",
      "500/500 [==============================] - 111s 223ms/step - loss: 0.2943 - val_loss: 0.2795\n",
      "Epoch 3/20\n",
      "500/500 [==============================] - 112s 223ms/step - loss: 0.2806 - val_loss: 0.2785\n",
      "Epoch 4/20\n",
      "500/500 [==============================] - 112s 223ms/step - loss: 0.2718 - val_loss: 0.2760\n",
      "Epoch 5/20\n",
      "500/500 [==============================] - 111s 223ms/step - loss: 0.2634 - val_loss: 0.2893\n",
      "Epoch 6/20\n",
      "500/500 [==============================] - 112s 223ms/step - loss: 0.2565 - val_loss: 0.2857\n",
      "Epoch 7/20\n",
      "500/500 [==============================] - 111s 223ms/step - loss: 0.2503 - val_loss: 0.2825\n",
      "Epoch 8/20\n",
      "500/500 [==============================] - 111s 223ms/step - loss: 0.2446 - val_loss: 0.2793\n",
      "Epoch 9/20\n",
      "500/500 [==============================] - 112s 223ms/step - loss: 0.2397 - val_loss: 0.2926\n",
      "Epoch 10/20\n",
      "500/500 [==============================] - 112s 223ms/step - loss: 0.2354 - val_loss: 0.2974\n",
      "Epoch 11/20\n",
      "500/500 [==============================] - ETA: 0s - loss: 0.2282"
     ]
    }
   ],
   "source": [
    "histroy = model.fit(train_gen,\n",
    "                   steps_per_epoch=500,\n",
    "                   epochs = 20,\n",
    "                   validation_data=val_gen,\n",
    "                   validation_steps=val_steps)"
   ]
  },
  {
   "cell_type": "code",
   "execution_count": null,
   "metadata": {},
   "outputs": [],
   "source": [
    "loss = history.history[\"loss\"]\n",
    "val_loss = history.history[\"val_loss\"]\n",
    "\n",
    "epochs = range(1, len(loss) + 1)\n",
    "\n",
    "plt.plot(epochs, loss, \"bo\", label = \"Training loss\")\n",
    "plt.plot(epochs, val_loss, \"b\", label = \"Validation loss\")\n",
    "plt.title(\"Training and validation loss\")\n",
    "plt.legend()\n",
    "\n",
    "plt.show()"
   ]
  },
  {
   "cell_type": "code",
   "execution_count": null,
   "metadata": {},
   "outputs": [],
   "source": []
  }
 ],
 "metadata": {
  "kernelspec": {
   "display_name": "Python 3",
   "language": "python",
   "name": "python3"
  },
  "language_info": {
   "codemirror_mode": {
    "name": "ipython",
    "version": 3
   },
   "file_extension": ".py",
   "mimetype": "text/x-python",
   "name": "python",
   "nbconvert_exporter": "python",
   "pygments_lexer": "ipython3",
   "version": "3.5.2"
  }
 },
 "nbformat": 4,
 "nbformat_minor": 2
}
