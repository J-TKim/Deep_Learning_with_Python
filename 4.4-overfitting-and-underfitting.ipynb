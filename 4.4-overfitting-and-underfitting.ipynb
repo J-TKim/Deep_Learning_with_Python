{
 "cells": [
  {
   "cell_type": "code",
   "execution_count": 1,
   "metadata": {},
   "outputs": [
    {
     "name": "stderr",
     "output_type": "stream",
     "text": [
      "Using TensorFlow backend.\n"
     ]
    }
   ],
   "source": [
    "# 코드 3-1 IMDB 데이터셋 로드하기\n",
    "from keras.datasets import imdb"
   ]
  },
  {
   "cell_type": "code",
   "execution_count": 2,
   "metadata": {},
   "outputs": [],
   "source": [
    "(train_data, train_labels), (test_data, test_labels) = imdb.load_data(num_words = 10000)"
   ]
  },
  {
   "cell_type": "code",
   "execution_count": 3,
   "metadata": {},
   "outputs": [],
   "source": [
    "# 코드 3-2 정수 시퀀스를 이진 행렬로 인코딩하기\n",
    "import numpy as np"
   ]
  },
  {
   "cell_type": "code",
   "execution_count": 4,
   "metadata": {},
   "outputs": [],
   "source": [
    "def vectorize_sequences(sequences, dimension = 10000):\n",
    "    results = np.zeros((len(sequences), dimension))\n",
    "    for i, sequence in enumerate(sequences):\n",
    "        results[i, sequence] = 1.\n",
    "    return results"
   ]
  },
  {
   "cell_type": "code",
   "execution_count": 5,
   "metadata": {},
   "outputs": [],
   "source": [
    "x_train = vectorize_sequences(train_data)\n",
    "x_test = vectorize_sequences(test_data)"
   ]
  },
  {
   "cell_type": "code",
   "execution_count": 6,
   "metadata": {},
   "outputs": [],
   "source": [
    "y_train = np.asarray(train_labels).astype(\"float32\")\n",
    "y_test = np.asarray(test_labels).astype(\"float32\")"
   ]
  },
  {
   "cell_type": "code",
   "execution_count": 7,
   "metadata": {},
   "outputs": [],
   "source": [
    "# 코드 3-3 모델 정의하기\n",
    "from keras import models\n",
    "from keras import layers"
   ]
  },
  {
   "cell_type": "code",
   "execution_count": 8,
   "metadata": {},
   "outputs": [],
   "source": [
    "# 코드 4-3 원본 모델\n",
    "model = models.Sequential()\n",
    "model.add(layers.Dense(16, activation = \"relu\", input_shape = (10000,)))\n",
    "model.add(layers.Dense(16, activation = \"relu\"))\n",
    "model.add(layers.Dense(1, activation = \"sigmoid\"))"
   ]
  },
  {
   "cell_type": "code",
   "execution_count": 19,
   "metadata": {},
   "outputs": [],
   "source": [
    "# 코드 4-4 작은 용량의 모델\n",
    "model = models.Sequential()\n",
    "model.add(layers.Dense(6, activation = \"relu\", input_shape = (10000,)))\n",
    "model.add(layers.Dense(6, activation = \"relu\"))\n",
    "model.add(layers.Dense(1, activation = \"sigmoid\"))"
   ]
  },
  {
   "cell_type": "code",
   "execution_count": 28,
   "metadata": {},
   "outputs": [],
   "source": [
    "# 코드 4-5 큰 용량의 모델\n",
    "model = models.Sequential()\n",
    "model.add(layers.Dense(1024, activation = \"relu\", input_shape = (10000,)))\n",
    "model.add(layers.Dense(1024, activation = \"relu\"))\n",
    "model.add(layers.Dense(1, activation = \"sigmoid\"))"
   ]
  },
  {
   "cell_type": "code",
   "execution_count": 38,
   "metadata": {},
   "outputs": [],
   "source": [
    "# 코드 4-6 모델에 L2 가중치 추가하기\n",
    "from keras import regularizers\n",
    "\n",
    "model = models.Sequential()\n",
    "model.add(layers.Dense(16, kernel_regularizer = regularizers.l2(0.001),\n",
    "                      activation = \"relu\", input_shape = (10000,)))\n",
    "model.add(layers.Dense(16, kernel_regularizer = regularizers.l2(0.001),\n",
    "                      activation = \"relu\"))\n",
    "model.add(layers.Dense(1, activation = \"sigmoid\"))"
   ]
  },
  {
   "cell_type": "code",
   "execution_count": 39,
   "metadata": {},
   "outputs": [
    {
     "data": {
      "text/plain": [
       "<keras.regularizers.L1L2 at 0x7fa8800b3b70>"
      ]
     },
     "execution_count": 39,
     "metadata": {},
     "output_type": "execute_result"
    }
   ],
   "source": [
    "# 코드 4-7 케라스에서 사용할 수 있는 가중치 규제\n",
    "from keras import regularizers\n",
    "\n",
    "regularizers.l1(0.01) # L1 규제\n",
    "\n",
    "regularizers.l1_l2(l1 = 0.001, l2 = 0.001) # L1과 L2 규제 병행"
   ]
  },
  {
   "cell_type": "code",
   "execution_count": 8,
   "metadata": {},
   "outputs": [],
   "source": [
    "# 코드 4-8 IMBD 네트워크에 드롭아웃 추가하기\n",
    "model = models.Sequential()\n",
    "model.add(layers.Dense(16, activation = \"relu\", input_shape = (10000,)))\n",
    "model.add(layers.Dropout(0.5))\n",
    "model.add(layers.Dense(16, activation = \"relu\"))\n",
    "model.add(layers.Dropout(0.5))\n",
    "model.add(layers.Dense(1, activation = \"sigmoid\"))"
   ]
  },
  {
   "cell_type": "code",
   "execution_count": 9,
   "metadata": {},
   "outputs": [],
   "source": [
    "# 코드 3-4 모델 컴파일하기\n",
    "model.compile(loss = \"binary_crossentropy\",\n",
    "             optimizer = \"rmsprop\",\n",
    "             metrics = [\"accuracy\"])"
   ]
  },
  {
   "cell_type": "code",
   "execution_count": 10,
   "metadata": {},
   "outputs": [],
   "source": [
    "# 코드 3-5 옵티마이저 설정하기\n",
    "from keras import optimizers\n",
    "\n",
    "model.compile(optimizer = optimizers.RMSprop(lr = 0.001),\n",
    "             loss = \"binary_crossentropy\",\n",
    "             metrics = [\"accuracy\"])"
   ]
  },
  {
   "cell_type": "code",
   "execution_count": 11,
   "metadata": {},
   "outputs": [],
   "source": [
    "# 코드 3-6 손실과 측정을 함수 객체로 지정하기\n",
    "from keras import losses\n",
    "from keras import metrics\n",
    "\n",
    "model.compile(optimizer = optimizers.RMSprop(lr = 0.001),\n",
    "             loss = losses.binary_crossentropy,\n",
    "             metrics = [metrics.binary_accuracy])"
   ]
  },
  {
   "cell_type": "code",
   "execution_count": 12,
   "metadata": {},
   "outputs": [],
   "source": [
    "x_val = x_train[:10000]\n",
    "partial_x_train = x_train[10000:]\n",
    "y_val = y_train[:10000]\n",
    "partial_y_train = y_train[10000:]"
   ]
  },
  {
   "cell_type": "code",
   "execution_count": 13,
   "metadata": {},
   "outputs": [],
   "source": [
    "# 코드 3-8 모델 훈련하기\n",
    "model.compile(loss = \"binary_crossentropy\",\n",
    "             optimizer = \"rmsprop\",\n",
    "             metrics = [\"acc\"])"
   ]
  },
  {
   "cell_type": "code",
   "execution_count": 14,
   "metadata": {},
   "outputs": [
    {
     "name": "stdout",
     "output_type": "stream",
     "text": [
      "Train on 15000 samples, validate on 10000 samples\n",
      "Epoch 1/20\n",
      "15000/15000 [==============================] - 1s 64us/step - loss: 0.6295 - acc: 0.6407 - val_loss: 0.5232 - val_acc: 0.8484\n",
      "Epoch 2/20\n",
      "15000/15000 [==============================] - 1s 38us/step - loss: 0.5150 - acc: 0.7659 - val_loss: 0.4304 - val_acc: 0.8732\n",
      "Epoch 3/20\n",
      "15000/15000 [==============================] - 1s 36us/step - loss: 0.4346 - acc: 0.8253 - val_loss: 0.3629 - val_acc: 0.8768\n",
      "Epoch 4/20\n",
      "15000/15000 [==============================] - 1s 36us/step - loss: 0.3751 - acc: 0.8648 - val_loss: 0.3041 - val_acc: 0.8809\n",
      "Epoch 5/20\n",
      "15000/15000 [==============================] - 1s 36us/step - loss: 0.3254 - acc: 0.8877 - val_loss: 0.2924 - val_acc: 0.8886\n",
      "Epoch 6/20\n",
      "15000/15000 [==============================] - 1s 36us/step - loss: 0.2842 - acc: 0.9044 - val_loss: 0.2781 - val_acc: 0.8914\n",
      "Epoch 7/20\n",
      "15000/15000 [==============================] - 1s 36us/step - loss: 0.2456 - acc: 0.9188 - val_loss: 0.2761 - val_acc: 0.8928\n",
      "Epoch 8/20\n",
      "15000/15000 [==============================] - 1s 36us/step - loss: 0.2154 - acc: 0.9329 - val_loss: 0.3034 - val_acc: 0.8878\n",
      "Epoch 9/20\n",
      "15000/15000 [==============================] - 1s 36us/step - loss: 0.1930 - acc: 0.9357 - val_loss: 0.2971 - val_acc: 0.8921\n",
      "Epoch 10/20\n",
      "15000/15000 [==============================] - 1s 36us/step - loss: 0.1723 - acc: 0.9451 - val_loss: 0.3424 - val_acc: 0.8763\n",
      "Epoch 11/20\n",
      "15000/15000 [==============================] - 1s 36us/step - loss: 0.1531 - acc: 0.9521 - val_loss: 0.3392 - val_acc: 0.8879\n",
      "Epoch 12/20\n",
      "15000/15000 [==============================] - 1s 36us/step - loss: 0.1353 - acc: 0.9599 - val_loss: 0.3536 - val_acc: 0.8904\n",
      "Epoch 13/20\n",
      "15000/15000 [==============================] - 1s 35us/step - loss: 0.1234 - acc: 0.9609 - val_loss: 0.3695 - val_acc: 0.8900\n",
      "Epoch 14/20\n",
      "15000/15000 [==============================] - 1s 36us/step - loss: 0.1091 - acc: 0.9667 - val_loss: 0.4075 - val_acc: 0.8868\n",
      "Epoch 15/20\n",
      "15000/15000 [==============================] - 1s 36us/step - loss: 0.1018 - acc: 0.9674 - val_loss: 0.4303 - val_acc: 0.8876\n",
      "Epoch 16/20\n",
      "15000/15000 [==============================] - 1s 36us/step - loss: 0.0961 - acc: 0.9714 - val_loss: 0.4378 - val_acc: 0.8861\n",
      "Epoch 17/20\n",
      "15000/15000 [==============================] - 1s 37us/step - loss: 0.0885 - acc: 0.9738 - val_loss: 0.4784 - val_acc: 0.8863\n",
      "Epoch 18/20\n",
      "15000/15000 [==============================] - 1s 36us/step - loss: 0.0796 - acc: 0.9760 - val_loss: 0.5303 - val_acc: 0.8861\n",
      "Epoch 19/20\n",
      "15000/15000 [==============================] - 1s 36us/step - loss: 0.0823 - acc: 0.9751 - val_loss: 0.5451 - val_acc: 0.8865\n",
      "Epoch 20/20\n",
      "15000/15000 [==============================] - 1s 36us/step - loss: 0.0716 - acc: 0.9793 - val_loss: 0.5735 - val_acc: 0.8841\n"
     ]
    }
   ],
   "source": [
    "history = model.fit(partial_x_train,\n",
    "                   partial_y_train,\n",
    "                   epochs=20,\n",
    "                   batch_size=512,\n",
    "                   validation_data = (x_val, y_val))"
   ]
  },
  {
   "cell_type": "code",
   "execution_count": 17,
   "metadata": {},
   "outputs": [
    {
     "data": {
      "image/png": "[encoded data removed]",
      "text/plain": [
       "<Figure size 432x288 with 1 Axes>"
      ]
     },
     "metadata": {
      "needs_background": "light"
     },
     "output_type": "display_data"
    }
   ],
   "source": [
    "# 코드 3-9 훈련과 검증 손실 그리기\n",
    "import matplotlib.pyplot as plt\n",
    "\n",
    "loss = history.history[\"loss\"]\n",
    "val_loss = history.history[\"val_loss\"]\n",
    "\n",
    "epochs = range(1, len(loss) + 1)\n",
    "\n",
    "plt.plot(epochs, loss, \"bo\", label = \"Training_loss\")\n",
    "plt.plot(epochs, val_loss, \"b\", label = \"Validation_loss\")\n",
    "plt.title(\"Training and validation loss\")\n",
    "plt.xlabel(\"Epochs\")\n",
    "plt.ylabel(\"Loss\")\n",
    "plt.legend()\n",
    "\n",
    "plt.show()"
   ]
  },
  {
   "cell_type": "code",
   "execution_count": 16,
   "metadata": {},
   "outputs": [
    {
     "data": {
      "image/png": "[encoded data removed]",
      "text/plain": [
       "<Figure size 432x288 with 1 Axes>"
      ]
     },
     "metadata": {
      "needs_background": "light"
     },
     "output_type": "display_data"
    }
   ],
   "source": [
    "# 코드 3-10 훈련과 검증 정확도 그리기\n",
    "plt.clf() # 그래프 초기화\n",
    "acc = history.history[\"acc\"]\n",
    "val_acc = history.history[\"val_acc\"]\n",
    "\n",
    "plt.plot(epochs, acc, \"bo\", label = \"Training_acc\")\n",
    "plt.plot(epochs, val_acc, \"b\", label = \"Validation_acc\")\n",
    "plt.title(\"Training and validation accuracy\")\n",
    "plt.xlabel(\"Epochs\")\n",
    "plt.ylabel(\"Accuracy\")\n",
    "plt.legend()\n",
    "\n",
    "plt.show()"
   ]
  },
  {
   "cell_type": "code",
   "execution_count": 17,
   "metadata": {},
   "outputs": [
    {
     "name": "stdout",
     "output_type": "stream",
     "text": [
      "Epoch 1/4\n",
      "25000/25000 [==============================] - 1s 26us/step - loss: 0.4618 - accuracy: 0.8205\n",
      "Epoch 2/4\n",
      "25000/25000 [==============================] - 1s 24us/step - loss: 0.2670 - accuracy: 0.9068\n",
      "Epoch 3/4\n",
      "25000/25000 [==============================] - 1s 25us/step - loss: 0.2046 - accuracy: 0.9285\n",
      "Epoch 4/4\n",
      "25000/25000 [==============================] - 1s 24us/step - loss: 0.1704 - accuracy: 0.9391\n",
      "25000/25000 [==============================] - 3s 118us/step\n"
     ]
    }
   ],
   "source": [
    "# 코드 3-11 모델을 처음부터 다시 훈련하기\n",
    "model = models.Sequential()\n",
    "model.add(layers.Dense(16, activation = \"relu\", input_shape = (10000,)))\n",
    "model.add(layers.Dense(16, activation = \"relu\"))\n",
    "model.add(layers.Dense(1, activation = \"sigmoid\"))\n",
    "\n",
    "model.compile(loss = \"binary_crossentropy\",\n",
    "             optimizer = \"rmsprop\",\n",
    "             metrics = [\"accuracy\"])\n",
    "\n",
    "model.fit(x_train, y_train, epochs = 4, batch_size = 512)\n",
    "results = model.evaluate(x_test, y_test)"
   ]
  },
  {
   "cell_type": "code",
   "execution_count": 18,
   "metadata": {},
   "outputs": [
    {
     "data": {
      "text/plain": [
       "[0.2885281465435028, 0.8857200145721436]"
      ]
     },
     "execution_count": 18,
     "metadata": {},
     "output_type": "execute_result"
    }
   ],
   "source": [
    "results"
   ]
  },
  {
   "cell_type": "code",
   "execution_count": null,
   "metadata": {},
   "outputs": [],
   "source": []
  }
 ],
 "metadata": {
  "kernelspec": {
   "display_name": "Python 3",
   "language": "python",
   "name": "python3"
  },
  "language_info": {
   "codemirror_mode": {
    "name": "ipython",
    "version": 3
   },
   "file_extension": ".py",
   "mimetype": "text/x-python",
   "name": "python",
   "nbconvert_exporter": "python",
   "pygments_lexer": "ipython3",
   "version": "3.5.2"
  }
 },
 "nbformat": 4,
 "nbformat_minor": 2
}
