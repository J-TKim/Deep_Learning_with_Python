{
 "cells": [
  {
   "cell_type": "code",
   "execution_count": 1,
   "metadata": {},
   "outputs": [
    {
     "name": "stdout",
     "output_type": "stream",
     "text": [
      "1 Physical GPUs, 1 Logical GPUs\n"
     ]
    }
   ],
   "source": [
    "import tensorflow as tf\n",
    "\n",
    "gpus = tf.config.experimental.list_physical_devices('GPU')\n",
    "if gpus:\n",
    "  try:\n",
    "    # Currently, memory growth needs to be the same across GPUs\n",
    "    for gpu in gpus:\n",
    "      tf.config.experimental.set_memory_growth(gpu, True)\n",
    "    logical_gpus = tf.config.experimental.list_logical_devices('GPU')\n",
    "    print(len(gpus), \"Physical GPUs,\", len(logical_gpus), \"Logical GPUs\")\n",
    "  except RuntimeError as e:\n",
    "    # Memory growth must be set before GPUs have been initialized\n",
    "    print(e)"
   ]
  },
  {
   "cell_type": "code",
   "execution_count": 2,
   "metadata": {},
   "outputs": [],
   "source": [
    "# 코드 7-7 텐서보드를 사용한 텍스트 분류 모델\n",
    "import keras\n",
    "from keras import layers\n",
    "from keras.datasets import imdb\n",
    "from keras.preprocessing import sequence\n",
    "\n",
    "max_feature = 2000 #특성으로 사용할 단어의 수\n",
    "max_len = 500 #사용할 텐스트의 길이\n",
    "\n",
    "(x_train, y_train), (x_test, y_test) = imdb.load_data(num_words=max_feature)\n",
    "x_train = sequence.pad_sequences(x_train, maxlen=max_len)\n",
    "x_test = sequence.pad_sequences(x_test, maxlen=max_len)"
   ]
  },
  {
   "cell_type": "code",
   "execution_count": 3,
   "metadata": {},
   "outputs": [],
   "source": [
    "model = keras.models.Sequential()\n",
    "model.add(layers.Embedding(max_feature, 128,\n",
    "                          input_length=max_len,\n",
    "                          name = \"embed\"))\n",
    "model.add(layers.Conv1D(32, 7, activation=\"relu\"))\n",
    "model.add(layers.MaxPooling1D(5))\n",
    "model.add(layers.Conv1D(32, 7, activation=\"relu\"))\n",
    "model.add(layers.GlobalMaxPooling1D())\n",
    "model.add(layers.Dense(1))"
   ]
  },
  {
   "cell_type": "code",
   "execution_count": 4,
   "metadata": {},
   "outputs": [
    {
     "name": "stdout",
     "output_type": "stream",
     "text": [
      "Model: \"sequential\"\n",
      "_________________________________________________________________\n",
      "Layer (type)                 Output Shape              Param #   \n",
      "=================================================================\n",
      "embed (Embedding)            (None, 500, 128)          256000    \n",
      "_________________________________________________________________\n",
      "conv1d (Conv1D)              (None, 494, 32)           28704     \n",
      "_________________________________________________________________\n",
      "max_pooling1d (MaxPooling1D) (None, 98, 32)            0         \n",
      "_________________________________________________________________\n",
      "conv1d_1 (Conv1D)            (None, 92, 32)            7200      \n",
      "_________________________________________________________________\n",
      "global_max_pooling1d (Global (None, 32)                0         \n",
      "_________________________________________________________________\n",
      "dense (Dense)                (None, 1)                 33        \n",
      "=================================================================\n",
      "Total params: 291,937\n",
      "Trainable params: 291,937\n",
      "Non-trainable params: 0\n",
      "_________________________________________________________________\n"
     ]
    }
   ],
   "source": [
    "model.summary()"
   ]
  },
  {
   "cell_type": "code",
   "execution_count": 5,
   "metadata": {},
   "outputs": [],
   "source": [
    "model.compile(optimizer=\"rmsprop\",\n",
    "             loss = \"binary_crossentropy\",\n",
    "             metrics = [\"acc\"])"
   ]
  },
  {
   "cell_type": "code",
   "execution_count": 6,
   "metadata": {},
   "outputs": [
    {
     "name": "stdout",
     "output_type": "stream",
     "text": [
      "mkdir: cannot create directory ‘my_log_dir’: File exists\r\n"
     ]
    }
   ],
   "source": [
    "# 코드 7-8 텐서보드 로그 파일을 위한 디텍터리 생성하기\n",
    "%mkdir my_log_dir"
   ]
  },
  {
   "cell_type": "code",
   "execution_count": 7,
   "metadata": {},
   "outputs": [],
   "source": [
    "# 코드 7-9 텐서보드 콜백화 함께 모델 훈련하기\n",
    "callbacks = [\n",
    "    keras.callbacks.TensorBoard(log_dir=\"my_log_dir\", # 로그 파일이 기록될 위치\n",
    "                               histogram_freq=1, # 1 에포크마다 활성화 출력의 히스토그램을 기록\n",
    "                               embeddings_freq=1) # 1 에포크마다 임베딩 데이터를 기록\n",
    "]"
   ]
  },
  {
   "cell_type": "code",
   "execution_count": 8,
   "metadata": {},
   "outputs": [
    {
     "name": "stdout",
     "output_type": "stream",
     "text": [
      "Epoch 1/20\n",
      "157/157 [==============================] - 4s 25ms/step - acc: 0.7032 - loss: 0.5698 - val_loss: 0.4201 - val_acc: 0.8468\n",
      "Epoch 2/20\n",
      "157/157 [==============================] - 4s 24ms/step - acc: 0.8585 - loss: 0.4110 - val_loss: 0.5444 - val_acc: 0.8462\n",
      "Epoch 3/20\n",
      "157/157 [==============================] - 4s 24ms/step - acc: 0.8832 - loss: 0.3525 - val_loss: 0.4591 - val_acc: 0.8668\n",
      "Epoch 4/20\n",
      "157/157 [==============================] - 4s 25ms/step - acc: 0.9021 - loss: 0.3082 - val_loss: 0.5087 - val_acc: 0.8698\n",
      "Epoch 5/20\n",
      "157/157 [==============================] - 4s 23ms/step - acc: 0.9225 - loss: 0.2915 - val_loss: 0.4853 - val_acc: 0.8706\n",
      "Epoch 6/20\n",
      "157/157 [==============================] - 4s 24ms/step - acc: 0.9424 - loss: 0.2279 - val_loss: 1.1348 - val_acc: 0.7966\n",
      "Epoch 7/20\n",
      "157/157 [==============================] - 4s 25ms/step - acc: 0.9527 - loss: 0.1931 - val_loss: 0.7100 - val_acc: 0.8626\n",
      "Epoch 8/20\n",
      "157/157 [==============================] - 4s 25ms/step - acc: 0.9707 - loss: 0.1532 - val_loss: 0.7530 - val_acc: 0.8706\n",
      "Epoch 9/20\n",
      "157/157 [==============================] - 4s 24ms/step - acc: 0.9814 - loss: 0.1260 - val_loss: 1.1259 - val_acc: 0.8444\n",
      "Epoch 10/20\n",
      "157/157 [==============================] - 4s 24ms/step - acc: 0.9862 - loss: 0.1142 - val_loss: 0.8589 - val_acc: 0.8710\n",
      "Epoch 11/20\n",
      "157/157 [==============================] - 4s 26ms/step - acc: 0.9930 - loss: 0.0884 - val_loss: 0.8878 - val_acc: 0.8758\n",
      "Epoch 12/20\n",
      "157/157 [==============================] - 4s 25ms/step - acc: 0.9894 - loss: 0.0924 - val_loss: 0.9155 - val_acc: 0.8714\n",
      "Epoch 13/20\n",
      "157/157 [==============================] - 4s 26ms/step - acc: 0.9916 - loss: 0.0876 - val_loss: 1.6607 - val_acc: 0.8124\n",
      "Epoch 14/20\n",
      "157/157 [==============================] - 4s 24ms/step - acc: 0.9909 - loss: 0.0881 - val_loss: 0.9983 - val_acc: 0.8698\n",
      "Epoch 15/20\n",
      "157/157 [==============================] - 4s 24ms/step - acc: 0.9916 - loss: 0.0868 - val_loss: 1.0678 - val_acc: 0.8728\n",
      "Epoch 16/20\n",
      "157/157 [==============================] - 4s 23ms/step - acc: 0.9919 - loss: 0.0842 - val_loss: 1.0617 - val_acc: 0.8752\n",
      "Epoch 17/20\n",
      "157/157 [==============================] - 4s 24ms/step - acc: 0.9931 - loss: 0.0802 - val_loss: 1.0505 - val_acc: 0.8712\n",
      "Epoch 18/20\n",
      "157/157 [==============================] - 4s 24ms/step - acc: 0.9923 - loss: 0.0840 - val_loss: 1.1427 - val_acc: 0.8730\n",
      "Epoch 19/20\n",
      "157/157 [==============================] - 4s 25ms/step - acc: 0.9938 - loss: 0.0788 - val_loss: 1.1479 - val_acc: 0.8710\n",
      "Epoch 20/20\n",
      "157/157 [==============================] - 4s 24ms/step - acc: 0.9933 - loss: 0.0805 - val_loss: 1.1644 - val_acc: 0.8718\n"
     ]
    }
   ],
   "source": [
    "history = model.fit(x_train, y_train,\n",
    "                   epochs = 20,\n",
    "                   batch_size = 128,\n",
    "                   validation_split=0.2,\n",
    "                   callbacks=callbacks)"
   ]
  },
  {
   "cell_type": "code",
   "execution_count": 14,
   "metadata": {},
   "outputs": [
    {
     "name": "stderr",
     "output_type": "stream",
     "text": [
      "UsageError: Line magic function `%tensorboard` not found.\n"
     ]
    }
   ],
   "source": [
    "%tensorboard --logdir=my_log_dir"
   ]
  },
  {
   "cell_type": "code",
   "execution_count": null,
   "metadata": {},
   "outputs": [],
   "source": []
  }
 ],
 "metadata": {
  "kernelspec": {
   "display_name": "Python 3",
   "language": "python",
   "name": "python3"
  },
  "language_info": {
   "codemirror_mode": {
    "name": "ipython",
    "version": 3
   },
   "file_extension": ".py",
   "mimetype": "text/x-python",
   "name": "python",
   "nbconvert_exporter": "python",
   "pygments_lexer": "ipython3",
   "version": "3.5.2"
  }
 },
 "nbformat": 4,
 "nbformat_minor": 2
}
