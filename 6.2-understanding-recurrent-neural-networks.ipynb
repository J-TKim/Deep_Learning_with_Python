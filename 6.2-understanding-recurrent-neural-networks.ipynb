{
 "cells": [
  {
   "cell_type": "code",
   "execution_count": 3,
   "metadata": {},
   "outputs": [
    {
     "data": {
      "text/plain": [
       "'\\nstate_t = 0 # 타임스텝 t의 상태입니다\\nfor input_t in input_sequence: # 시퀀스의 원소를 반복합니다\\n    output_t = f(input_t, state_t)\\n    state_t = output_t\\n'"
      ]
     },
     "execution_count": 3,
     "metadata": {},
     "output_type": "execute_result"
    }
   ],
   "source": [
    "# 코드 6-19 의사코드로 표현한 RNN\n",
    "\"\"\"\n",
    "state_t = 0 # 타임스텝 t의 상태입니다\n",
    "for input_t in input_sequence: # 시퀀스의 원소를 반복합니다\n",
    "    output_t = f(input_t, state_t)\n",
    "    state_t = output_t\n",
    "\"\"\""
   ]
  },
  {
   "cell_type": "code",
   "execution_count": 4,
   "metadata": {},
   "outputs": [
    {
     "data": {
      "text/plain": [
       "'\\nstate_t = 0\\nfor input_t in input_sequence:\\n    output_t = activation(dot(W, input_t) + dot(U, state_t) + b)\\n    state_t = output_t\\n'"
      ]
     },
     "execution_count": 4,
     "metadata": {},
     "output_type": "execute_result"
    }
   ],
   "source": [
    "# 코드 6-20 좀 더 자세한 의사코드로 표현한 RNN\n",
    "\"\"\"\n",
    "state_t = 0\n",
    "for input_t in input_sequence:\n",
    "    output_t = activation(dot(W, input_t) + dot(U, state_t) + b)\n",
    "    state_t = output_t\n",
    "\"\"\""
   ]
  },
  {
   "cell_type": "code",
   "execution_count": 5,
   "metadata": {},
   "outputs": [],
   "source": [
    "# 코드 6-21 넘파이로 구현한 간단한 RNN\n",
    "import numpy as np\n",
    "\n",
    "timesteps = 100 # 입력 시퀀스에 있는 타임스텝의 수\n",
    "input_features = 32 # 입력 특성의 차원\n",
    "output_features = 64 # 출력 특성의 차원\n",
    "\n",
    "inputs = np.random.random((timesteps, input_features)) # 입력 데이터 : 예제를 위해 생성한 난수\n",
    "\n",
    "state_t = np.zeros((output_features,)) # 초기 상태 : 모두 0안 벡터\n",
    "\n",
    "# 랜덤한 가중치 행렬을 만듭니다\n",
    "W = np.random.random((output_features, input_features))\n",
    "U = np.random.random((output_features, output_features))\n",
    "b = np.random.random((output_features,))\n",
    "\n",
    "successive_outputs = []\n",
    "for input_t in inputs: # input_t는 크기가 (input_features,)인 벡터입니다\n",
    "    output_t = np.tanh(np.dot(W, input_t) + np.dot(U, state_t) + b) # 입력과 현재 상태(이전 출력)를 연결하여 현재 출력을 얻습니다\n",
    "    \n",
    "    successive_outputs.append(output_t) # 이 출력을 리스트에 저장합니다\n",
    "    \n",
    "    state_t = output_t # 다음 타임스텝을 위해 네트워크의 상태를 업데이트합니다\n",
    "\n",
    "final_output_sequence = np.stack(successive_outputs, axis = 0) # 최종 출력은 크기가 (timesteps, output_features)인 2D 텐서입니다."
   ]
  },
  {
   "cell_type": "code",
   "execution_count": 7,
   "metadata": {},
   "outputs": [],
   "source": [
    "from keras.layers import SimpleRNN, Embedding\n",
    "from keras.models import Sequential"
   ]
  },
  {
   "cell_type": "code",
   "execution_count": 8,
   "metadata": {},
   "outputs": [],
   "source": [
    "model = Sequential()\n",
    "model.add(Embedding(10000, 32))\n",
    "model.add(SimpleRNN(32))"
   ]
  },
  {
   "cell_type": "code",
   "execution_count": 9,
   "metadata": {},
   "outputs": [
    {
     "name": "stdout",
     "output_type": "stream",
     "text": [
      "Model: \"sequential\"\n",
      "_________________________________________________________________\n",
      "Layer (type)                 Output Shape              Param #   \n",
      "=================================================================\n",
      "embedding (Embedding)        (None, None, 32)          320000    \n",
      "_________________________________________________________________\n",
      "simple_rnn (SimpleRNN)       (None, 32)                2080      \n",
      "=================================================================\n",
      "Total params: 322,080\n",
      "Trainable params: 322,080\n",
      "Non-trainable params: 0\n",
      "_________________________________________________________________\n"
     ]
    }
   ],
   "source": [
    "model.summary()"
   ]
  },
  {
   "cell_type": "code",
   "execution_count": 10,
   "metadata": {},
   "outputs": [],
   "source": [
    "model = Sequential()\n",
    "model.add(Embedding(10000, 32))\n",
    "model.add(SimpleRNN(32, return_sequences = True))"
   ]
  },
  {
   "cell_type": "code",
   "execution_count": 11,
   "metadata": {},
   "outputs": [
    {
     "name": "stdout",
     "output_type": "stream",
     "text": [
      "Model: \"sequential_1\"\n",
      "_________________________________________________________________\n",
      "Layer (type)                 Output Shape              Param #   \n",
      "=================================================================\n",
      "embedding_1 (Embedding)      (None, None, 32)          320000    \n",
      "_________________________________________________________________\n",
      "simple_rnn_1 (SimpleRNN)     (None, None, 32)          2080      \n",
      "=================================================================\n",
      "Total params: 322,080\n",
      "Trainable params: 322,080\n",
      "Non-trainable params: 0\n",
      "_________________________________________________________________\n"
     ]
    }
   ],
   "source": [
    "model.summary()"
   ]
  },
  {
   "cell_type": "code",
   "execution_count": 13,
   "metadata": {},
   "outputs": [],
   "source": [
    "model = Sequential()\n",
    "model.add(Embedding(10000, 32))\n",
    "model.add(SimpleRNN(32, return_sequences = True))\n",
    "model.add(SimpleRNN(32, return_sequences = True))\n",
    "model.add(SimpleRNN(32, return_sequences = True))\n",
    "model.add(SimpleRNN(32))"
   ]
  },
  {
   "cell_type": "code",
   "execution_count": 14,
   "metadata": {},
   "outputs": [
    {
     "name": "stdout",
     "output_type": "stream",
     "text": [
      "Model: \"sequential_3\"\n",
      "_________________________________________________________________\n",
      "Layer (type)                 Output Shape              Param #   \n",
      "=================================================================\n",
      "embedding_3 (Embedding)      (None, None, 32)          320000    \n",
      "_________________________________________________________________\n",
      "simple_rnn_3 (SimpleRNN)     (None, None, 32)          2080      \n",
      "_________________________________________________________________\n",
      "simple_rnn_4 (SimpleRNN)     (None, None, 32)          2080      \n",
      "_________________________________________________________________\n",
      "simple_rnn_5 (SimpleRNN)     (None, None, 32)          2080      \n",
      "_________________________________________________________________\n",
      "simple_rnn_6 (SimpleRNN)     (None, 32)                2080      \n",
      "=================================================================\n",
      "Total params: 328,320\n",
      "Trainable params: 328,320\n",
      "Non-trainable params: 0\n",
      "_________________________________________________________________\n"
     ]
    }
   ],
   "source": [
    "model.summary()"
   ]
  },
  {
   "cell_type": "code",
   "execution_count": 38,
   "metadata": {},
   "outputs": [
    {
     "name": "stdout",
     "output_type": "stream",
     "text": [
      "데이터 로딩...\n",
      "25000 훈련 시퀀스\n",
      "25000 테스트 시퀀스\n",
      "시퀀스 패딩 (samples x time)\n",
      "input_train 크기 : (25000, 500)\n",
      "input_test 크기 : (25000, 500)\n"
     ]
    }
   ],
   "source": [
    "# 코드 6-22 IMDB 데이터 전처리하기\n",
    "from keras.datasets import imdb\n",
    "from keras.preprocessing import sequence\n",
    "\n",
    "max_features = 10000 # 특성으로 사용할 단어의 수\n",
    "maxlen = 500 # 사용할 텍스트의 길이(가장 빈번한 max_features개의 단어만 사용합니다)\n",
    "batch_size = 32\n",
    "\n",
    "print(\"데이터 로딩...\")\n",
    "(input_train, y_train), (input_test, y_test) = imdb.load_data(num_words = max_features)\n",
    "print(len(input_train), \"훈련 시퀀스\")\n",
    "print(len(input_test), \"테스트 시퀀스\")\n",
    "\n",
    "print(\"시퀀스 패딩 (samples x time)\")\n",
    "\n",
    "input_train = sequence.pad_sequences(input_train, maxlen=maxlen)\n",
    "input_test = sequence.pad_sequences(input_test, maxlen=maxlen)\n",
    "print(\"input_train 크기 :\", input_train.shape)\n",
    "print(\"input_test 크기 :\", input_test.shape)"
   ]
  },
  {
   "cell_type": "code",
   "execution_count": 17,
   "metadata": {},
   "outputs": [],
   "source": [
    "# 코드 6-23 Embedding 층과 SimpleRNN 층을 사용한 모델 훈련하기\n",
    "from keras.layers import Dense\n",
    "\n",
    "model = Sequential()\n",
    "model.add(Embedding(max_features, 32))\n",
    "model.add(SimpleRNN(32))\n",
    "model.add(Dense(1, activation = \"sigmoid\"))"
   ]
  },
  {
   "cell_type": "code",
   "execution_count": 22,
   "metadata": {},
   "outputs": [],
   "source": [
    "model.compile(loss = \"binary_crossentropy\",\n",
    "             optimizer = \"rmsprop\",\n",
    "             metrics = [\"acc\"])"
   ]
  },
  {
   "cell_type": "code",
   "execution_count": 23,
   "metadata": {},
   "outputs": [
    {
     "name": "stdout",
     "output_type": "stream",
     "text": [
      "Epoch 1/10\n",
      "157/157 [==============================] - 23s 145ms/step - loss: 0.6177 - acc: 0.6438 - val_acc: 0.8026 - val_loss: 0.4460\n",
      "Epoch 2/10\n",
      "157/157 [==============================] - 23s 144ms/step - loss: 0.3792 - acc: 0.8406 - val_acc: 0.7998 - val_loss: 0.4374\n",
      "Epoch 3/10\n",
      "157/157 [==============================] - 23s 144ms/step - loss: 0.2735 - acc: 0.8917 - val_acc: 0.8344 - val_loss: 0.3786\n",
      "Epoch 4/10\n",
      "157/157 [==============================] - 23s 144ms/step - loss: 0.2174 - acc: 0.9194 - val_acc: 0.7984 - val_loss: 0.6008\n",
      "Epoch 5/10\n",
      "157/157 [==============================] - 23s 144ms/step - loss: 0.1703 - acc: 0.9383 - val_acc: 0.8478 - val_loss: 0.3870\n",
      "Epoch 6/10\n",
      "157/157 [==============================] - 23s 144ms/step - loss: 0.1254 - acc: 0.9546 - val_acc: 0.8660 - val_loss: 0.4213\n",
      "Epoch 7/10\n",
      "157/157 [==============================] - 23s 144ms/step - loss: 0.0894 - acc: 0.9699 - val_acc: 0.8396 - val_loss: 0.4483\n",
      "Epoch 8/10\n",
      "157/157 [==============================] - 23s 144ms/step - loss: 0.0669 - acc: 0.9782 - val_acc: 0.7592 - val_loss: 0.6432\n",
      "Epoch 9/10\n",
      "157/157 [==============================] - 23s 145ms/step - loss: 0.0444 - acc: 0.9865 - val_acc: 0.8606 - val_loss: 0.4991\n",
      "Epoch 10/10\n",
      "157/157 [==============================] - 23s 145ms/step - loss: 0.0294 - acc: 0.9904 - val_acc: 0.8168 - val_loss: 0.6035\n"
     ]
    }
   ],
   "source": [
    "history = model.fit(input_train, y_train,\n",
    "                   epochs = 10,\n",
    "                   batch_size=128,\n",
    "                   validation_split = 0.2)"
   ]
  },
  {
   "cell_type": "code",
   "execution_count": 27,
   "metadata": {},
   "outputs": [
    {
     "data": {
      "image/png": "[encoded data removed]",
      "text/plain": [
       "<Figure size 432x288 with 1 Axes>"
      ]
     },
     "metadata": {
      "needs_background": "light"
     },
     "output_type": "display_data"
    },
    {
     "data": {
      "image/png": "[encoded data removed]",
      "text/plain": [
       "<Figure size 432x288 with 1 Axes>"
      ]
     },
     "metadata": {
      "needs_background": "light"
     },
     "output_type": "display_data"
    }
   ],
   "source": [
    "# 코드 6-24 결과 그래프 그리기\n",
    "import matplotlib.pyplot as plt\n",
    "\n",
    "acc = history.history[\"acc\"]\n",
    "val_acc = history.history[\"val_acc\"]\n",
    "loss = history.history[\"loss\"]\n",
    "val_loss = history.history[\"val_loss\"]\n",
    "\n",
    "epochs = range(1, len(acc) + 1)\n",
    "\n",
    "plt.plot(epochs, acc, \"bo\", label = \"Training acc\")\n",
    "plt.plot(epochs, val_acc, \"b\", label = \"Validation acc\")\n",
    "plt.title(\"Training and validation accuracy\")\n",
    "plt.legend()\n",
    "\n",
    "plt.figure()\n",
    "\n",
    "plt.plot(epochs, loss, \"bo\", label = \"Training loss\")\n",
    "plt.plot(epochs, val_loss, \"b\", label = \"Validation loss\")\n",
    "plt.title(\"Traning and validation loss\")\n",
    "plt.legend()\n",
    "\n",
    "plt.show()"
   ]
  },
  {
   "cell_type": "code",
   "execution_count": 29,
   "metadata": {},
   "outputs": [
    {
     "data": {
      "text/plain": [
       "'\\noutput_t = activation(c_t) * activation(dot(input_t, Wo) + dot(state_t, Uo) + bo)\\n\\ni_t = activation(dot(state_t, Ui) + dot(input_t, Wi) + bi)\\nf_t = activation(dot(state_t, Uf) + dot(input_t, Wf) + bi)\\nk_t = activation(dot(state_t, Uk) + dot(input_t, Wk) + bi)\\n'"
      ]
     },
     "execution_count": 29,
     "metadata": {},
     "output_type": "execute_result"
    }
   ],
   "source": [
    "# 코드 6-25 LSTM 구조의 의사코드 (1/2)\n",
    "\"\"\"\n",
    "output_t = activation(c_t) * activation(dot(input_t, Wo) + dot(state_t, Uo) + bo)\n",
    "\n",
    "i_t = activation(dot(state_t, Ui) + dot(input_t, Wi) + bi)\n",
    "f_t = activation(dot(state_t, Uf) + dot(input_t, Wf) + bi)\n",
    "k_t = activation(dot(state_t, Uk) + dot(input_t, Wk) + bi)\n",
    "\"\"\""
   ]
  },
  {
   "cell_type": "code",
   "execution_count": 30,
   "metadata": {},
   "outputs": [
    {
     "data": {
      "text/plain": [
       "'\\nc_t + 1 = i_t * k_t + c_t * f_t\\n'"
      ]
     },
     "execution_count": 30,
     "metadata": {},
     "output_type": "execute_result"
    }
   ],
   "source": [
    "# 코드 6-26 LSTM 구조의 의사코드 (2/2)\n",
    "\"\"\"\n",
    "c_t + 1 = i_t * k_t + c_t * f_t\n",
    "\"\"\""
   ]
  },
  {
   "cell_type": "code",
   "execution_count": 51,
   "metadata": {},
   "outputs": [],
   "source": [
    "# 코드 6-27 케라스에서 작동하는 LSTM층 사용하기\n",
    "from keras.layers import LSTMCell, RNN\n",
    "\n",
    "model = Sequential()\n",
    "model.add(Embedding(max_features, 32))\n",
    "cell = LSTMCell(32)\n",
    "model.add(RNN(cell))\n",
    "model.add(Dense(1, activation = \"sigmoid\"))"
   ]
  },
  {
   "cell_type": "code",
   "execution_count": 52,
   "metadata": {},
   "outputs": [],
   "source": [
    "model.compile(loss =\"binary_crossentropy\",\n",
    "             optimizer = \"rmsprop\",\n",
    "             metrics = [\"acc\"])"
   ]
  },
  {
   "cell_type": "code",
   "execution_count": 53,
   "metadata": {},
   "outputs": [
    {
     "name": "stdout",
     "output_type": "stream",
     "text": [
      "Epoch 1/10\n",
      "157/157 [==============================] - 48s 303ms/step - loss: 0.4944 - acc: 0.7667 - val_acc: 0.8742 - val_loss: 0.3121\n",
      "Epoch 2/10\n",
      "157/157 [==============================] - 47s 302ms/step - loss: 0.2930 - acc: 0.8881 - val_acc: 0.8566 - val_loss: 0.3435\n",
      "Epoch 3/10\n",
      "157/157 [==============================] - 47s 302ms/step - loss: 0.2349 - acc: 0.9112 - val_acc: 0.8742 - val_loss: 0.2940\n",
      "Epoch 4/10\n",
      "157/157 [==============================] - 47s 302ms/step - loss: 0.2000 - acc: 0.9262 - val_acc: 0.8638 - val_loss: 0.3295\n",
      "Epoch 5/10\n",
      "157/157 [==============================] - 47s 302ms/step - loss: 0.1763 - acc: 0.9369 - val_acc: 0.8430 - val_loss: 0.3577\n",
      "Epoch 6/10\n",
      "157/157 [==============================] - 47s 302ms/step - loss: 0.1589 - acc: 0.9435 - val_acc: 0.8494 - val_loss: 0.3873\n",
      "Epoch 7/10\n",
      "157/157 [==============================] - 47s 301ms/step - loss: 0.1438 - acc: 0.9494 - val_acc: 0.8828 - val_loss: 0.3393\n",
      "Epoch 8/10\n",
      "157/157 [==============================] - 47s 302ms/step - loss: 0.1329 - acc: 0.9540 - val_acc: 0.8716 - val_loss: 0.3527\n",
      "Epoch 9/10\n",
      "157/157 [==============================] - 47s 302ms/step - loss: 0.1196 - acc: 0.9593 - val_acc: 0.8806 - val_loss: 0.3362\n",
      "Epoch 10/10\n",
      "157/157 [==============================] - 48s 303ms/step - loss: 0.1116 - acc: 0.9607 - val_acc: 0.8824 - val_loss: 0.3710\n"
     ]
    }
   ],
   "source": [
    "history = model.fit(input_train, y_train,\n",
    "                   epochs = 10,\n",
    "                   batch_size = 128,\n",
    "                   validation_split=0.2)"
   ]
  },
  {
   "cell_type": "code",
   "execution_count": 54,
   "metadata": {},
   "outputs": [
    {
     "data": {
      "image/png": "[encoded data removed]",
      "text/plain": [
       "<Figure size 432x288 with 1 Axes>"
      ]
     },
     "metadata": {
      "needs_background": "light"
     },
     "output_type": "display_data"
    },
    {
     "data": {
      "image/png": "[encoded data removed]",
      "text/plain": [
       "<Figure size 432x288 with 1 Axes>"
      ]
     },
     "metadata": {
      "needs_background": "light"
     },
     "output_type": "display_data"
    }
   ],
   "source": [
    "import matplotlib.pyplot as plt\n",
    "\n",
    "acc = history.history[\"acc\"]\n",
    "val_acc = history.history[\"val_acc\"]\n",
    "loss = history.history[\"loss\"]\n",
    "val_loss = history.history[\"val_loss\"]\n",
    "\n",
    "epochs = range(1, len(acc) + 1)\n",
    "\n",
    "plt.plot(epochs, acc, \"bo\", label = \"Training acc\")\n",
    "plt.plot(epochs, val_acc, \"b\", label = \"Validation acc\")\n",
    "plt.title(\"Training and validation accuracy\")\n",
    "plt.legend()\n",
    "\n",
    "plt.figure()\n",
    "\n",
    "plt.plot(epochs, loss, \"bo\", label = \"Training loss\")\n",
    "plt.plot(epochs, val_loss, \"b\", label = \"Validation loss\")\n",
    "plt.title(\"Traning and validation loss\")\n",
    "plt.legend()\n",
    "\n",
    "plt.show()"
   ]
  },
  {
   "cell_type": "code",
   "execution_count": null,
   "metadata": {},
   "outputs": [],
   "source": []
  }
 ],
 "metadata": {
  "kernelspec": {
   "display_name": "Python 3",
   "language": "python",
   "name": "python3"
  },
  "language_info": {
   "codemirror_mode": {
    "name": "ipython",
    "version": 3
   },
   "file_extension": ".py",
   "mimetype": "text/x-python",
   "name": "python",
   "nbconvert_exporter": "python",
   "pygments_lexer": "ipython3",
   "version": "3.5.2"
  }
 },
 "nbformat": 4,
 "nbformat_minor": 2
}
